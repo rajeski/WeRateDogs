{
 "cells": [
  {
   "cell_type": "markdown",
   "metadata": {},
   "source": [
    "## Data Wrangling - @WeRateDogs\n",
    "\n",
    "### Table of Contents\n",
    "- [Introduction] \n",
    "\n",
    "- [Data gathering]\n",
    "\n",
    "- [Data assessment]\n",
    "    - [Quality]\n",
    "    - [Tidiness]\n",
    "    - [Unexpected results]\n",
    "\n",
    "- [Data Cleaning]\n",
    "- [Data Insights]\n",
    "- [Data Visualization]\n",
    "\n",
    "<a id='intro'></a>\n",
    "\n",
    "#### Project: Wrangle; clean; analyze and report findings for Twitter archive of the profile for @WeRateDogs\n",
    "##### Set-up"
   ]
  },
  {
   "cell_type": "code",
   "execution_count": 1,
   "metadata": {},
   "outputs": [],
   "source": [
    "# Import required software packages \n",
    "import pandas as pd\n",
    "import numpy as np\n",
    "import requests\n",
    "import os\n",
    "import tweepy\n",
    "import json\n",
    "import re\n",
    "from IPython.display import HTML\n",
    "import math\n",
    "import time \n",
    "import seaborn as sns"
   ]
  },
  {
   "cell_type": "markdown",
   "metadata": {},
   "source": [
    "## Twitter data collection / preliminary review"
   ]
  },
  {
   "cell_type": "code",
   "execution_count": 2,
   "metadata": {},
   "outputs": [],
   "source": [
    "# Import Twitter CSV-file / create DataFrame\n",
    "twitter_archive_df = pd.read_csv('twitter-archive-enhanced.csv')"
   ]
  },
  {
   "cell_type": "code",
   "execution_count": 3,
   "metadata": {},
   "outputs": [
    {
     "data": {
      "text/html": [
       "<div>\n",
       "<style scoped>\n",
       "    .dataframe tbody tr th:only-of-type {\n",
       "        vertical-align: middle;\n",
       "    }\n",
       "\n",
       "    .dataframe tbody tr th {\n",
       "        vertical-align: top;\n",
       "    }\n",
       "\n",
       "    .dataframe thead th {\n",
       "        text-align: right;\n",
       "    }\n",
       "</style>\n",
       "<table border=\"1\" class=\"dataframe\">\n",
       "  <thead>\n",
       "    <tr style=\"text-align: right;\">\n",
       "      <th></th>\n",
       "      <th>tweet_id</th>\n",
       "      <th>in_reply_to_status_id</th>\n",
       "      <th>in_reply_to_user_id</th>\n",
       "      <th>retweeted_status_id</th>\n",
       "      <th>retweeted_status_user_id</th>\n",
       "      <th>rating_numerator</th>\n",
       "      <th>rating_denominator</th>\n",
       "    </tr>\n",
       "  </thead>\n",
       "  <tbody>\n",
       "    <tr>\n",
       "      <th>count</th>\n",
       "      <td>2.356000e+03</td>\n",
       "      <td>7.800000e+01</td>\n",
       "      <td>7.800000e+01</td>\n",
       "      <td>1.810000e+02</td>\n",
       "      <td>1.810000e+02</td>\n",
       "      <td>2356.000000</td>\n",
       "      <td>2356.000000</td>\n",
       "    </tr>\n",
       "    <tr>\n",
       "      <th>mean</th>\n",
       "      <td>7.427716e+17</td>\n",
       "      <td>7.455079e+17</td>\n",
       "      <td>2.014171e+16</td>\n",
       "      <td>7.720400e+17</td>\n",
       "      <td>1.241698e+16</td>\n",
       "      <td>13.126486</td>\n",
       "      <td>10.455433</td>\n",
       "    </tr>\n",
       "    <tr>\n",
       "      <th>std</th>\n",
       "      <td>6.856705e+16</td>\n",
       "      <td>7.582492e+16</td>\n",
       "      <td>1.252797e+17</td>\n",
       "      <td>6.236928e+16</td>\n",
       "      <td>9.599254e+16</td>\n",
       "      <td>45.876648</td>\n",
       "      <td>6.745237</td>\n",
       "    </tr>\n",
       "    <tr>\n",
       "      <th>min</th>\n",
       "      <td>6.660209e+17</td>\n",
       "      <td>6.658147e+17</td>\n",
       "      <td>1.185634e+07</td>\n",
       "      <td>6.661041e+17</td>\n",
       "      <td>7.832140e+05</td>\n",
       "      <td>0.000000</td>\n",
       "      <td>0.000000</td>\n",
       "    </tr>\n",
       "    <tr>\n",
       "      <th>25%</th>\n",
       "      <td>6.783989e+17</td>\n",
       "      <td>6.757419e+17</td>\n",
       "      <td>3.086374e+08</td>\n",
       "      <td>7.186315e+17</td>\n",
       "      <td>4.196984e+09</td>\n",
       "      <td>10.000000</td>\n",
       "      <td>10.000000</td>\n",
       "    </tr>\n",
       "    <tr>\n",
       "      <th>50%</th>\n",
       "      <td>7.196279e+17</td>\n",
       "      <td>7.038708e+17</td>\n",
       "      <td>4.196984e+09</td>\n",
       "      <td>7.804657e+17</td>\n",
       "      <td>4.196984e+09</td>\n",
       "      <td>11.000000</td>\n",
       "      <td>10.000000</td>\n",
       "    </tr>\n",
       "    <tr>\n",
       "      <th>75%</th>\n",
       "      <td>7.993373e+17</td>\n",
       "      <td>8.257804e+17</td>\n",
       "      <td>4.196984e+09</td>\n",
       "      <td>8.203146e+17</td>\n",
       "      <td>4.196984e+09</td>\n",
       "      <td>12.000000</td>\n",
       "      <td>10.000000</td>\n",
       "    </tr>\n",
       "    <tr>\n",
       "      <th>max</th>\n",
       "      <td>8.924206e+17</td>\n",
       "      <td>8.862664e+17</td>\n",
       "      <td>8.405479e+17</td>\n",
       "      <td>8.874740e+17</td>\n",
       "      <td>7.874618e+17</td>\n",
       "      <td>1776.000000</td>\n",
       "      <td>170.000000</td>\n",
       "    </tr>\n",
       "  </tbody>\n",
       "</table>\n",
       "</div>"
      ],
      "text/plain": [
       "           tweet_id  in_reply_to_status_id  in_reply_to_user_id  \\\n",
       "count  2.356000e+03           7.800000e+01         7.800000e+01   \n",
       "mean   7.427716e+17           7.455079e+17         2.014171e+16   \n",
       "std    6.856705e+16           7.582492e+16         1.252797e+17   \n",
       "min    6.660209e+17           6.658147e+17         1.185634e+07   \n",
       "25%    6.783989e+17           6.757419e+17         3.086374e+08   \n",
       "50%    7.196279e+17           7.038708e+17         4.196984e+09   \n",
       "75%    7.993373e+17           8.257804e+17         4.196984e+09   \n",
       "max    8.924206e+17           8.862664e+17         8.405479e+17   \n",
       "\n",
       "       retweeted_status_id  retweeted_status_user_id  rating_numerator  \\\n",
       "count         1.810000e+02              1.810000e+02       2356.000000   \n",
       "mean          7.720400e+17              1.241698e+16         13.126486   \n",
       "std           6.236928e+16              9.599254e+16         45.876648   \n",
       "min           6.661041e+17              7.832140e+05          0.000000   \n",
       "25%           7.186315e+17              4.196984e+09         10.000000   \n",
       "50%           7.804657e+17              4.196984e+09         11.000000   \n",
       "75%           8.203146e+17              4.196984e+09         12.000000   \n",
       "max           8.874740e+17              7.874618e+17       1776.000000   \n",
       "\n",
       "       rating_denominator  \n",
       "count         2356.000000  \n",
       "mean            10.455433  \n",
       "std              6.745237  \n",
       "min              0.000000  \n",
       "25%             10.000000  \n",
       "50%             10.000000  \n",
       "75%             10.000000  \n",
       "max            170.000000  "
      ]
     },
     "execution_count": 3,
     "metadata": {},
     "output_type": "execute_result"
    }
   ],
   "source": [
    "# Check / confirm this DataFrame loads / is viewable\n",
    "twitter_archive_df.describe()"
   ]
  },
  {
   "cell_type": "code",
   "execution_count": 4,
   "metadata": {},
   "outputs": [
    {
     "data": {
      "text/html": [
       "<div>\n",
       "<style scoped>\n",
       "    .dataframe tbody tr th:only-of-type {\n",
       "        vertical-align: middle;\n",
       "    }\n",
       "\n",
       "    .dataframe tbody tr th {\n",
       "        vertical-align: top;\n",
       "    }\n",
       "\n",
       "    .dataframe thead th {\n",
       "        text-align: right;\n",
       "    }\n",
       "</style>\n",
       "<table border=\"1\" class=\"dataframe\">\n",
       "  <thead>\n",
       "    <tr style=\"text-align: right;\">\n",
       "      <th></th>\n",
       "      <th>tweet_id</th>\n",
       "      <th>in_reply_to_status_id</th>\n",
       "      <th>in_reply_to_user_id</th>\n",
       "      <th>timestamp</th>\n",
       "      <th>source</th>\n",
       "      <th>text</th>\n",
       "      <th>retweeted_status_id</th>\n",
       "      <th>retweeted_status_user_id</th>\n",
       "      <th>retweeted_status_timestamp</th>\n",
       "      <th>expanded_urls</th>\n",
       "      <th>rating_numerator</th>\n",
       "      <th>rating_denominator</th>\n",
       "      <th>name</th>\n",
       "      <th>doggo</th>\n",
       "      <th>floofer</th>\n",
       "      <th>pupper</th>\n",
       "      <th>puppo</th>\n",
       "    </tr>\n",
       "  </thead>\n",
       "  <tbody>\n",
       "    <tr>\n",
       "      <th>0</th>\n",
       "      <td>892420643555336193</td>\n",
       "      <td>NaN</td>\n",
       "      <td>NaN</td>\n",
       "      <td>2017-08-01 16:23:56 +0000</td>\n",
       "      <td>&lt;a href=\"http://twitter.com/download/iphone\" r...</td>\n",
       "      <td>This is Phineas. He's a mystical boy. Only eve...</td>\n",
       "      <td>NaN</td>\n",
       "      <td>NaN</td>\n",
       "      <td>NaN</td>\n",
       "      <td>https://twitter.com/dog_rates/status/892420643...</td>\n",
       "      <td>13</td>\n",
       "      <td>10</td>\n",
       "      <td>Phineas</td>\n",
       "      <td>None</td>\n",
       "      <td>None</td>\n",
       "      <td>None</td>\n",
       "      <td>None</td>\n",
       "    </tr>\n",
       "    <tr>\n",
       "      <th>1</th>\n",
       "      <td>892177421306343426</td>\n",
       "      <td>NaN</td>\n",
       "      <td>NaN</td>\n",
       "      <td>2017-08-01 00:17:27 +0000</td>\n",
       "      <td>&lt;a href=\"http://twitter.com/download/iphone\" r...</td>\n",
       "      <td>This is Tilly. She's just checking pup on you....</td>\n",
       "      <td>NaN</td>\n",
       "      <td>NaN</td>\n",
       "      <td>NaN</td>\n",
       "      <td>https://twitter.com/dog_rates/status/892177421...</td>\n",
       "      <td>13</td>\n",
       "      <td>10</td>\n",
       "      <td>Tilly</td>\n",
       "      <td>None</td>\n",
       "      <td>None</td>\n",
       "      <td>None</td>\n",
       "      <td>None</td>\n",
       "    </tr>\n",
       "    <tr>\n",
       "      <th>2</th>\n",
       "      <td>891815181378084864</td>\n",
       "      <td>NaN</td>\n",
       "      <td>NaN</td>\n",
       "      <td>2017-07-31 00:18:03 +0000</td>\n",
       "      <td>&lt;a href=\"http://twitter.com/download/iphone\" r...</td>\n",
       "      <td>This is Archie. He is a rare Norwegian Pouncin...</td>\n",
       "      <td>NaN</td>\n",
       "      <td>NaN</td>\n",
       "      <td>NaN</td>\n",
       "      <td>https://twitter.com/dog_rates/status/891815181...</td>\n",
       "      <td>12</td>\n",
       "      <td>10</td>\n",
       "      <td>Archie</td>\n",
       "      <td>None</td>\n",
       "      <td>None</td>\n",
       "      <td>None</td>\n",
       "      <td>None</td>\n",
       "    </tr>\n",
       "    <tr>\n",
       "      <th>3</th>\n",
       "      <td>891689557279858688</td>\n",
       "      <td>NaN</td>\n",
       "      <td>NaN</td>\n",
       "      <td>2017-07-30 15:58:51 +0000</td>\n",
       "      <td>&lt;a href=\"http://twitter.com/download/iphone\" r...</td>\n",
       "      <td>This is Darla. She commenced a snooze mid meal...</td>\n",
       "      <td>NaN</td>\n",
       "      <td>NaN</td>\n",
       "      <td>NaN</td>\n",
       "      <td>https://twitter.com/dog_rates/status/891689557...</td>\n",
       "      <td>13</td>\n",
       "      <td>10</td>\n",
       "      <td>Darla</td>\n",
       "      <td>None</td>\n",
       "      <td>None</td>\n",
       "      <td>None</td>\n",
       "      <td>None</td>\n",
       "    </tr>\n",
       "    <tr>\n",
       "      <th>4</th>\n",
       "      <td>891327558926688256</td>\n",
       "      <td>NaN</td>\n",
       "      <td>NaN</td>\n",
       "      <td>2017-07-29 16:00:24 +0000</td>\n",
       "      <td>&lt;a href=\"http://twitter.com/download/iphone\" r...</td>\n",
       "      <td>This is Franklin. He would like you to stop ca...</td>\n",
       "      <td>NaN</td>\n",
       "      <td>NaN</td>\n",
       "      <td>NaN</td>\n",
       "      <td>https://twitter.com/dog_rates/status/891327558...</td>\n",
       "      <td>12</td>\n",
       "      <td>10</td>\n",
       "      <td>Franklin</td>\n",
       "      <td>None</td>\n",
       "      <td>None</td>\n",
       "      <td>None</td>\n",
       "      <td>None</td>\n",
       "    </tr>\n",
       "  </tbody>\n",
       "</table>\n",
       "</div>"
      ],
      "text/plain": [
       "             tweet_id  in_reply_to_status_id  in_reply_to_user_id  \\\n",
       "0  892420643555336193                    NaN                  NaN   \n",
       "1  892177421306343426                    NaN                  NaN   \n",
       "2  891815181378084864                    NaN                  NaN   \n",
       "3  891689557279858688                    NaN                  NaN   \n",
       "4  891327558926688256                    NaN                  NaN   \n",
       "\n",
       "                   timestamp  \\\n",
       "0  2017-08-01 16:23:56 +0000   \n",
       "1  2017-08-01 00:17:27 +0000   \n",
       "2  2017-07-31 00:18:03 +0000   \n",
       "3  2017-07-30 15:58:51 +0000   \n",
       "4  2017-07-29 16:00:24 +0000   \n",
       "\n",
       "                                              source  \\\n",
       "0  <a href=\"http://twitter.com/download/iphone\" r...   \n",
       "1  <a href=\"http://twitter.com/download/iphone\" r...   \n",
       "2  <a href=\"http://twitter.com/download/iphone\" r...   \n",
       "3  <a href=\"http://twitter.com/download/iphone\" r...   \n",
       "4  <a href=\"http://twitter.com/download/iphone\" r...   \n",
       "\n",
       "                                                text  retweeted_status_id  \\\n",
       "0  This is Phineas. He's a mystical boy. Only eve...                  NaN   \n",
       "1  This is Tilly. She's just checking pup on you....                  NaN   \n",
       "2  This is Archie. He is a rare Norwegian Pouncin...                  NaN   \n",
       "3  This is Darla. She commenced a snooze mid meal...                  NaN   \n",
       "4  This is Franklin. He would like you to stop ca...                  NaN   \n",
       "\n",
       "   retweeted_status_user_id retweeted_status_timestamp  \\\n",
       "0                       NaN                        NaN   \n",
       "1                       NaN                        NaN   \n",
       "2                       NaN                        NaN   \n",
       "3                       NaN                        NaN   \n",
       "4                       NaN                        NaN   \n",
       "\n",
       "                                       expanded_urls  rating_numerator  \\\n",
       "0  https://twitter.com/dog_rates/status/892420643...                13   \n",
       "1  https://twitter.com/dog_rates/status/892177421...                13   \n",
       "2  https://twitter.com/dog_rates/status/891815181...                12   \n",
       "3  https://twitter.com/dog_rates/status/891689557...                13   \n",
       "4  https://twitter.com/dog_rates/status/891327558...                12   \n",
       "\n",
       "   rating_denominator      name doggo floofer pupper puppo  \n",
       "0                  10   Phineas  None    None   None  None  \n",
       "1                  10     Tilly  None    None   None  None  \n",
       "2                  10    Archie  None    None   None  None  \n",
       "3                  10     Darla  None    None   None  None  \n",
       "4                  10  Franklin  None    None   None  None  "
      ]
     },
     "execution_count": 4,
     "metadata": {},
     "output_type": "execute_result"
    }
   ],
   "source": [
    "# Continue checking / confirming this loads correctly\n",
    "twitter_archive_df.head()"
   ]
  },
  {
   "cell_type": "code",
   "execution_count": 5,
   "metadata": {},
   "outputs": [
    {
     "name": "stdout",
     "output_type": "stream",
     "text": [
      "<class 'pandas.core.frame.DataFrame'>\n",
      "RangeIndex: 2356 entries, 0 to 2355\n",
      "Data columns (total 17 columns):\n",
      "tweet_id                      2356 non-null int64\n",
      "in_reply_to_status_id         78 non-null float64\n",
      "in_reply_to_user_id           78 non-null float64\n",
      "timestamp                     2356 non-null object\n",
      "source                        2356 non-null object\n",
      "text                          2356 non-null object\n",
      "retweeted_status_id           181 non-null float64\n",
      "retweeted_status_user_id      181 non-null float64\n",
      "retweeted_status_timestamp    181 non-null object\n",
      "expanded_urls                 2297 non-null object\n",
      "rating_numerator              2356 non-null int64\n",
      "rating_denominator            2356 non-null int64\n",
      "name                          2356 non-null object\n",
      "doggo                         2356 non-null object\n",
      "floofer                       2356 non-null object\n",
      "pupper                        2356 non-null object\n",
      "puppo                         2356 non-null object\n",
      "dtypes: float64(4), int64(3), object(10)\n",
      "memory usage: 313.0+ KB\n"
     ]
    }
   ],
   "source": [
    "# Continue checking / confirming this loads correctly\n",
    "twitter_archive_df.info()"
   ]
  },
  {
   "cell_type": "code",
   "execution_count": 6,
   "metadata": {},
   "outputs": [
    {
     "data": {
      "text/plain": [
       "2356"
      ]
     },
     "execution_count": 6,
     "metadata": {},
     "output_type": "execute_result"
    }
   ],
   "source": [
    "# Continue checking / confirming this loads correctly\n",
    "twitter_archive_df.shape[0]"
   ]
  },
  {
   "cell_type": "code",
   "execution_count": 7,
   "metadata": {},
   "outputs": [
    {
     "data": {
      "text/plain": [
       "tweet_id                      2356\n",
       "in_reply_to_status_id           77\n",
       "in_reply_to_user_id             31\n",
       "timestamp                     2356\n",
       "source                           4\n",
       "text                          2356\n",
       "retweeted_status_id            181\n",
       "retweeted_status_user_id        25\n",
       "retweeted_status_timestamp     181\n",
       "expanded_urls                 2218\n",
       "rating_numerator                40\n",
       "rating_denominator              18\n",
       "name                           957\n",
       "doggo                            2\n",
       "floofer                          2\n",
       "pupper                           2\n",
       "puppo                            2\n",
       "dtype: int64"
      ]
     },
     "execution_count": 7,
     "metadata": {},
     "output_type": "execute_result"
    }
   ],
   "source": [
    "# Continue checking / confirming this loads correctly\n",
    "twitter_archive_df.nunique()"
   ]
  },
  {
   "cell_type": "code",
   "execution_count": 8,
   "metadata": {},
   "outputs": [
    {
     "data": {
      "text/html": [
       "<div>\n",
       "<style scoped>\n",
       "    .dataframe tbody tr th:only-of-type {\n",
       "        vertical-align: middle;\n",
       "    }\n",
       "\n",
       "    .dataframe tbody tr th {\n",
       "        vertical-align: top;\n",
       "    }\n",
       "\n",
       "    .dataframe thead th {\n",
       "        text-align: right;\n",
       "    }\n",
       "</style>\n",
       "<table border=\"1\" class=\"dataframe\">\n",
       "  <thead>\n",
       "    <tr style=\"text-align: right;\">\n",
       "      <th></th>\n",
       "      <th>tweet_id</th>\n",
       "      <th>in_reply_to_status_id</th>\n",
       "      <th>in_reply_to_user_id</th>\n",
       "      <th>timestamp</th>\n",
       "      <th>source</th>\n",
       "      <th>text</th>\n",
       "      <th>retweeted_status_id</th>\n",
       "      <th>retweeted_status_user_id</th>\n",
       "      <th>retweeted_status_timestamp</th>\n",
       "      <th>expanded_urls</th>\n",
       "      <th>rating_numerator</th>\n",
       "      <th>rating_denominator</th>\n",
       "      <th>name</th>\n",
       "      <th>doggo</th>\n",
       "      <th>floofer</th>\n",
       "      <th>pupper</th>\n",
       "      <th>puppo</th>\n",
       "    </tr>\n",
       "  </thead>\n",
       "  <tbody>\n",
       "    <tr>\n",
       "      <th>2351</th>\n",
       "      <td>666049248165822465</td>\n",
       "      <td>NaN</td>\n",
       "      <td>NaN</td>\n",
       "      <td>2015-11-16 00:24:50 +0000</td>\n",
       "      <td>&lt;a href=\"http://twitter.com/download/iphone\" r...</td>\n",
       "      <td>Here we have a 1949 1st generation vulpix. Enj...</td>\n",
       "      <td>NaN</td>\n",
       "      <td>NaN</td>\n",
       "      <td>NaN</td>\n",
       "      <td>https://twitter.com/dog_rates/status/666049248...</td>\n",
       "      <td>5</td>\n",
       "      <td>10</td>\n",
       "      <td>None</td>\n",
       "      <td>None</td>\n",
       "      <td>None</td>\n",
       "      <td>None</td>\n",
       "      <td>None</td>\n",
       "    </tr>\n",
       "    <tr>\n",
       "      <th>2352</th>\n",
       "      <td>666044226329800704</td>\n",
       "      <td>NaN</td>\n",
       "      <td>NaN</td>\n",
       "      <td>2015-11-16 00:04:52 +0000</td>\n",
       "      <td>&lt;a href=\"http://twitter.com/download/iphone\" r...</td>\n",
       "      <td>This is a purebred Piers Morgan. Loves to Netf...</td>\n",
       "      <td>NaN</td>\n",
       "      <td>NaN</td>\n",
       "      <td>NaN</td>\n",
       "      <td>https://twitter.com/dog_rates/status/666044226...</td>\n",
       "      <td>6</td>\n",
       "      <td>10</td>\n",
       "      <td>a</td>\n",
       "      <td>None</td>\n",
       "      <td>None</td>\n",
       "      <td>None</td>\n",
       "      <td>None</td>\n",
       "    </tr>\n",
       "    <tr>\n",
       "      <th>2353</th>\n",
       "      <td>666033412701032449</td>\n",
       "      <td>NaN</td>\n",
       "      <td>NaN</td>\n",
       "      <td>2015-11-15 23:21:54 +0000</td>\n",
       "      <td>&lt;a href=\"http://twitter.com/download/iphone\" r...</td>\n",
       "      <td>Here is a very happy pup. Big fan of well-main...</td>\n",
       "      <td>NaN</td>\n",
       "      <td>NaN</td>\n",
       "      <td>NaN</td>\n",
       "      <td>https://twitter.com/dog_rates/status/666033412...</td>\n",
       "      <td>9</td>\n",
       "      <td>10</td>\n",
       "      <td>a</td>\n",
       "      <td>None</td>\n",
       "      <td>None</td>\n",
       "      <td>None</td>\n",
       "      <td>None</td>\n",
       "    </tr>\n",
       "    <tr>\n",
       "      <th>2354</th>\n",
       "      <td>666029285002620928</td>\n",
       "      <td>NaN</td>\n",
       "      <td>NaN</td>\n",
       "      <td>2015-11-15 23:05:30 +0000</td>\n",
       "      <td>&lt;a href=\"http://twitter.com/download/iphone\" r...</td>\n",
       "      <td>This is a western brown Mitsubishi terrier. Up...</td>\n",
       "      <td>NaN</td>\n",
       "      <td>NaN</td>\n",
       "      <td>NaN</td>\n",
       "      <td>https://twitter.com/dog_rates/status/666029285...</td>\n",
       "      <td>7</td>\n",
       "      <td>10</td>\n",
       "      <td>a</td>\n",
       "      <td>None</td>\n",
       "      <td>None</td>\n",
       "      <td>None</td>\n",
       "      <td>None</td>\n",
       "    </tr>\n",
       "    <tr>\n",
       "      <th>2355</th>\n",
       "      <td>666020888022790149</td>\n",
       "      <td>NaN</td>\n",
       "      <td>NaN</td>\n",
       "      <td>2015-11-15 22:32:08 +0000</td>\n",
       "      <td>&lt;a href=\"http://twitter.com/download/iphone\" r...</td>\n",
       "      <td>Here we have a Japanese Irish Setter. Lost eye...</td>\n",
       "      <td>NaN</td>\n",
       "      <td>NaN</td>\n",
       "      <td>NaN</td>\n",
       "      <td>https://twitter.com/dog_rates/status/666020888...</td>\n",
       "      <td>8</td>\n",
       "      <td>10</td>\n",
       "      <td>None</td>\n",
       "      <td>None</td>\n",
       "      <td>None</td>\n",
       "      <td>None</td>\n",
       "      <td>None</td>\n",
       "    </tr>\n",
       "  </tbody>\n",
       "</table>\n",
       "</div>"
      ],
      "text/plain": [
       "                tweet_id  in_reply_to_status_id  in_reply_to_user_id  \\\n",
       "2351  666049248165822465                    NaN                  NaN   \n",
       "2352  666044226329800704                    NaN                  NaN   \n",
       "2353  666033412701032449                    NaN                  NaN   \n",
       "2354  666029285002620928                    NaN                  NaN   \n",
       "2355  666020888022790149                    NaN                  NaN   \n",
       "\n",
       "                      timestamp  \\\n",
       "2351  2015-11-16 00:24:50 +0000   \n",
       "2352  2015-11-16 00:04:52 +0000   \n",
       "2353  2015-11-15 23:21:54 +0000   \n",
       "2354  2015-11-15 23:05:30 +0000   \n",
       "2355  2015-11-15 22:32:08 +0000   \n",
       "\n",
       "                                                 source  \\\n",
       "2351  <a href=\"http://twitter.com/download/iphone\" r...   \n",
       "2352  <a href=\"http://twitter.com/download/iphone\" r...   \n",
       "2353  <a href=\"http://twitter.com/download/iphone\" r...   \n",
       "2354  <a href=\"http://twitter.com/download/iphone\" r...   \n",
       "2355  <a href=\"http://twitter.com/download/iphone\" r...   \n",
       "\n",
       "                                                   text  retweeted_status_id  \\\n",
       "2351  Here we have a 1949 1st generation vulpix. Enj...                  NaN   \n",
       "2352  This is a purebred Piers Morgan. Loves to Netf...                  NaN   \n",
       "2353  Here is a very happy pup. Big fan of well-main...                  NaN   \n",
       "2354  This is a western brown Mitsubishi terrier. Up...                  NaN   \n",
       "2355  Here we have a Japanese Irish Setter. Lost eye...                  NaN   \n",
       "\n",
       "      retweeted_status_user_id retweeted_status_timestamp  \\\n",
       "2351                       NaN                        NaN   \n",
       "2352                       NaN                        NaN   \n",
       "2353                       NaN                        NaN   \n",
       "2354                       NaN                        NaN   \n",
       "2355                       NaN                        NaN   \n",
       "\n",
       "                                          expanded_urls  rating_numerator  \\\n",
       "2351  https://twitter.com/dog_rates/status/666049248...                 5   \n",
       "2352  https://twitter.com/dog_rates/status/666044226...                 6   \n",
       "2353  https://twitter.com/dog_rates/status/666033412...                 9   \n",
       "2354  https://twitter.com/dog_rates/status/666029285...                 7   \n",
       "2355  https://twitter.com/dog_rates/status/666020888...                 8   \n",
       "\n",
       "      rating_denominator  name doggo floofer pupper puppo  \n",
       "2351                  10  None  None    None   None  None  \n",
       "2352                  10     a  None    None   None  None  \n",
       "2353                  10     a  None    None   None  None  \n",
       "2354                  10     a  None    None   None  None  \n",
       "2355                  10  None  None    None   None  None  "
      ]
     },
     "execution_count": 8,
     "metadata": {},
     "output_type": "execute_result"
    }
   ],
   "source": [
    "# Continue checking / confirming this loads correctly\n",
    "twitter_archive_df.tail()"
   ]
  },
  {
   "cell_type": "markdown",
   "metadata": {},
   "source": [
    "Upload / general review of the image predictions file to get a sense of the content of the file before conducting some of the same steps for the json-file "
   ]
  },
  {
   "cell_type": "markdown",
   "metadata": {},
   "source": [
    "### Column Headers \n",
    "\n",
    "twitter_archive_df\n",
    "\n",
    "##### 1) tweet_id: unique tweet ID \n",
    "##### 2) in_reply_to_status_id: integer representation of original tweet’s ID\n",
    "##### 3) in_reply_to_user_id: integer representation of the original, author's tweet ID\n",
    "##### 4) timestamp: tweet-time of Twitter post \n",
    "##### 5) source: medium used, i.e., Twitter for Android, Twitter for iPhone, Twitter Web Client\n",
    "##### 6) text: UTF-8 text of status update\n",
    "##### 7) retweeted_status_id: integer representation of the original tweet’s ID\n",
    "##### 8) retweeted_status_user_id: integer representation of the original, author's tweet ID\n",
    "##### 9) retweeted_status_timestamp: retweet-time \n",
    "##### 10) expanded_urls: tweet URL\n",
    "##### 11) rating_numerator: dog-rating numerator (frequently greater than ten)\n",
    "##### 12) rating_denominator: dog-rating denominator (frequently greater than ten)\n",
    "##### 13) name: dog's name \n",
    "##### 14) doggo: @WeRateDogs name/term for \"stage\"\n",
    "##### 15) floofer: @WeRateDogs name/term for \"stage\"\n",
    "##### 16) pupper: @WeRateDogs name/term for \"stage\"\n",
    "##### 17) puppo: @WeRateDogs name/term for \"stage\""
   ]
  },
  {
   "cell_type": "markdown",
   "metadata": {},
   "source": [
    "## Image Predictions data collection / preliminary review"
   ]
  },
  {
   "cell_type": "code",
   "execution_count": 10,
   "metadata": {},
   "outputs": [],
   "source": [
    "# Program download of the image predictions file\n",
    "url = 'https://d17h27t6h515a5.cloudfront.net/topher/2017/August/599fd2ad_image-predictions/image-predictions.tsv'\n",
    "response = requests.get(url)"
   ]
  },
  {
   "cell_type": "code",
   "execution_count": 9,
   "metadata": {},
   "outputs": [],
   "source": [
    "# Import Image Predictions TSV-file / create DataFrame\n",
    "image_predictions_df = pd.read_csv('image-predictions.tsv', sep='\\t')"
   ]
  },
  {
   "cell_type": "code",
   "execution_count": 10,
   "metadata": {},
   "outputs": [
    {
     "data": {
      "text/html": [
       "<div>\n",
       "<style scoped>\n",
       "    .dataframe tbody tr th:only-of-type {\n",
       "        vertical-align: middle;\n",
       "    }\n",
       "\n",
       "    .dataframe tbody tr th {\n",
       "        vertical-align: top;\n",
       "    }\n",
       "\n",
       "    .dataframe thead th {\n",
       "        text-align: right;\n",
       "    }\n",
       "</style>\n",
       "<table border=\"1\" class=\"dataframe\">\n",
       "  <thead>\n",
       "    <tr style=\"text-align: right;\">\n",
       "      <th></th>\n",
       "      <th>tweet_id</th>\n",
       "      <th>img_num</th>\n",
       "      <th>p1_conf</th>\n",
       "      <th>p2_conf</th>\n",
       "      <th>p3_conf</th>\n",
       "    </tr>\n",
       "  </thead>\n",
       "  <tbody>\n",
       "    <tr>\n",
       "      <th>count</th>\n",
       "      <td>2.075000e+03</td>\n",
       "      <td>2075.000000</td>\n",
       "      <td>2075.000000</td>\n",
       "      <td>2.075000e+03</td>\n",
       "      <td>2.075000e+03</td>\n",
       "    </tr>\n",
       "    <tr>\n",
       "      <th>mean</th>\n",
       "      <td>7.384514e+17</td>\n",
       "      <td>1.203855</td>\n",
       "      <td>0.594548</td>\n",
       "      <td>1.345886e-01</td>\n",
       "      <td>6.032417e-02</td>\n",
       "    </tr>\n",
       "    <tr>\n",
       "      <th>std</th>\n",
       "      <td>6.785203e+16</td>\n",
       "      <td>0.561875</td>\n",
       "      <td>0.271174</td>\n",
       "      <td>1.006657e-01</td>\n",
       "      <td>5.090593e-02</td>\n",
       "    </tr>\n",
       "    <tr>\n",
       "      <th>min</th>\n",
       "      <td>6.660209e+17</td>\n",
       "      <td>1.000000</td>\n",
       "      <td>0.044333</td>\n",
       "      <td>1.011300e-08</td>\n",
       "      <td>1.740170e-10</td>\n",
       "    </tr>\n",
       "    <tr>\n",
       "      <th>25%</th>\n",
       "      <td>6.764835e+17</td>\n",
       "      <td>1.000000</td>\n",
       "      <td>0.364412</td>\n",
       "      <td>5.388625e-02</td>\n",
       "      <td>1.622240e-02</td>\n",
       "    </tr>\n",
       "    <tr>\n",
       "      <th>50%</th>\n",
       "      <td>7.119988e+17</td>\n",
       "      <td>1.000000</td>\n",
       "      <td>0.588230</td>\n",
       "      <td>1.181810e-01</td>\n",
       "      <td>4.944380e-02</td>\n",
       "    </tr>\n",
       "    <tr>\n",
       "      <th>75%</th>\n",
       "      <td>7.932034e+17</td>\n",
       "      <td>1.000000</td>\n",
       "      <td>0.843855</td>\n",
       "      <td>1.955655e-01</td>\n",
       "      <td>9.180755e-02</td>\n",
       "    </tr>\n",
       "    <tr>\n",
       "      <th>max</th>\n",
       "      <td>8.924206e+17</td>\n",
       "      <td>4.000000</td>\n",
       "      <td>1.000000</td>\n",
       "      <td>4.880140e-01</td>\n",
       "      <td>2.734190e-01</td>\n",
       "    </tr>\n",
       "  </tbody>\n",
       "</table>\n",
       "</div>"
      ],
      "text/plain": [
       "           tweet_id      img_num      p1_conf       p2_conf       p3_conf\n",
       "count  2.075000e+03  2075.000000  2075.000000  2.075000e+03  2.075000e+03\n",
       "mean   7.384514e+17     1.203855     0.594548  1.345886e-01  6.032417e-02\n",
       "std    6.785203e+16     0.561875     0.271174  1.006657e-01  5.090593e-02\n",
       "min    6.660209e+17     1.000000     0.044333  1.011300e-08  1.740170e-10\n",
       "25%    6.764835e+17     1.000000     0.364412  5.388625e-02  1.622240e-02\n",
       "50%    7.119988e+17     1.000000     0.588230  1.181810e-01  4.944380e-02\n",
       "75%    7.932034e+17     1.000000     0.843855  1.955655e-01  9.180755e-02\n",
       "max    8.924206e+17     4.000000     1.000000  4.880140e-01  2.734190e-01"
      ]
     },
     "execution_count": 10,
     "metadata": {},
     "output_type": "execute_result"
    }
   ],
   "source": [
    "# Check / confirm this DataFrame loads / is viewable\n",
    "image_predictions_df.describe()"
   ]
  },
  {
   "cell_type": "code",
   "execution_count": 11,
   "metadata": {},
   "outputs": [
    {
     "data": {
      "text/html": [
       "<div>\n",
       "<style scoped>\n",
       "    .dataframe tbody tr th:only-of-type {\n",
       "        vertical-align: middle;\n",
       "    }\n",
       "\n",
       "    .dataframe tbody tr th {\n",
       "        vertical-align: top;\n",
       "    }\n",
       "\n",
       "    .dataframe thead th {\n",
       "        text-align: right;\n",
       "    }\n",
       "</style>\n",
       "<table border=\"1\" class=\"dataframe\">\n",
       "  <thead>\n",
       "    <tr style=\"text-align: right;\">\n",
       "      <th></th>\n",
       "      <th>tweet_id</th>\n",
       "      <th>jpg_url</th>\n",
       "      <th>img_num</th>\n",
       "      <th>p1</th>\n",
       "      <th>p1_conf</th>\n",
       "      <th>p1_dog</th>\n",
       "      <th>p2</th>\n",
       "      <th>p2_conf</th>\n",
       "      <th>p2_dog</th>\n",
       "      <th>p3</th>\n",
       "      <th>p3_conf</th>\n",
       "      <th>p3_dog</th>\n",
       "    </tr>\n",
       "  </thead>\n",
       "  <tbody>\n",
       "    <tr>\n",
       "      <th>0</th>\n",
       "      <td>666020888022790149</td>\n",
       "      <td>https://pbs.twimg.com/media/CT4udn0WwAA0aMy.jpg</td>\n",
       "      <td>1</td>\n",
       "      <td>Welsh_springer_spaniel</td>\n",
       "      <td>0.465074</td>\n",
       "      <td>True</td>\n",
       "      <td>collie</td>\n",
       "      <td>0.156665</td>\n",
       "      <td>True</td>\n",
       "      <td>Shetland_sheepdog</td>\n",
       "      <td>0.061428</td>\n",
       "      <td>True</td>\n",
       "    </tr>\n",
       "    <tr>\n",
       "      <th>1</th>\n",
       "      <td>666029285002620928</td>\n",
       "      <td>https://pbs.twimg.com/media/CT42GRgUYAA5iDo.jpg</td>\n",
       "      <td>1</td>\n",
       "      <td>redbone</td>\n",
       "      <td>0.506826</td>\n",
       "      <td>True</td>\n",
       "      <td>miniature_pinscher</td>\n",
       "      <td>0.074192</td>\n",
       "      <td>True</td>\n",
       "      <td>Rhodesian_ridgeback</td>\n",
       "      <td>0.072010</td>\n",
       "      <td>True</td>\n",
       "    </tr>\n",
       "    <tr>\n",
       "      <th>2</th>\n",
       "      <td>666033412701032449</td>\n",
       "      <td>https://pbs.twimg.com/media/CT4521TWwAEvMyu.jpg</td>\n",
       "      <td>1</td>\n",
       "      <td>German_shepherd</td>\n",
       "      <td>0.596461</td>\n",
       "      <td>True</td>\n",
       "      <td>malinois</td>\n",
       "      <td>0.138584</td>\n",
       "      <td>True</td>\n",
       "      <td>bloodhound</td>\n",
       "      <td>0.116197</td>\n",
       "      <td>True</td>\n",
       "    </tr>\n",
       "    <tr>\n",
       "      <th>3</th>\n",
       "      <td>666044226329800704</td>\n",
       "      <td>https://pbs.twimg.com/media/CT5Dr8HUEAA-lEu.jpg</td>\n",
       "      <td>1</td>\n",
       "      <td>Rhodesian_ridgeback</td>\n",
       "      <td>0.408143</td>\n",
       "      <td>True</td>\n",
       "      <td>redbone</td>\n",
       "      <td>0.360687</td>\n",
       "      <td>True</td>\n",
       "      <td>miniature_pinscher</td>\n",
       "      <td>0.222752</td>\n",
       "      <td>True</td>\n",
       "    </tr>\n",
       "    <tr>\n",
       "      <th>4</th>\n",
       "      <td>666049248165822465</td>\n",
       "      <td>https://pbs.twimg.com/media/CT5IQmsXIAAKY4A.jpg</td>\n",
       "      <td>1</td>\n",
       "      <td>miniature_pinscher</td>\n",
       "      <td>0.560311</td>\n",
       "      <td>True</td>\n",
       "      <td>Rottweiler</td>\n",
       "      <td>0.243682</td>\n",
       "      <td>True</td>\n",
       "      <td>Doberman</td>\n",
       "      <td>0.154629</td>\n",
       "      <td>True</td>\n",
       "    </tr>\n",
       "  </tbody>\n",
       "</table>\n",
       "</div>"
      ],
      "text/plain": [
       "             tweet_id                                          jpg_url  \\\n",
       "0  666020888022790149  https://pbs.twimg.com/media/CT4udn0WwAA0aMy.jpg   \n",
       "1  666029285002620928  https://pbs.twimg.com/media/CT42GRgUYAA5iDo.jpg   \n",
       "2  666033412701032449  https://pbs.twimg.com/media/CT4521TWwAEvMyu.jpg   \n",
       "3  666044226329800704  https://pbs.twimg.com/media/CT5Dr8HUEAA-lEu.jpg   \n",
       "4  666049248165822465  https://pbs.twimg.com/media/CT5IQmsXIAAKY4A.jpg   \n",
       "\n",
       "   img_num                      p1   p1_conf  p1_dog                  p2  \\\n",
       "0        1  Welsh_springer_spaniel  0.465074    True              collie   \n",
       "1        1                 redbone  0.506826    True  miniature_pinscher   \n",
       "2        1         German_shepherd  0.596461    True            malinois   \n",
       "3        1     Rhodesian_ridgeback  0.408143    True             redbone   \n",
       "4        1      miniature_pinscher  0.560311    True          Rottweiler   \n",
       "\n",
       "    p2_conf  p2_dog                   p3   p3_conf  p3_dog  \n",
       "0  0.156665    True    Shetland_sheepdog  0.061428    True  \n",
       "1  0.074192    True  Rhodesian_ridgeback  0.072010    True  \n",
       "2  0.138584    True           bloodhound  0.116197    True  \n",
       "3  0.360687    True   miniature_pinscher  0.222752    True  \n",
       "4  0.243682    True             Doberman  0.154629    True  "
      ]
     },
     "execution_count": 11,
     "metadata": {},
     "output_type": "execute_result"
    }
   ],
   "source": [
    "# Continue checking / confirming this loads correctly\n",
    "image_predictions_df.head()"
   ]
  },
  {
   "cell_type": "code",
   "execution_count": 12,
   "metadata": {},
   "outputs": [
    {
     "name": "stdout",
     "output_type": "stream",
     "text": [
      "<class 'pandas.core.frame.DataFrame'>\n",
      "RangeIndex: 2075 entries, 0 to 2074\n",
      "Data columns (total 12 columns):\n",
      "tweet_id    2075 non-null int64\n",
      "jpg_url     2075 non-null object\n",
      "img_num     2075 non-null int64\n",
      "p1          2075 non-null object\n",
      "p1_conf     2075 non-null float64\n",
      "p1_dog      2075 non-null bool\n",
      "p2          2075 non-null object\n",
      "p2_conf     2075 non-null float64\n",
      "p2_dog      2075 non-null bool\n",
      "p3          2075 non-null object\n",
      "p3_conf     2075 non-null float64\n",
      "p3_dog      2075 non-null bool\n",
      "dtypes: bool(3), float64(3), int64(2), object(4)\n",
      "memory usage: 152.1+ KB\n"
     ]
    }
   ],
   "source": [
    "# Continue checking / confirming this loads correctly\n",
    "image_predictions_df.info()"
   ]
  },
  {
   "cell_type": "code",
   "execution_count": 13,
   "metadata": {},
   "outputs": [
    {
     "data": {
      "text/plain": [
       "2075"
      ]
     },
     "execution_count": 13,
     "metadata": {},
     "output_type": "execute_result"
    }
   ],
   "source": [
    "# Continue checking / confirming this loads correctly\n",
    "image_predictions_df.shape[0]"
   ]
  },
  {
   "cell_type": "code",
   "execution_count": 14,
   "metadata": {},
   "outputs": [
    {
     "data": {
      "text/plain": [
       "tweet_id    2075\n",
       "jpg_url     2009\n",
       "img_num        4\n",
       "p1           378\n",
       "p1_conf     2006\n",
       "p1_dog         2\n",
       "p2           405\n",
       "p2_conf     2004\n",
       "p2_dog         2\n",
       "p3           408\n",
       "p3_conf     2006\n",
       "p3_dog         2\n",
       "dtype: int64"
      ]
     },
     "execution_count": 14,
     "metadata": {},
     "output_type": "execute_result"
    }
   ],
   "source": [
    "# Continue checking / confirming this loads correctly\n",
    "image_predictions_df.nunique()"
   ]
  },
  {
   "cell_type": "code",
   "execution_count": 15,
   "metadata": {},
   "outputs": [
    {
     "data": {
      "text/html": [
       "<div>\n",
       "<style scoped>\n",
       "    .dataframe tbody tr th:only-of-type {\n",
       "        vertical-align: middle;\n",
       "    }\n",
       "\n",
       "    .dataframe tbody tr th {\n",
       "        vertical-align: top;\n",
       "    }\n",
       "\n",
       "    .dataframe thead th {\n",
       "        text-align: right;\n",
       "    }\n",
       "</style>\n",
       "<table border=\"1\" class=\"dataframe\">\n",
       "  <thead>\n",
       "    <tr style=\"text-align: right;\">\n",
       "      <th></th>\n",
       "      <th>tweet_id</th>\n",
       "      <th>jpg_url</th>\n",
       "      <th>img_num</th>\n",
       "      <th>p1</th>\n",
       "      <th>p1_conf</th>\n",
       "      <th>p1_dog</th>\n",
       "      <th>p2</th>\n",
       "      <th>p2_conf</th>\n",
       "      <th>p2_dog</th>\n",
       "      <th>p3</th>\n",
       "      <th>p3_conf</th>\n",
       "      <th>p3_dog</th>\n",
       "    </tr>\n",
       "  </thead>\n",
       "  <tbody>\n",
       "    <tr>\n",
       "      <th>2070</th>\n",
       "      <td>891327558926688256</td>\n",
       "      <td>https://pbs.twimg.com/media/DF6hr6BUMAAzZgT.jpg</td>\n",
       "      <td>2</td>\n",
       "      <td>basset</td>\n",
       "      <td>0.555712</td>\n",
       "      <td>True</td>\n",
       "      <td>English_springer</td>\n",
       "      <td>0.225770</td>\n",
       "      <td>True</td>\n",
       "      <td>German_short-haired_pointer</td>\n",
       "      <td>0.175219</td>\n",
       "      <td>True</td>\n",
       "    </tr>\n",
       "    <tr>\n",
       "      <th>2071</th>\n",
       "      <td>891689557279858688</td>\n",
       "      <td>https://pbs.twimg.com/media/DF_q7IAWsAEuuN8.jpg</td>\n",
       "      <td>1</td>\n",
       "      <td>paper_towel</td>\n",
       "      <td>0.170278</td>\n",
       "      <td>False</td>\n",
       "      <td>Labrador_retriever</td>\n",
       "      <td>0.168086</td>\n",
       "      <td>True</td>\n",
       "      <td>spatula</td>\n",
       "      <td>0.040836</td>\n",
       "      <td>False</td>\n",
       "    </tr>\n",
       "    <tr>\n",
       "      <th>2072</th>\n",
       "      <td>891815181378084864</td>\n",
       "      <td>https://pbs.twimg.com/media/DGBdLU1WsAANxJ9.jpg</td>\n",
       "      <td>1</td>\n",
       "      <td>Chihuahua</td>\n",
       "      <td>0.716012</td>\n",
       "      <td>True</td>\n",
       "      <td>malamute</td>\n",
       "      <td>0.078253</td>\n",
       "      <td>True</td>\n",
       "      <td>kelpie</td>\n",
       "      <td>0.031379</td>\n",
       "      <td>True</td>\n",
       "    </tr>\n",
       "    <tr>\n",
       "      <th>2073</th>\n",
       "      <td>892177421306343426</td>\n",
       "      <td>https://pbs.twimg.com/media/DGGmoV4XsAAUL6n.jpg</td>\n",
       "      <td>1</td>\n",
       "      <td>Chihuahua</td>\n",
       "      <td>0.323581</td>\n",
       "      <td>True</td>\n",
       "      <td>Pekinese</td>\n",
       "      <td>0.090647</td>\n",
       "      <td>True</td>\n",
       "      <td>papillon</td>\n",
       "      <td>0.068957</td>\n",
       "      <td>True</td>\n",
       "    </tr>\n",
       "    <tr>\n",
       "      <th>2074</th>\n",
       "      <td>892420643555336193</td>\n",
       "      <td>https://pbs.twimg.com/media/DGKD1-bXoAAIAUK.jpg</td>\n",
       "      <td>1</td>\n",
       "      <td>orange</td>\n",
       "      <td>0.097049</td>\n",
       "      <td>False</td>\n",
       "      <td>bagel</td>\n",
       "      <td>0.085851</td>\n",
       "      <td>False</td>\n",
       "      <td>banana</td>\n",
       "      <td>0.076110</td>\n",
       "      <td>False</td>\n",
       "    </tr>\n",
       "  </tbody>\n",
       "</table>\n",
       "</div>"
      ],
      "text/plain": [
       "                tweet_id                                          jpg_url  \\\n",
       "2070  891327558926688256  https://pbs.twimg.com/media/DF6hr6BUMAAzZgT.jpg   \n",
       "2071  891689557279858688  https://pbs.twimg.com/media/DF_q7IAWsAEuuN8.jpg   \n",
       "2072  891815181378084864  https://pbs.twimg.com/media/DGBdLU1WsAANxJ9.jpg   \n",
       "2073  892177421306343426  https://pbs.twimg.com/media/DGGmoV4XsAAUL6n.jpg   \n",
       "2074  892420643555336193  https://pbs.twimg.com/media/DGKD1-bXoAAIAUK.jpg   \n",
       "\n",
       "      img_num           p1   p1_conf  p1_dog                  p2   p2_conf  \\\n",
       "2070        2       basset  0.555712    True    English_springer  0.225770   \n",
       "2071        1  paper_towel  0.170278   False  Labrador_retriever  0.168086   \n",
       "2072        1    Chihuahua  0.716012    True            malamute  0.078253   \n",
       "2073        1    Chihuahua  0.323581    True            Pekinese  0.090647   \n",
       "2074        1       orange  0.097049   False               bagel  0.085851   \n",
       "\n",
       "      p2_dog                           p3   p3_conf  p3_dog  \n",
       "2070    True  German_short-haired_pointer  0.175219    True  \n",
       "2071    True                      spatula  0.040836   False  \n",
       "2072    True                       kelpie  0.031379    True  \n",
       "2073    True                     papillon  0.068957    True  \n",
       "2074   False                       banana  0.076110   False  "
      ]
     },
     "execution_count": 15,
     "metadata": {},
     "output_type": "execute_result"
    }
   ],
   "source": [
    "# Continue checking / confirming this loads correctly\n",
    "image_predictions_df.tail()"
   ]
  },
  {
   "cell_type": "markdown",
   "metadata": {},
   "source": [
    "## Twitter API/json data collection / preliminary review"
   ]
  },
  {
   "cell_type": "code",
   "execution_count": 58,
   "metadata": {},
   "outputs": [],
   "source": [
    "# Twitter API Keys / Access Token \n",
    "consumer_key = 'fYUqgtP8xdvLBX1DdAECcMMy9'\n",
    "consumer_secret = 'aJKZt6q3zrTxeHlsxM2WevYDpqxAuf0KJBt1YzEOYKImtG9AWY'\n",
    "access_token = '921963054639861761-Y7RowZJI9pB2YkjMjsI3O71zfRUP7vC'\n",
    "access_secret = 'W3akd0x35RNzkZRVeafLsqpPtV1kniWxlk9VBcH3Si4lX'"
   ]
  },
  {
   "cell_type": "code",
   "execution_count": 59,
   "metadata": {},
   "outputs": [],
   "source": [
    "# Authenticate this step in the process\n",
    "auth = tweepy.OAuthHandler(consumer_key, consumer_secret)\n",
    "auth.set_access_token(access_token, access_secret)"
   ]
  },
  {
   "cell_type": "code",
   "execution_count": 60,
   "metadata": {},
   "outputs": [],
   "source": [
    "api = tweepy.API(auth_handler=auth, wait_on_rate_limit=True, wait_on_rate_limit_notify=True)"
   ]
  },
  {
   "cell_type": "code",
   "execution_count": 61,
   "metadata": {},
   "outputs": [
    {
     "name": "stdout",
     "output_type": "stream",
     "text": [
      "1# 892420643555336193\n",
      "2# 892177421306343426\n",
      "3# 891815181378084864\n",
      "4# 891689557279858688\n",
      "5# 891327558926688256\n",
      "6# 891087950875897856\n",
      "7# 890971913173991426\n",
      "8# 890729181411237888\n",
      "9# 890609185150312448\n",
      "10# 890240255349198849\n",
      "11# 890006608113172480\n",
      "12# 889880896479866881\n",
      "13# 889665388333682689\n",
      "14# 889638837579907072\n",
      "15# 889531135344209921\n",
      "16# 889278841981685760\n",
      "17# 888917238123831296\n",
      "18# 888804989199671297\n",
      "19# 888554962724278272\n",
      "20# 888202515573088257\n",
      "888202515573088257: No status found with that ID.\n",
      "\n",
      "21# 888078434458587136\n",
      "22# 887705289381826560\n",
      "23# 887517139158093824\n",
      "24# 887473957103951883\n",
      "25# 887343217045368832\n",
      "26# 887101392804085760\n",
      "27# 886983233522544640\n",
      "28# 886736880519319552\n",
      "29# 886680336477933568\n",
      "30# 886366144734445568\n",
      "31# 886267009285017600\n",
      "32# 886258384151887873\n",
      "33# 886054160059072513\n",
      "34# 885984800019947520\n",
      "35# 885528943205470208\n",
      "36# 885518971528720385\n",
      "37# 885311592912609280\n",
      "38# 885167619883638784\n",
      "39# 884925521741709313\n",
      "40# 884876753390489601\n",
      "41# 884562892145688576\n",
      "42# 884441805382717440\n",
      "43# 884247878851493888\n",
      "44# 884162670584377345\n",
      "45# 883838122936631299\n",
      "46# 883482846933004288\n",
      "47# 883360690899218434\n",
      "48# 883117836046086144\n",
      "49# 882992080364220416\n",
      "50# 882762694511734784\n",
      "51# 882627270321602560\n",
      "52# 882268110199369728\n",
      "53# 882045870035918850\n",
      "54# 881906580714921986\n",
      "55# 881666595344535552\n",
      "56# 881633300179243008\n",
      "57# 881536004380872706\n",
      "58# 881268444196462592\n",
      "59# 880935762899988482\n",
      "60# 880872448815771648\n",
      "61# 880465832366813184\n",
      "62# 880221127280381952\n",
      "63# 880095782870896641\n",
      "64# 879862464715927552\n",
      "65# 879674319642796034\n",
      "66# 879492040517615616\n",
      "67# 879415818425184262\n",
      "68# 879376492567855104\n",
      "69# 879130579576475649\n",
      "70# 879050749262655488\n",
      "71# 879008229531029506\n",
      "72# 878776093423087618\n",
      "73# 878604707211726852\n",
      "74# 878404777348136964\n",
      "75# 878316110768087041\n",
      "76# 878281511006478336\n",
      "77# 878057613040115712\n",
      "78# 877736472329191424\n",
      "79# 877611172832227328\n",
      "80# 877556246731214848\n",
      "81# 877316821321428993\n",
      "82# 877201837425926144\n",
      "83# 876838120628539392\n",
      "84# 876537666061221889\n",
      "85# 876484053909872640\n",
      "86# 876120275196170240\n",
      "87# 875747767867523072\n",
      "88# 875144289856114688\n",
      "89# 875097192612077568\n",
      "90# 875021211251597312\n",
      "91# 874680097055178752\n",
      "92# 874434818259525634\n",
      "93# 874296783580663808\n",
      "94# 874057562936811520\n",
      "95# 874012996292530176\n",
      "96# 873697596434513921\n",
      "873697596434513921: No status found with that ID.\n",
      "\n",
      "97# 873580283840344065\n",
      "98# 873337748698140672\n",
      "99# 873213775632977920\n",
      "100# 872967104147763200\n",
      "101# 872820683541237760\n",
      "102# 872668790621863937\n",
      "872668790621863937: No status found with that ID.\n",
      "\n",
      "103# 872620804844003328\n",
      "104# 872486979161796608\n",
      "105# 872261713294495745\n",
      "872261713294495745: No status found with that ID.\n",
      "\n",
      "106# 872122724285648897\n",
      "107# 871879754684805121\n",
      "108# 871762521631449091\n",
      "109# 871515927908634625\n",
      "110# 871166179821445120\n",
      "111# 871102520638267392\n",
      "112# 871032628920680449\n",
      "113# 870804317367881728\n",
      "114# 870726314365509632\n",
      "115# 870656317836468226\n",
      "116# 870374049280663552\n",
      "117# 870308999962521604\n",
      "118# 870063196459192321\n",
      "119# 869988702071779329\n",
      "869988702071779329: No status found with that ID.\n",
      "\n",
      "120# 869772420881756160\n",
      "121# 869702957897576449\n",
      "122# 869596645499047938\n",
      "123# 869227993411051520\n",
      "124# 868880397819494401\n",
      "125# 868639477480148993\n",
      "126# 868622495443632128\n",
      "127# 868552278524837888\n",
      "128# 867900495410671616\n",
      "129# 867774946302451713\n",
      "130# 867421006826221569\n",
      "131# 867072653475098625\n",
      "132# 867051520902168576\n",
      "133# 866816280283807744\n",
      "866816280283807744: No status found with that ID.\n",
      "\n",
      "134# 866720684873056260\n",
      "135# 866686824827068416\n",
      "136# 866450705531457537\n",
      "137# 866334964761202691\n",
      "138# 866094527597207552\n",
      "139# 865718153858494464\n",
      "140# 865359393868664832\n",
      "141# 865006731092295680\n",
      "142# 864873206498414592\n",
      "143# 864279568663928832\n",
      "144# 864197398364647424\n",
      "145# 863907417377173506\n",
      "146# 863553081350529029\n",
      "147# 863471782782697472\n",
      "148# 863432100342583297\n",
      "149# 863427515083354112\n",
      "150# 863079547188785154\n",
      "151# 863062471531167744\n",
      "152# 862831371563274240\n",
      "153# 862722525377298433\n",
      "154# 862457590147678208\n",
      "155# 862096992088072192\n",
      "156# 861769973181624320\n",
      "861769973181624320: No status found with that ID.\n",
      "\n",
      "157# 861383897657036800\n",
      "158# 861288531465048066\n",
      "159# 861005113778896900\n",
      "160# 860981674716409858\n",
      "161# 860924035999428608\n",
      "162# 860563773140209665\n",
      "163# 860524505164394496\n",
      "164# 860276583193509888\n",
      "165# 860184849394610176\n",
      "166# 860177593139703809\n",
      "167# 859924526012018688\n",
      "168# 859851578198683649\n",
      "169# 859607811541651456\n",
      "170# 859196978902773760\n",
      "171# 859074603037188101\n",
      "172# 858860390427611136\n",
      "173# 858843525470990336\n",
      "174# 858471635011153920\n",
      "175# 858107933456039936\n",
      "176# 857989990357356544\n",
      "177# 857746408056729600\n",
      "178# 857393404942143489\n",
      "179# 857263160327368704\n",
      "180# 857214891891077121\n",
      "181# 857062103051644929\n",
      "182# 857029823797047296\n",
      "183# 856602993587888130\n",
      "856602993587888130: No status found with that ID.\n",
      "\n",
      "184# 856543823941562368\n",
      "185# 856526610513747968\n",
      "186# 856330835276025856\n",
      "187# 856288084350160898\n",
      "188# 856282028240666624\n",
      "189# 855862651834028034\n",
      "190# 855860136149123072\n",
      "191# 855857698524602368\n",
      "192# 855851453814013952\n",
      "193# 855818117272018944\n",
      "194# 855459453768019968\n",
      "195# 855245323840757760\n",
      "196# 855138241867124737\n",
      "197# 854732716440526848\n",
      "198# 854482394044301312\n",
      "199# 854365224396361728\n",
      "200# 854120357044912130\n",
      "201# 854010172552949760\n",
      "202# 853760880890318849\n",
      "203# 853639147608842240\n",
      "204# 853299958564483072\n",
      "205# 852936405516943360\n",
      "206# 852912242202992640\n",
      "207# 852672615818899456\n",
      "208# 852553447878664193\n",
      "209# 852311364735569921\n",
      "210# 852226086759018497\n",
      "211# 852189679701164033\n",
      "212# 851953902622658560\n",
      "851953902622658560: No status found with that ID.\n",
      "\n",
      "213# 851861385021730816\n",
      "214# 851591660324737024\n",
      "215# 851464819735769094\n",
      "216# 851224888060895234\n",
      "217# 850753642995093505\n",
      "218# 850380195714523136\n",
      "219# 850333567704068097\n",
      "220# 850145622816686080\n",
      "221# 850019790995546112\n",
      "222# 849776966551130114\n",
      "223# 849668094696017920\n",
      "224# 849412302885593088\n",
      "225# 849336543269576704\n",
      "226# 849051919805034497\n",
      "227# 848690551926992896\n",
      "228# 848324959059550208\n",
      "229# 848213670039564288\n",
      "230# 848212111729840128\n",
      "231# 847978865427394560\n",
      "232# 847971574464610304\n",
      "233# 847962785489326080\n",
      "234# 847842811428974592\n",
      "235# 847617282490613760\n",
      "236# 847606175596138505\n",
      "237# 847251039262605312\n",
      "238# 847157206088847362\n",
      "239# 847116187444137987\n",
      "240# 846874817362120707\n",
      "241# 846514051647705089\n",
      "242# 846505985330044928\n",
      "243# 846153765933735936\n",
      "244# 846139713627017216\n",
      "245# 846042936437604353\n",
      "246# 845812042753855489\n",
      "247# 845677943972139009\n",
      "248# 845459076796616705\n",
      "845459076796616705: No status found with that ID.\n",
      "\n",
      "249# 845397057150107648\n",
      "250# 845306882940190720\n",
      "251# 845098359547420673\n",
      "252# 844979544864018432\n",
      "253# 844973813909606400\n",
      "254# 844704788403113984\n",
      "844704788403113984: No status found with that ID.\n",
      "\n",
      "255# 844580511645339650\n",
      "256# 844223788422217728\n",
      "257# 843981021012017153\n",
      "258# 843856843873095681\n",
      "259# 843604394117681152\n",
      "260# 843235543001513987\n",
      "261# 842892208864923648\n",
      "842892208864923648: No status found with that ID.\n",
      "\n",
      "262# 842846295480000512\n",
      "263# 842765311967449089\n",
      "264# 842535590457499648\n",
      "265# 842163532590374912\n",
      "266# 842115215311396866\n",
      "267# 841833993020538882\n",
      "268# 841680585030541313\n",
      "269# 841439858740625411\n",
      "270# 841320156043304961\n",
      "271# 841314665196081154\n",
      "272# 841077006473256960\n",
      "273# 840761248237133825\n",
      "274# 840728873075638272\n",
      "275# 840698636975636481\n",
      "276# 840696689258311684\n",
      "277# 840632337062862849\n",
      "278# 840370681858686976\n",
      "279# 840268004936019968\n",
      "280# 839990271299457024\n",
      "281# 839549326359670784\n",
      "282# 839290600511926273\n",
      "283# 839239871831150596\n",
      "284# 838952994649550848\n",
      "285# 838921590096166913\n",
      "286# 838916489579200512\n",
      "287# 838831947270979586\n",
      "288# 838561493054533637\n",
      "289# 838476387338051585\n",
      "290# 838201503651401729\n",
      "291# 838150277551247360\n",
      "292# 838085839343206401\n",
      "293# 838083903487373313\n",
      "294# 837820167694528512\n",
      "295# 837482249356513284\n",
      "296# 837471256429613056\n",
      "297# 837366284874571778\n",
      "298# 837110210464448512\n",
      "299# 837012587749474308\n",
      "837012587749474308: No status found with that ID.\n",
      "\n",
      "300# 836989968035819520\n",
      "301# 836753516572119041\n",
      "302# 836677758902222849\n",
      "303# 836648853927522308\n",
      "304# 836397794269200385\n",
      "305# 836380477523124226\n",
      "306# 836260088725786625\n",
      "307# 836001077879255040\n",
      "308# 835685285446955009\n",
      "309# 835574547218894849\n",
      "310# 835536468978302976\n",
      "311# 835309094223372289\n",
      "312# 835297930240217089\n",
      "313# 835264098648616962\n",
      "314# 835246439529840640\n",
      "315# 835172783151792128\n",
      "316# 835152434251116546\n",
      "317# 834931633769889797\n",
      "318# 834786237630337024\n",
      "319# 834574053763584002\n",
      "320# 834477809192075265\n",
      "321# 834458053273591808\n",
      "322# 834209720923721728\n",
      "323# 834167344700198914\n",
      "324# 834089966724603904\n",
      "325# 834086379323871233\n",
      "326# 833863086058651648\n",
      "327# 833826103416520705\n",
      "328# 833732339549220864\n",
      "329# 833722901757046785\n",
      "330# 833479644947025920\n",
      "331# 833124694597443584\n",
      "332# 832998151111966721\n",
      "333# 832769181346996225\n",
      "334# 832757312314028032\n",
      "335# 832682457690300417\n",
      "336# 832645525019123713\n",
      "337# 832636094638288896\n",
      "338# 832397543355072512\n",
      "339# 832369877331693569\n",
      "340# 832273440279240704\n",
      "341# 832215909146226688\n",
      "342# 832215726631055365\n",
      "343# 832088576586297345\n",
      "344# 832040443403784192\n",
      "345# 832032802820481025\n",
      "346# 831939777352105988\n",
      "347# 831926988323639298\n",
      "348# 831911600680497154\n",
      "349# 831670449226514432\n",
      "350# 831650051525054464\n",
      "351# 831552930092285952\n",
      "352# 831322785565769729\n",
      "353# 831315979191906304\n",
      "354# 831309418084069378\n",
      "355# 831262627380748289\n",
      "356# 830956169170665475\n",
      "357# 830583320585068544\n",
      "358# 830173239259324417\n",
      "359# 830097400375152640\n",
      "360# 829878982036299777\n",
      "361# 829861396166877184\n",
      "362# 829501995190984704\n",
      "363# 829449946868879360\n",
      "364# 829374341691346946\n",
      "829374341691346946: No status found with that ID.\n",
      "\n",
      "365# 829141528400556032\n",
      "366# 829011960981237760\n",
      "367# 828801551087042563\n",
      "368# 828770345708580865\n",
      "369# 828708714936930305\n",
      "370# 828650029636317184\n",
      "371# 828409743546925057\n",
      "372# 828408677031882754\n",
      "373# 828381636999917570\n",
      "374# 828376505180889089\n",
      "375# 828372645993398273\n",
      "376# 828361771580813312\n",
      "377# 828046555563323392\n",
      "378# 828011680017821696\n",
      "379# 827933404142436356\n",
      "380# 827653905312006145\n",
      "381# 827600520311402496\n",
      "382# 827324948884643840\n",
      "383# 827228250799742977\n",
      "827228250799742977: No status found with that ID.\n",
      "\n",
      "384# 827199976799354881\n",
      "385# 826958653328592898\n",
      "386# 826848821049180160\n",
      "387# 826615380357632002\n",
      "388# 826598799820865537\n",
      "389# 826598365270007810\n",
      "390# 826476773533745153\n",
      "391# 826240494070030336\n",
      "392# 826204788643753985\n",
      "393# 826115272272650244\n",
      "394# 825876512159186944\n",
      "395# 825829644528148480\n",
      "396# 825535076884762624\n",
      "397# 825147591692263424\n",
      "398# 825120256414846976\n",
      "399# 825026590719483904\n",
      "400# 824796380199809024\n",
      "401# 824775126675836928\n",
      "402# 824663926340194305\n",
      "403# 824325613288833024\n",
      "404# 824297048279236611\n",
      "405# 824025158776213504\n",
      "406# 823939628516474880\n",
      "407# 823719002937630720\n",
      "408# 823699002998870016\n",
      "409# 823581115634085888\n",
      "410# 823333489516937216\n",
      "411# 823322678127919110\n",
      "412# 823269594223824897\n",
      "413# 822975315408461824\n",
      "414# 822872901745569793\n",
      "415# 822859134160621569\n",
      "416# 822647212903690241\n",
      "417# 822610361945911296\n",
      "418# 822489057087389700\n",
      "419# 822462944365645825\n",
      "420# 822244816520155136\n",
      "421# 822163064745328640\n",
      "422# 821886076407029760\n",
      "423# 821813639212650496\n",
      "424# 821765923262631936\n",
      "425# 821522889702862852\n",
      "426# 821421320206483457\n",
      "427# 821407182352777218\n",
      "428# 821153421864615936\n",
      "429# 821149554670182400\n",
      "430# 821107785811234820\n",
      "431# 821044531881721856\n",
      "432# 820837357901512704\n",
      "433# 820749716845686786\n",
      "434# 820690176645140481\n",
      "435# 820494788566847489\n",
      "436# 820446719150292993\n",
      "437# 820314633777061888\n",
      "438# 820078625395449857\n",
      "439# 820013781606658049\n",
      "440# 819952236453363712\n",
      "441# 819924195358416896\n",
      "442# 819711362133872643\n",
      "443# 819588359383371776\n",
      "444# 819347104292290561\n",
      "445# 819238181065359361\n",
      "446# 819227688460238848\n",
      "447# 819015337530290176\n",
      "448# 819015331746349057\n",
      "449# 819006400881917954\n",
      "450# 819004803107983360\n",
      "451# 818646164899774465\n",
      "452# 818627210458333184\n",
      "453# 818614493328580609\n",
      "454# 818588835076603904\n",
      "455# 818536468981415936\n",
      "456# 818307523543449600\n",
      "457# 818259473185828864\n",
      "458# 818145370475810820\n",
      "459# 817908911860748288\n",
      "460# 817827839487737858\n",
      "461# 817777686764523521\n",
      "462# 817536400337801217\n",
      "463# 817502432452313088\n",
      "464# 817423860136083457\n",
      "465# 817415592588222464\n",
      "466# 817181837579653120\n",
      "467# 817171292965273600\n",
      "468# 817120970343411712\n",
      "469# 817056546584727552\n",
      "470# 816829038950027264\n",
      "471# 816816676327063552\n",
      "472# 816697700272001025\n",
      "473# 816450570814898180\n",
      "474# 816336735214911488\n",
      "475# 816091915477250048\n",
      "476# 816062466425819140\n",
      "477# 816014286006976512\n",
      "478# 815990720817401858\n",
      "479# 815966073409433600\n",
      "480# 815745968457060357\n",
      "481# 815736392542261248\n",
      "482# 815639385530101762\n",
      "483# 815390420867969024\n",
      "484# 814986499976527872\n",
      "485# 814638523311648768\n",
      "486# 814578408554463233\n",
      "487# 814530161257443328\n",
      "488# 814153002265309185\n",
      "489# 813944609378369540\n",
      "490# 813910438903693312\n",
      "491# 813812741911748608\n",
      "492# 813800681631023104\n",
      "493# 813217897535406080\n",
      "494# 813202720496779264\n",
      "495# 813187593374461952\n",
      "496# 813172488309972993\n",
      "497# 813157409116065792\n",
      "498# 813142292504645637\n",
      "499# 813130366689148928\n",
      "500# 813127251579564032\n",
      "501# 813112105746448384\n",
      "502# 813096984823349248\n",
      "503# 813081950185472002\n",
      "504# 813066809284972545\n",
      "505# 813051746834595840\n",
      "506# 812781120811126785\n",
      "507# 812747805718642688\n",
      "812747805718642688: No status found with that ID.\n",
      "\n",
      "508# 812709060537683968\n",
      "509# 812503143955202048\n",
      "510# 812466873996607488\n",
      "511# 812372279581671427\n",
      "512# 811985624773361665\n",
      "513# 811744202451197953\n",
      "514# 811647686436880384\n",
      "515# 811627233043480576\n",
      "516# 811386762094317568\n",
      "517# 810984652412424192\n",
      "518# 810896069567610880\n",
      "519# 810657578271330305\n",
      "520# 810284430598270976\n",
      "521# 810254108431155201\n",
      "522# 809920764300447744\n",
      "523# 809808892968534016\n",
      "524# 809448704142938112\n",
      "525# 809220051211603969\n",
      "526# 809084759137812480\n",
      "527# 808838249661788160\n",
      "528# 808733504066486276\n",
      "529# 808501579447930884\n",
      "530# 808344865868283904\n",
      "531# 808134635716833280\n",
      "532# 808106460588765185\n",
      "533# 808001312164028416\n",
      "534# 807621403335917568\n",
      "535# 807106840509214720\n",
      "536# 807059379405148160\n",
      "537# 807010152071229440\n",
      "538# 806629075125202948\n",
      "539# 806620845233815552\n",
      "540# 806576416489959424\n",
      "541# 806542213899489280\n",
      "542# 806242860592926720\n",
      "543# 806219024703037440\n",
      "544# 805958939288408065\n",
      "545# 805932879469572096\n",
      "546# 805826884734976000\n",
      "547# 805823200554876929\n",
      "548# 805520635690676224\n",
      "549# 805487436403003392\n",
      "550# 805207613751304193\n",
      "551# 804738756058218496\n",
      "552# 804475857670639616\n",
      "553# 804413760345620481\n",
      "554# 804026241225523202\n",
      "555# 803773340896923648\n",
      "556# 803692223237865472\n",
      "557# 803638050916102144\n",
      "558# 803380650405482500\n",
      "559# 803321560782307329\n",
      "560# 803276597545603072\n",
      "561# 802952499103731712\n",
      "562# 802624713319034886\n",
      "563# 802600418706604034\n",
      "564# 802572683846291456\n",
      "565# 802323869084381190\n",
      "566# 802265048156610565\n",
      "567# 802247111496568832\n",
      "802247111496568832: No status found with that ID.\n",
      "\n",
      "568# 802239329049477120\n",
      "569# 802185808107208704\n",
      "570# 801958328846974976\n",
      "571# 801854953262350336\n",
      "572# 801538201127157760\n",
      "573# 801285448605831168\n",
      "574# 801167903437357056\n",
      "575# 801127390143516673\n",
      "576# 801115127852503040\n",
      "577# 800859414831898624\n",
      "578# 800855607700029440\n",
      "579# 800751577355128832\n",
      "580# 800513324630806528\n",
      "581# 800459316964663297\n",
      "582# 800443802682937345\n",
      "583# 800388270626521089\n",
      "584# 800188575492947969\n",
      "585# 800141422401830912\n",
      "586# 800018252395122689\n",
      "587# 799774291445383169\n",
      "588# 799757965289017345\n",
      "589# 799422933579902976\n",
      "590# 799308762079035393\n",
      "591# 799297110730567681\n",
      "592# 799063482566066176\n",
      "593# 798933969379225600\n",
      "594# 798925684722855936\n",
      "595# 798705661114773508\n",
      "596# 798701998996647937\n",
      "597# 798697898615730177\n",
      "598# 798694562394996736\n",
      "599# 798686750113755136\n",
      "600# 798682547630837760\n",
      "601# 798673117451325440\n",
      "602# 798665375516884993\n",
      "603# 798644042770751489\n",
      "604# 798628517273620480\n",
      "605# 798585098161549313\n",
      "606# 798576900688019456\n",
      "607# 798340744599797760\n",
      "608# 798209839306514432\n",
      "609# 797971864723324932\n",
      "610# 797545162159308800\n",
      "611# 797236660651966464\n",
      "612# 797165961484890113\n",
      "613# 796904159865868288\n",
      "614# 796865951799083009\n",
      "615# 796759840936919040\n",
      "616# 796563435802726400\n",
      "617# 796484825502875648\n",
      "618# 796387464403357696\n",
      "619# 796177847564038144\n",
      "620# 796149749086875649\n",
      "621# 796125600683540480\n",
      "622# 796116448414461957\n",
      "623# 796080075804475393\n",
      "624# 796031486298386433\n",
      "625# 795464331001561088\n",
      "626# 795400264262053889\n",
      "627# 795076730285391872\n",
      "628# 794983741416415232\n",
      "629# 794926597468000259\n",
      "630# 794355576146903043\n",
      "631# 794332329137291264\n",
      "632# 794205286408003585\n",
      "633# 793962221541933056\n",
      "634# 793845145112371200\n",
      "635# 793614319594401792\n",
      "636# 793601777308463104\n",
      "637# 793500921481273345\n",
      "638# 793286476301799424\n",
      "639# 793271401113350145\n",
      "640# 793256262322548741\n",
      "641# 793241302385262592\n",
      "642# 793226087023144960\n",
      "643# 793210959003287553\n",
      "644# 793195938047070209\n",
      "645# 793180763617361921\n",
      "646# 793165685325201412\n",
      "647# 793150605191548928\n",
      "648# 793135492858580992\n",
      "649# 793120401413079041\n",
      "650# 792913359805018113\n",
      "651# 792883833364439040\n",
      "652# 792773781206999040\n",
      "653# 792394556390137856\n",
      "654# 792050063153438720\n",
      "655# 791821351946420224\n",
      "656# 791784077045166082\n",
      "657# 791780927877898241\n",
      "658# 791774931465953280\n",
      "659# 791672322847637504\n",
      "660# 791406955684368384\n",
      "661# 791312159183634433\n",
      "662# 791026214425268224\n",
      "663# 790987426131050500\n",
      "664# 790946055508652032\n",
      "665# 790723298204217344\n",
      "666# 790698755171364864\n",
      "667# 790581949425475584\n",
      "668# 790337589677002753\n",
      "669# 790277117346975746\n",
      "670# 790227638568808452\n",
      "671# 789986466051088384\n",
      "672# 789960241177853952\n",
      "673# 789903600034189313\n",
      "674# 789628658055020548\n",
      "675# 789599242079838210\n",
      "676# 789530877013393408\n",
      "677# 789314372632018944\n",
      "678# 789280767834746880\n",
      "679# 789268448748703744\n",
      "680# 789137962068021249\n",
      "681# 788908386943430656\n",
      "682# 788765914992902144\n",
      "683# 788552643979468800\n",
      "684# 788412144018661376\n",
      "685# 788178268662984705\n",
      "686# 788150585577050112\n",
      "687# 788070120937619456\n",
      "688# 788039637453406209\n",
      "689# 787810552592695296\n",
      "690# 787717603741622272\n",
      "691# 787397959788929025\n",
      "692# 787322443945877504\n",
      "693# 787111942498508800\n",
      "694# 786963064373534720\n",
      "695# 786729988674449408\n",
      "696# 786709082849828864\n",
      "697# 786664955043049472\n",
      "698# 786595970293370880\n",
      "699# 786363235746385920\n",
      "700# 786286427768250368\n",
      "701# 786233965241827333\n",
      "702# 786051337297522688\n",
      "703# 786036967502913536\n",
      "704# 785927819176054784\n",
      "705# 785872687017132033\n",
      "706# 785639753186217984\n",
      "707# 785533386513321988\n",
      "708# 785515384317313025\n",
      "709# 785264754247995392\n",
      "710# 785170936622350336\n",
      "711# 784826020293709826\n",
      "712# 784517518371221505\n",
      "713# 784431430411685888\n",
      "714# 784183165795655680\n",
      "715# 784057939640352768\n",
      "716# 783839966405230592\n",
      "717# 783821107061198850\n",
      "718# 783695101801398276\n",
      "719# 783466772167098368\n",
      "720# 783391753726550016\n",
      "721# 783347506784731136\n",
      "722# 783334639985389568\n",
      "723# 783085703974514689\n",
      "724# 782969140009107456\n",
      "725# 782747134529531904\n",
      "726# 782722598790725632\n",
      "727# 782598640137187329\n",
      "728# 782305867769217024\n",
      "729# 782021823840026624\n",
      "730# 781955203444699136\n",
      "731# 781661882474196992\n",
      "732# 781655249211752448\n",
      "733# 781524693396357120\n",
      "734# 781308096455073793\n",
      "735# 781251288990355457\n",
      "736# 781163403222056960\n",
      "737# 780931614150983680\n",
      "738# 780858289093574656\n",
      "739# 780800785462489090\n",
      "740# 780601303617732608\n",
      "741# 780543529827336192\n",
      "742# 780496263422808064\n",
      "743# 780476555013349377\n",
      "744# 780459368902959104\n",
      "745# 780192070812196864\n",
      "746# 780092040432480260\n",
      "747# 780074436359819264\n",
      "748# 779834332596887552\n",
      "749# 779377524342161408\n",
      "750# 779124354206535695\n",
      "751# 779123168116150273\n",
      "752# 779056095788752897\n",
      "753# 778990705243029504\n",
      "754# 778774459159379968\n",
      "755# 778764940568104960\n",
      "756# 778748913645780993\n",
      "757# 778650543019483137\n",
      "758# 778624900596654080\n",
      "759# 778408200802557953\n",
      "760# 778396591732486144\n",
      "761# 778383385161035776\n",
      "762# 778286810187399168\n",
      "763# 778039087836069888\n",
      "764# 778027034220126208\n",
      "765# 777953400541634568\n",
      "766# 777885040357281792\n",
      "767# 777684233540206592\n",
      "768# 777641927919427584\n",
      "769# 777621514455814149\n",
      "770# 777189768882946048\n",
      "771# 776819012571455488\n",
      "772# 776813020089548800\n",
      "773# 776477788987613185\n",
      "774# 776249906839351296\n",
      "775# 776218204058357768\n",
      "776# 776201521193218049\n",
      "777# 776113305656188928\n",
      "778# 776088319444877312\n",
      "779# 775898661951791106\n",
      "780# 775842724423557120\n",
      "781# 775733305207554048\n",
      "782# 775729183532220416\n",
      "783# 775364825476165632\n",
      "784# 775350846108426240\n",
      "785# 775096608509886464\n",
      "775096608509886464: No status found with that ID.\n",
      "\n",
      "786# 775085132600442880\n",
      "787# 774757898236878852\n",
      "788# 774639387460112384\n",
      "789# 774314403806253056\n",
      "790# 773985732834758656\n",
      "791# 773922284943896577\n",
      "792# 773704687002451968\n",
      "793# 773670353721753600\n",
      "794# 773547596996571136\n",
      "795# 773336787167145985\n",
      "796# 773308824254029826\n",
      "797# 773247561583001600\n",
      "798# 773191612633579521\n",
      "799# 772877495989305348\n",
      "800# 772826264096874500\n",
      "801# 772615324260794368\n",
      "802# 772581559778025472\n",
      "803# 772193107915964416\n",
      "804# 772152991789019136\n",
      "805# 772117678702071809\n",
      "806# 772114945936949249\n",
      "807# 772102971039580160\n",
      "808# 771908950375665664\n",
      "809# 771770456517009408\n",
      "810# 771500966810099713\n",
      "811# 771380798096281600\n",
      "812# 771171053431250945\n",
      "813# 771136648247640064\n",
      "814# 771102124360998913\n",
      "815# 771014301343748096\n",
      "816# 771004394259247104\n",
      "817# 770787852854652928\n",
      "818# 770772759874076672\n",
      "819# 770743923962707968\n",
      "770743923962707968: No status found with that ID.\n",
      "\n",
      "820# 770655142660169732\n",
      "821# 770414278348247044\n",
      "822# 770293558247038976\n",
      "823# 770093767776997377\n",
      "824# 770069151037685760\n",
      "825# 769940425801170949\n",
      "826# 769695466921623552\n",
      "827# 769335591808995329\n",
      "828# 769212283578875904\n",
      "829# 768970937022709760\n",
      "830# 768909767477751808\n",
      "831# 768855141948723200\n",
      "832# 768609597686943744\n",
      "833# 768596291618299904\n",
      "834# 768554158521745409\n",
      "835# 768473857036525572\n",
      "836# 768193404517830656\n",
      "837# 767884188863397888\n",
      "838# 767754930266464257\n",
      "839# 767500508068192258\n",
      "840# 767191397493538821\n",
      "841# 767122157629476866\n",
      "842# 766864461642756096\n",
      "843# 766793450729734144\n",
      "844# 766714921925144576\n",
      "845# 766693177336135680\n",
      "846# 766423258543644672\n",
      "847# 766313316352462849\n",
      "848# 766078092750233600\n",
      "849# 766069199026450432\n",
      "850# 766008592277377025\n",
      "851# 765719909049503744\n",
      "852# 765669560888528897\n",
      "853# 765395769549590528\n",
      "854# 765371061932261376\n",
      "855# 765222098633691136\n",
      "856# 764857477905154048\n",
      "857# 764259802650378240\n",
      "858# 763956972077010945\n",
      "859# 763837565564780549\n",
      "860# 763183847194451968\n",
      "861# 763167063695355904\n",
      "862# 763103485927849985\n",
      "863# 762699858130116608\n",
      "864# 762471784394268675\n",
      "865# 762464539388485633\n",
      "866# 762316489655476224\n",
      "867# 762035686371364864\n",
      "868# 761976711479193600\n",
      "869# 761750502866649088\n",
      "870# 761745352076779520\n",
      "871# 761672994376806400\n",
      "872# 761599872357261312\n",
      "873# 761371037149827077\n",
      "874# 761334018830917632\n",
      "875# 761292947749015552\n",
      "876# 761227390836215808\n",
      "877# 761004547850530816\n",
      "878# 760893934457552897\n",
      "879# 760656994973933572\n",
      "880# 760641137271070720\n",
      "881# 760539183865880579\n",
      "882# 760521673607086080\n",
      "883# 760290219849637889\n",
      "884# 760252756032651264\n",
      "885# 760190180481531904\n",
      "886# 760153949710192640\n",
      "887# 759943073749200896\n",
      "888# 759923798737051648\n",
      "889# 759846353224826880\n",
      "890# 759793422261743616\n",
      "891# 759566828574212096\n",
      "892# 759557299618865152\n",
      "893# 759447681597108224\n",
      "894# 759446261539934208\n",
      "895# 759197388317847553\n",
      "896# 759159934323924993\n",
      "897# 759099523532779520\n",
      "898# 759047813560868866\n",
      "899# 758854675097526272\n",
      "900# 758828659922702336\n",
      "901# 758740312047005698\n",
      "Rate limit reached. Sleeping for: 713\n"
     ]
    },
    {
     "ename": "KeyboardInterrupt",
     "evalue": "",
     "output_type": "error",
     "traceback": [
      "\u001b[0;31m---------------------------------------------------------------------------\u001b[0m",
      "\u001b[0;31mKeyboardInterrupt\u001b[0m                         Traceback (most recent call last)",
      "\u001b[0;32m<ipython-input-61-2ff150770715>\u001b[0m in \u001b[0;36m<module>\u001b[0;34m()\u001b[0m\n\u001b[1;32m     12\u001b[0m                 \u001b[0mprint\u001b[0m\u001b[0;34m(\u001b[0m\u001b[0;34m\"%s# %s\"\u001b[0m \u001b[0;34m%\u001b[0m \u001b[0;34m(\u001b[0m\u001b[0mstr\u001b[0m\u001b[0;34m(\u001b[0m\u001b[0mi\u001b[0m\u001b[0;34m+\u001b[0m\u001b[0;36m1\u001b[0m\u001b[0;34m)\u001b[0m\u001b[0;34m,\u001b[0m \u001b[0mtweet_id\u001b[0m\u001b[0;34m)\u001b[0m\u001b[0;34m)\u001b[0m\u001b[0;34m\u001b[0m\u001b[0m\n\u001b[1;32m     13\u001b[0m                 \u001b[0;31m# Get tweet data using Twitter API\u001b[0m\u001b[0;34m\u001b[0m\u001b[0;34m\u001b[0m\u001b[0m\n\u001b[0;32m---> 14\u001b[0;31m                 \u001b[0mtweet\u001b[0m \u001b[0;34m=\u001b[0m \u001b[0mapi\u001b[0m\u001b[0;34m.\u001b[0m\u001b[0mget_status\u001b[0m\u001b[0;34m(\u001b[0m\u001b[0mtweet_id\u001b[0m\u001b[0;34m,\u001b[0m \u001b[0mtweet_mode\u001b[0m\u001b[0;34m=\u001b[0m\u001b[0;34m'extended'\u001b[0m\u001b[0;34m)\u001b[0m\u001b[0;34m\u001b[0m\u001b[0m\n\u001b[0m\u001b[1;32m     15\u001b[0m                 \u001b[0mjson_content\u001b[0m \u001b[0;34m=\u001b[0m \u001b[0mtweet\u001b[0m\u001b[0;34m.\u001b[0m\u001b[0m_json\u001b[0m\u001b[0;34m\u001b[0m\u001b[0m\n\u001b[1;32m     16\u001b[0m \u001b[0;34m\u001b[0m\u001b[0m\n",
      "\u001b[0;32m/opt/conda/lib/python3.6/site-packages/tweepy/binder.py\u001b[0m in \u001b[0;36m_call\u001b[0;34m(*args, **kwargs)\u001b[0m\n\u001b[1;32m    243\u001b[0m             \u001b[0;32mreturn\u001b[0m \u001b[0mmethod\u001b[0m\u001b[0;34m\u001b[0m\u001b[0m\n\u001b[1;32m    244\u001b[0m         \u001b[0;32melse\u001b[0m\u001b[0;34m:\u001b[0m\u001b[0;34m\u001b[0m\u001b[0m\n\u001b[0;32m--> 245\u001b[0;31m             \u001b[0;32mreturn\u001b[0m \u001b[0mmethod\u001b[0m\u001b[0;34m.\u001b[0m\u001b[0mexecute\u001b[0m\u001b[0;34m(\u001b[0m\u001b[0;34m)\u001b[0m\u001b[0;34m\u001b[0m\u001b[0m\n\u001b[0m\u001b[1;32m    246\u001b[0m \u001b[0;34m\u001b[0m\u001b[0m\n\u001b[1;32m    247\u001b[0m     \u001b[0;31m# Set pagination mode\u001b[0m\u001b[0;34m\u001b[0m\u001b[0;34m\u001b[0m\u001b[0m\n",
      "\u001b[0;32m/opt/conda/lib/python3.6/site-packages/tweepy/binder.py\u001b[0m in \u001b[0;36mexecute\u001b[0;34m(self)\u001b[0m\n\u001b[1;32m    160\u001b[0m                                     \u001b[0;32mif\u001b[0m \u001b[0mself\u001b[0m\u001b[0;34m.\u001b[0m\u001b[0mwait_on_rate_limit_notify\u001b[0m\u001b[0;34m:\u001b[0m\u001b[0;34m\u001b[0m\u001b[0m\n\u001b[1;32m    161\u001b[0m                                         \u001b[0mprint\u001b[0m\u001b[0;34m(\u001b[0m\u001b[0;34m\"Rate limit reached. Sleeping for:\"\u001b[0m\u001b[0;34m,\u001b[0m \u001b[0msleep_time\u001b[0m\u001b[0;34m)\u001b[0m\u001b[0;34m\u001b[0m\u001b[0m\n\u001b[0;32m--> 162\u001b[0;31m                                     \u001b[0mtime\u001b[0m\u001b[0;34m.\u001b[0m\u001b[0msleep\u001b[0m\u001b[0;34m(\u001b[0m\u001b[0msleep_time\u001b[0m \u001b[0;34m+\u001b[0m \u001b[0;36m5\u001b[0m\u001b[0;34m)\u001b[0m  \u001b[0;31m# sleep for few extra sec\u001b[0m\u001b[0;34m\u001b[0m\u001b[0m\n\u001b[0m\u001b[1;32m    163\u001b[0m \u001b[0;34m\u001b[0m\u001b[0m\n\u001b[1;32m    164\u001b[0m                 \u001b[0;31m# if self.wait_on_rate_limit and self._reset_time is not None and \\\u001b[0m\u001b[0;34m\u001b[0m\u001b[0;34m\u001b[0m\u001b[0m\n",
      "\u001b[0;31mKeyboardInterrupt\u001b[0m: "
     ]
    }
   ],
   "source": [
    "# Access archived Tweet ID; query Twitter API / match with JSON\n",
    "\n",
    "start = time.time() # start timer\n",
    "\n",
    "with open('getstatus_error.txt', 'w') as errfile: \n",
    "    valid_ids = 0\n",
    "    err_ids = 0\n",
    "    tweet_ids = twitter_archive_df.tweet_id\n",
    "    with open('tweet_json.txt', 'w', encoding='utf-8') as outfile:\n",
    "        for i, tweet_id in tweet_ids.iteritems():\n",
    "            try:\n",
    "                print(\"%s# %s\" % (str(i+1), tweet_id))\n",
    "                # Get tweet data using Twitter API\n",
    "                tweet = api.get_status(tweet_id, tweet_mode='extended')\n",
    "                json_content = tweet._json\n",
    "                \n",
    "                # Write each tweet's JSON data to its own line in a file\n",
    "                json.dump(json_content, outfile)\n",
    "                outfile.write('\\n')\n",
    "                valid_ids += 1\n",
    "            except tweepy.TweepError as e:\n",
    "                err_ids += 1\n",
    "                err_str = []\n",
    "                err_str.append(str(tweet_id))\n",
    "                err_str.append(': ')\n",
    "                err_str.append(e.response.json()['errors'][0]['message'])\n",
    "                err_str.append('\\n')\n",
    "                errfile.write(''.join(err_str))\n",
    "                print(''.join(err_str))\n",
    "                continue\n",
    "        print(\"%s %s\" % ('Valid tweets:', valid_ids))\n",
    "        print(\"%s %s\" % ('Error tweets:', err_ids))\n",
    "        \n",
    "end = time.time() # end timer\n",
    "print((end - start)/(1000*60))"
   ]
  },
  {
   "cell_type": "code",
   "execution_count": 62,
   "metadata": {},
   "outputs": [],
   "source": [
    "# Create dictionary-list; read JSON data; DataFrame conversion\n",
    "df_list = []\n",
    "with open('tweet_json.txt', 'r') as json_file:\n",
    "    for line in json_file:\n",
    "        status = json.loads(line)\n",
    "        \n",
    "        # Append to list of dictionaries\n",
    "        df_list.append({'tweet_id': status['id'],\n",
    "                        'retweet_count': status['retweet_count'],\n",
    "                        'favorite_count': status['favorite_count'],\n",
    "                        'display_text_range': status['display_text_range']\n",
    "                       })\n",
    "\n",
    "# Create DataFrame with tweet ID; retweet count; favorite count; display_text_range\n",
    "status_df = pd.DataFrame(df_list, columns = ['tweet_id', 'retweet_count', 'favorite_count', 'display_text_range'])"
   ]
  },
  {
   "cell_type": "code",
   "execution_count": 63,
   "metadata": {},
   "outputs": [
    {
     "data": {
      "text/html": [
       "<div>\n",
       "<style scoped>\n",
       "    .dataframe tbody tr th:only-of-type {\n",
       "        vertical-align: middle;\n",
       "    }\n",
       "\n",
       "    .dataframe tbody tr th {\n",
       "        vertical-align: top;\n",
       "    }\n",
       "\n",
       "    .dataframe thead th {\n",
       "        text-align: right;\n",
       "    }\n",
       "</style>\n",
       "<table border=\"1\" class=\"dataframe\">\n",
       "  <thead>\n",
       "    <tr style=\"text-align: right;\">\n",
       "      <th></th>\n",
       "      <th>tweet_id</th>\n",
       "      <th>in_reply_to_status_id</th>\n",
       "      <th>in_reply_to_user_id</th>\n",
       "      <th>timestamp</th>\n",
       "      <th>source</th>\n",
       "      <th>text</th>\n",
       "      <th>retweeted_status_id</th>\n",
       "      <th>retweeted_status_user_id</th>\n",
       "      <th>retweeted_status_timestamp</th>\n",
       "      <th>expanded_urls</th>\n",
       "      <th>rating_numerator</th>\n",
       "      <th>rating_denominator</th>\n",
       "      <th>name</th>\n",
       "      <th>doggo</th>\n",
       "      <th>floofer</th>\n",
       "      <th>pupper</th>\n",
       "      <th>puppo</th>\n",
       "    </tr>\n",
       "  </thead>\n",
       "  <tbody>\n",
       "    <tr>\n",
       "      <th>1303</th>\n",
       "      <td>707420581654872064</td>\n",
       "      <td>NaN</td>\n",
       "      <td>NaN</td>\n",
       "      <td>2016-03-09 04:19:44 +0000</td>\n",
       "      <td>&lt;a href=\"http://twitter.com/download/iphone\" r...</td>\n",
       "      <td>This is Keurig. He's a rare dog. Laughs like a...</td>\n",
       "      <td>NaN</td>\n",
       "      <td>NaN</td>\n",
       "      <td>NaN</td>\n",
       "      <td>https://twitter.com/dog_rates/status/707420581...</td>\n",
       "      <td>4</td>\n",
       "      <td>10</td>\n",
       "      <td>Keurig</td>\n",
       "      <td>None</td>\n",
       "      <td>None</td>\n",
       "      <td>None</td>\n",
       "      <td>None</td>\n",
       "    </tr>\n",
       "    <tr>\n",
       "      <th>191</th>\n",
       "      <td>855851453814013952</td>\n",
       "      <td>NaN</td>\n",
       "      <td>NaN</td>\n",
       "      <td>2017-04-22 18:31:02 +0000</td>\n",
       "      <td>&lt;a href=\"http://twitter.com/download/iphone\" r...</td>\n",
       "      <td>Here's a puppo participating in the #ScienceMa...</td>\n",
       "      <td>NaN</td>\n",
       "      <td>NaN</td>\n",
       "      <td>NaN</td>\n",
       "      <td>https://twitter.com/dog_rates/status/855851453...</td>\n",
       "      <td>13</td>\n",
       "      <td>10</td>\n",
       "      <td>None</td>\n",
       "      <td>doggo</td>\n",
       "      <td>None</td>\n",
       "      <td>None</td>\n",
       "      <td>puppo</td>\n",
       "    </tr>\n",
       "    <tr>\n",
       "      <th>382</th>\n",
       "      <td>827228250799742977</td>\n",
       "      <td>NaN</td>\n",
       "      <td>NaN</td>\n",
       "      <td>2017-02-02 18:52:38 +0000</td>\n",
       "      <td>&lt;a href=\"http://twitter.com/download/iphone\" r...</td>\n",
       "      <td>RT @dog_rates: This is Phil. He's an important...</td>\n",
       "      <td>6.946697e+17</td>\n",
       "      <td>4.196984e+09</td>\n",
       "      <td>2016-02-02 23:52:22 +0000</td>\n",
       "      <td>https://twitter.com/dog_rates/status/694669722...</td>\n",
       "      <td>12</td>\n",
       "      <td>10</td>\n",
       "      <td>Phil</td>\n",
       "      <td>None</td>\n",
       "      <td>None</td>\n",
       "      <td>None</td>\n",
       "      <td>None</td>\n",
       "    </tr>\n",
       "    <tr>\n",
       "      <th>1566</th>\n",
       "      <td>687841446767013888</td>\n",
       "      <td>NaN</td>\n",
       "      <td>NaN</td>\n",
       "      <td>2016-01-15 03:39:15 +0000</td>\n",
       "      <td>&lt;a href=\"http://vine.co\" rel=\"nofollow\"&gt;Vine -...</td>\n",
       "      <td>13/10 I can't stop watching this (vid by @k8ly...</td>\n",
       "      <td>NaN</td>\n",
       "      <td>NaN</td>\n",
       "      <td>NaN</td>\n",
       "      <td>https://vine.co/v/iOWwUPH1hrw</td>\n",
       "      <td>13</td>\n",
       "      <td>10</td>\n",
       "      <td>None</td>\n",
       "      <td>None</td>\n",
       "      <td>None</td>\n",
       "      <td>None</td>\n",
       "      <td>None</td>\n",
       "    </tr>\n",
       "    <tr>\n",
       "      <th>267</th>\n",
       "      <td>841680585030541313</td>\n",
       "      <td>NaN</td>\n",
       "      <td>NaN</td>\n",
       "      <td>2017-03-14 16:01:03 +0000</td>\n",
       "      <td>&lt;a href=\"http://twitter.com/download/iphone\" r...</td>\n",
       "      <td>This is Penny. She's a dragon slayer. Feared b...</td>\n",
       "      <td>NaN</td>\n",
       "      <td>NaN</td>\n",
       "      <td>NaN</td>\n",
       "      <td>https://twitter.com/dog_rates/status/841680585...</td>\n",
       "      <td>12</td>\n",
       "      <td>10</td>\n",
       "      <td>Penny</td>\n",
       "      <td>None</td>\n",
       "      <td>None</td>\n",
       "      <td>None</td>\n",
       "      <td>None</td>\n",
       "    </tr>\n",
       "  </tbody>\n",
       "</table>\n",
       "</div>"
      ],
      "text/plain": [
       "                tweet_id  in_reply_to_status_id  in_reply_to_user_id  \\\n",
       "1303  707420581654872064                    NaN                  NaN   \n",
       "191   855851453814013952                    NaN                  NaN   \n",
       "382   827228250799742977                    NaN                  NaN   \n",
       "1566  687841446767013888                    NaN                  NaN   \n",
       "267   841680585030541313                    NaN                  NaN   \n",
       "\n",
       "                      timestamp  \\\n",
       "1303  2016-03-09 04:19:44 +0000   \n",
       "191   2017-04-22 18:31:02 +0000   \n",
       "382   2017-02-02 18:52:38 +0000   \n",
       "1566  2016-01-15 03:39:15 +0000   \n",
       "267   2017-03-14 16:01:03 +0000   \n",
       "\n",
       "                                                 source  \\\n",
       "1303  <a href=\"http://twitter.com/download/iphone\" r...   \n",
       "191   <a href=\"http://twitter.com/download/iphone\" r...   \n",
       "382   <a href=\"http://twitter.com/download/iphone\" r...   \n",
       "1566  <a href=\"http://vine.co\" rel=\"nofollow\">Vine -...   \n",
       "267   <a href=\"http://twitter.com/download/iphone\" r...   \n",
       "\n",
       "                                                   text  retweeted_status_id  \\\n",
       "1303  This is Keurig. He's a rare dog. Laughs like a...                  NaN   \n",
       "191   Here's a puppo participating in the #ScienceMa...                  NaN   \n",
       "382   RT @dog_rates: This is Phil. He's an important...         6.946697e+17   \n",
       "1566  13/10 I can't stop watching this (vid by @k8ly...                  NaN   \n",
       "267   This is Penny. She's a dragon slayer. Feared b...                  NaN   \n",
       "\n",
       "      retweeted_status_user_id retweeted_status_timestamp  \\\n",
       "1303                       NaN                        NaN   \n",
       "191                        NaN                        NaN   \n",
       "382               4.196984e+09  2016-02-02 23:52:22 +0000   \n",
       "1566                       NaN                        NaN   \n",
       "267                        NaN                        NaN   \n",
       "\n",
       "                                          expanded_urls  rating_numerator  \\\n",
       "1303  https://twitter.com/dog_rates/status/707420581...                 4   \n",
       "191   https://twitter.com/dog_rates/status/855851453...                13   \n",
       "382   https://twitter.com/dog_rates/status/694669722...                12   \n",
       "1566                      https://vine.co/v/iOWwUPH1hrw                13   \n",
       "267   https://twitter.com/dog_rates/status/841680585...                12   \n",
       "\n",
       "      rating_denominator    name  doggo floofer pupper  puppo  \n",
       "1303                  10  Keurig   None    None   None   None  \n",
       "191                   10    None  doggo    None   None  puppo  \n",
       "382                   10    Phil   None    None   None   None  \n",
       "1566                  10    None   None    None   None   None  \n",
       "267                   10   Penny   None    None   None   None  "
      ]
     },
     "execution_count": 63,
     "metadata": {},
     "output_type": "execute_result"
    }
   ],
   "source": [
    "# Check / confirm this DataFrame loads / is viewable\n",
    "twitter_archive_df.sample(5)"
   ]
  },
  {
   "cell_type": "code",
   "execution_count": 64,
   "metadata": {},
   "outputs": [
    {
     "name": "stdout",
     "output_type": "stream",
     "text": [
      "<class 'pandas.core.frame.DataFrame'>\n",
      "RangeIndex: 2356 entries, 0 to 2355\n",
      "Data columns (total 17 columns):\n",
      "tweet_id                      2356 non-null int64\n",
      "in_reply_to_status_id         78 non-null float64\n",
      "in_reply_to_user_id           78 non-null float64\n",
      "timestamp                     2356 non-null object\n",
      "source                        2356 non-null object\n",
      "text                          2356 non-null object\n",
      "retweeted_status_id           181 non-null float64\n",
      "retweeted_status_user_id      181 non-null float64\n",
      "retweeted_status_timestamp    181 non-null object\n",
      "expanded_urls                 2297 non-null object\n",
      "rating_numerator              2356 non-null int64\n",
      "rating_denominator            2356 non-null int64\n",
      "name                          2356 non-null object\n",
      "doggo                         2356 non-null object\n",
      "floofer                       2356 non-null object\n",
      "pupper                        2356 non-null object\n",
      "puppo                         2356 non-null object\n",
      "dtypes: float64(4), int64(3), object(10)\n",
      "memory usage: 313.0+ KB\n"
     ]
    }
   ],
   "source": [
    "# Continue checking / confirming this loads correctly\n",
    "twitter_archive_df.info()"
   ]
  },
  {
   "cell_type": "code",
   "execution_count": 65,
   "metadata": {},
   "outputs": [
    {
     "data": {
      "text/plain": [
       "181"
      ]
     },
     "execution_count": 65,
     "metadata": {},
     "output_type": "execute_result"
    }
   ],
   "source": [
    "# Look for twitter_archive_df retweets\n",
    "len(twitter_archive_df[twitter_archive_df.retweeted_status_id.isnull() == False])"
   ]
  },
  {
   "cell_type": "code",
   "execution_count": 66,
   "metadata": {},
   "outputs": [
    {
     "data": {
      "text/plain": [
       "281"
      ]
     },
     "execution_count": 66,
     "metadata": {},
     "output_type": "execute_result"
    }
   ],
   "source": [
    "# Look for twitter_archive_df same tweet_id not in image_predictions_df\n",
    "len(twitter_archive_df[~twitter_archive_df.tweet_id.isin(image_predictions_df.tweet_id)])"
   ]
  },
  {
   "cell_type": "code",
   "execution_count": 67,
   "metadata": {},
   "outputs": [
    {
     "data": {
      "text/plain": [
       "0         1\n",
       "2         1\n",
       "7         1\n",
       "10     2333\n",
       "11        3\n",
       "15        1\n",
       "16        1\n",
       "20        2\n",
       "40        1\n",
       "50        3\n",
       "70        1\n",
       "80        2\n",
       "90        1\n",
       "110       1\n",
       "120       1\n",
       "130       1\n",
       "150       1\n",
       "170       1\n",
       "Name: rating_denominator, dtype: int64"
      ]
     },
     "execution_count": 67,
     "metadata": {},
     "output_type": "execute_result"
    }
   ],
   "source": [
    "# Check rating_denominators\n",
    "twitter_archive_df.rating_denominator.value_counts().sort_index()"
   ]
  },
  {
   "cell_type": "code",
   "execution_count": 68,
   "metadata": {
    "scrolled": true
   },
   "outputs": [
    {
     "data": {
      "text/plain": [
       "0         2\n",
       "1         9\n",
       "2         9\n",
       "3        19\n",
       "4        17\n",
       "5        37\n",
       "6        32\n",
       "7        55\n",
       "8       102\n",
       "9       158\n",
       "10      461\n",
       "11      464\n",
       "12      558\n",
       "13      351\n",
       "14       54\n",
       "15        2\n",
       "17        1\n",
       "20        1\n",
       "24        1\n",
       "26        1\n",
       "27        1\n",
       "44        1\n",
       "45        1\n",
       "50        1\n",
       "60        1\n",
       "75        2\n",
       "80        1\n",
       "84        1\n",
       "88        1\n",
       "99        1\n",
       "121       1\n",
       "143       1\n",
       "144       1\n",
       "165       1\n",
       "182       1\n",
       "204       1\n",
       "420       2\n",
       "666       1\n",
       "960       1\n",
       "1776      1\n",
       "Name: rating_numerator, dtype: int64"
      ]
     },
     "execution_count": 68,
     "metadata": {},
     "output_type": "execute_result"
    }
   ],
   "source": [
    "# Check rating_numerators\n",
    "twitter_archive_df.rating_numerator.value_counts().sort_index()"
   ]
  },
  {
   "cell_type": "code",
   "execution_count": 69,
   "metadata": {},
   "outputs": [
    {
     "data": {
      "text/plain": [
       "very             5\n",
       "unacceptable     1\n",
       "this             1\n",
       "the              8\n",
       "such             1\n",
       "space            1\n",
       "quite            4\n",
       "one              4\n",
       "old              1\n",
       "officially       1\n",
       "not              2\n",
       "my               1\n",
       "mad              2\n",
       "light            1\n",
       "life             1\n",
       "just             4\n",
       "infuriating      1\n",
       "incredibly       1\n",
       "his              1\n",
       "getting          2\n",
       "by               1\n",
       "an               7\n",
       "all              1\n",
       "actually         2\n",
       "a               55\n",
       "Zuzu             1\n",
       "Zooey            1\n",
       "Zoey             3\n",
       "Zoe              1\n",
       "Ziva             1\n",
       "                ..\n",
       "Apollo           1\n",
       "Antony           1\n",
       "Anthony          1\n",
       "Anna             1\n",
       "Angel            1\n",
       "Andy             1\n",
       "Andru            1\n",
       "Anakin           2\n",
       "Amélie           1\n",
       "Amy              1\n",
       "Ambrose          1\n",
       "Amber            1\n",
       "Alice            2\n",
       "Alfy             1\n",
       "Alfie            5\n",
       "Alf              1\n",
       "Alexanderson     1\n",
       "Alexander        1\n",
       "Alejandro        1\n",
       "Aldrick          1\n",
       "Albus            2\n",
       "Albert           2\n",
       "Al               1\n",
       "Akumi            1\n",
       "Aja              1\n",
       "Aiden            1\n",
       "Adele            1\n",
       "Acro             1\n",
       "Ace              1\n",
       "Abby             2\n",
       "Name: name, Length: 957, dtype: int64"
      ]
     },
     "execution_count": 69,
     "metadata": {},
     "output_type": "execute_result"
    }
   ],
   "source": [
    "# Check / confirm this DataFrame loads / is viewable\n",
    "twitter_archive_df.name.value_counts().sort_index(ascending=False)"
   ]
  },
  {
   "cell_type": "markdown",
   "metadata": {},
   "source": [
    "### Assess Image Predictions DataFrame"
   ]
  },
  {
   "cell_type": "code",
   "execution_count": 70,
   "metadata": {},
   "outputs": [
    {
     "data": {
      "text/html": [
       "<div>\n",
       "<style scoped>\n",
       "    .dataframe tbody tr th:only-of-type {\n",
       "        vertical-align: middle;\n",
       "    }\n",
       "\n",
       "    .dataframe tbody tr th {\n",
       "        vertical-align: top;\n",
       "    }\n",
       "\n",
       "    .dataframe thead th {\n",
       "        text-align: right;\n",
       "    }\n",
       "</style>\n",
       "<table border=\"1\" class=\"dataframe\">\n",
       "  <thead>\n",
       "    <tr style=\"text-align: right;\">\n",
       "      <th></th>\n",
       "      <th>tweet_id</th>\n",
       "      <th>jpg_url</th>\n",
       "      <th>img_num</th>\n",
       "      <th>p1</th>\n",
       "      <th>p1_conf</th>\n",
       "      <th>p1_dog</th>\n",
       "      <th>p2</th>\n",
       "      <th>p2_conf</th>\n",
       "      <th>p2_dog</th>\n",
       "      <th>p3</th>\n",
       "      <th>p3_conf</th>\n",
       "      <th>p3_dog</th>\n",
       "    </tr>\n",
       "  </thead>\n",
       "  <tbody>\n",
       "    <tr>\n",
       "      <th>0</th>\n",
       "      <td>666020888022790149</td>\n",
       "      <td>https://pbs.twimg.com/media/CT4udn0WwAA0aMy.jpg</td>\n",
       "      <td>1</td>\n",
       "      <td>Welsh_springer_spaniel</td>\n",
       "      <td>0.465074</td>\n",
       "      <td>True</td>\n",
       "      <td>collie</td>\n",
       "      <td>0.156665</td>\n",
       "      <td>True</td>\n",
       "      <td>Shetland_sheepdog</td>\n",
       "      <td>0.061428</td>\n",
       "      <td>True</td>\n",
       "    </tr>\n",
       "    <tr>\n",
       "      <th>1</th>\n",
       "      <td>666029285002620928</td>\n",
       "      <td>https://pbs.twimg.com/media/CT42GRgUYAA5iDo.jpg</td>\n",
       "      <td>1</td>\n",
       "      <td>redbone</td>\n",
       "      <td>0.506826</td>\n",
       "      <td>True</td>\n",
       "      <td>miniature_pinscher</td>\n",
       "      <td>0.074192</td>\n",
       "      <td>True</td>\n",
       "      <td>Rhodesian_ridgeback</td>\n",
       "      <td>0.072010</td>\n",
       "      <td>True</td>\n",
       "    </tr>\n",
       "    <tr>\n",
       "      <th>2</th>\n",
       "      <td>666033412701032449</td>\n",
       "      <td>https://pbs.twimg.com/media/CT4521TWwAEvMyu.jpg</td>\n",
       "      <td>1</td>\n",
       "      <td>German_shepherd</td>\n",
       "      <td>0.596461</td>\n",
       "      <td>True</td>\n",
       "      <td>malinois</td>\n",
       "      <td>0.138584</td>\n",
       "      <td>True</td>\n",
       "      <td>bloodhound</td>\n",
       "      <td>0.116197</td>\n",
       "      <td>True</td>\n",
       "    </tr>\n",
       "    <tr>\n",
       "      <th>3</th>\n",
       "      <td>666044226329800704</td>\n",
       "      <td>https://pbs.twimg.com/media/CT5Dr8HUEAA-lEu.jpg</td>\n",
       "      <td>1</td>\n",
       "      <td>Rhodesian_ridgeback</td>\n",
       "      <td>0.408143</td>\n",
       "      <td>True</td>\n",
       "      <td>redbone</td>\n",
       "      <td>0.360687</td>\n",
       "      <td>True</td>\n",
       "      <td>miniature_pinscher</td>\n",
       "      <td>0.222752</td>\n",
       "      <td>True</td>\n",
       "    </tr>\n",
       "    <tr>\n",
       "      <th>4</th>\n",
       "      <td>666049248165822465</td>\n",
       "      <td>https://pbs.twimg.com/media/CT5IQmsXIAAKY4A.jpg</td>\n",
       "      <td>1</td>\n",
       "      <td>miniature_pinscher</td>\n",
       "      <td>0.560311</td>\n",
       "      <td>True</td>\n",
       "      <td>Rottweiler</td>\n",
       "      <td>0.243682</td>\n",
       "      <td>True</td>\n",
       "      <td>Doberman</td>\n",
       "      <td>0.154629</td>\n",
       "      <td>True</td>\n",
       "    </tr>\n",
       "  </tbody>\n",
       "</table>\n",
       "</div>"
      ],
      "text/plain": [
       "             tweet_id                                          jpg_url  \\\n",
       "0  666020888022790149  https://pbs.twimg.com/media/CT4udn0WwAA0aMy.jpg   \n",
       "1  666029285002620928  https://pbs.twimg.com/media/CT42GRgUYAA5iDo.jpg   \n",
       "2  666033412701032449  https://pbs.twimg.com/media/CT4521TWwAEvMyu.jpg   \n",
       "3  666044226329800704  https://pbs.twimg.com/media/CT5Dr8HUEAA-lEu.jpg   \n",
       "4  666049248165822465  https://pbs.twimg.com/media/CT5IQmsXIAAKY4A.jpg   \n",
       "\n",
       "   img_num                      p1   p1_conf  p1_dog                  p2  \\\n",
       "0        1  Welsh_springer_spaniel  0.465074    True              collie   \n",
       "1        1                 redbone  0.506826    True  miniature_pinscher   \n",
       "2        1         German_shepherd  0.596461    True            malinois   \n",
       "3        1     Rhodesian_ridgeback  0.408143    True             redbone   \n",
       "4        1      miniature_pinscher  0.560311    True          Rottweiler   \n",
       "\n",
       "    p2_conf  p2_dog                   p3   p3_conf  p3_dog  \n",
       "0  0.156665    True    Shetland_sheepdog  0.061428    True  \n",
       "1  0.074192    True  Rhodesian_ridgeback  0.072010    True  \n",
       "2  0.138584    True           bloodhound  0.116197    True  \n",
       "3  0.360687    True   miniature_pinscher  0.222752    True  \n",
       "4  0.243682    True             Doberman  0.154629    True  "
      ]
     },
     "execution_count": 70,
     "metadata": {},
     "output_type": "execute_result"
    }
   ],
   "source": [
    "# Check image_predictions Dataframe\n",
    "image_predictions_df.head(5)"
   ]
  },
  {
   "cell_type": "code",
   "execution_count": 71,
   "metadata": {},
   "outputs": [
    {
     "name": "stdout",
     "output_type": "stream",
     "text": [
      "<class 'pandas.core.frame.DataFrame'>\n",
      "RangeIndex: 2075 entries, 0 to 2074\n",
      "Data columns (total 12 columns):\n",
      "tweet_id    2075 non-null int64\n",
      "jpg_url     2075 non-null object\n",
      "img_num     2075 non-null int64\n",
      "p1          2075 non-null object\n",
      "p1_conf     2075 non-null float64\n",
      "p1_dog      2075 non-null bool\n",
      "p2          2075 non-null object\n",
      "p2_conf     2075 non-null float64\n",
      "p2_dog      2075 non-null bool\n",
      "p3          2075 non-null object\n",
      "p3_conf     2075 non-null float64\n",
      "p3_dog      2075 non-null bool\n",
      "dtypes: bool(3), float64(3), int64(2), object(4)\n",
      "memory usage: 152.1+ KB\n"
     ]
    }
   ],
   "source": [
    "# Check / confirm this DataFrame loads / is viewable\n",
    "image_predictions_df.info()"
   ]
  },
  {
   "cell_type": "code",
   "execution_count": 72,
   "metadata": {},
   "outputs": [
    {
     "data": {
      "text/plain": [
       "(2075, 12)"
      ]
     },
     "execution_count": 72,
     "metadata": {},
     "output_type": "execute_result"
    }
   ],
   "source": [
    "# Check / confirm this DataFrame loads / is viewable\n",
    "image_predictions_df.shape"
   ]
  },
  {
   "cell_type": "code",
   "execution_count": 73,
   "metadata": {},
   "outputs": [
    {
     "data": {
      "text/plain": [
       "2075"
      ]
     },
     "execution_count": 73,
     "metadata": {},
     "output_type": "execute_result"
    }
   ],
   "source": [
    "# Check / confirm this DataFrame loads / is viewable\n",
    "image_predictions_df['tweet_id'].nunique()"
   ]
  },
  {
   "cell_type": "code",
   "execution_count": 74,
   "metadata": {},
   "outputs": [
    {
     "data": {
      "text/plain": [
       "2009"
      ]
     },
     "execution_count": 74,
     "metadata": {},
     "output_type": "execute_result"
    }
   ],
   "source": [
    "# Check / confirm this DataFrame loads / is viewable\n",
    "image_predictions_df['jpg_url'].nunique()"
   ]
  },
  {
   "cell_type": "code",
   "execution_count": 75,
   "metadata": {},
   "outputs": [
    {
     "data": {
      "text/plain": [
       "4"
      ]
     },
     "execution_count": 75,
     "metadata": {},
     "output_type": "execute_result"
    }
   ],
   "source": [
    "# Check / confirm this DataFrame loads / is viewable\n",
    "image_predictions_df['img_num'].nunique()"
   ]
  },
  {
   "cell_type": "code",
   "execution_count": 53,
   "metadata": {},
   "outputs": [
    {
     "data": {
      "text/plain": [
       "2009"
      ]
     },
     "execution_count": 53,
     "metadata": {},
     "output_type": "execute_result"
    }
   ],
   "source": [
    "# Check / confirm this DataFrame loads / is viewable\n",
    "image_predictions_df['jpg_url'].nunique()"
   ]
  },
  {
   "cell_type": "markdown",
   "metadata": {},
   "source": [
    "### Assess JSON DataFrame"
   ]
  },
  {
   "cell_type": "code",
   "execution_count": 76,
   "metadata": {},
   "outputs": [
    {
     "data": {
      "text/html": [
       "<div>\n",
       "<style scoped>\n",
       "    .dataframe tbody tr th:only-of-type {\n",
       "        vertical-align: middle;\n",
       "    }\n",
       "\n",
       "    .dataframe tbody tr th {\n",
       "        vertical-align: top;\n",
       "    }\n",
       "\n",
       "    .dataframe thead th {\n",
       "        text-align: right;\n",
       "    }\n",
       "</style>\n",
       "<table border=\"1\" class=\"dataframe\">\n",
       "  <thead>\n",
       "    <tr style=\"text-align: right;\">\n",
       "      <th></th>\n",
       "      <th>tweet_id</th>\n",
       "      <th>retweet_count</th>\n",
       "      <th>favorite_count</th>\n",
       "      <th>display_text_range</th>\n",
       "    </tr>\n",
       "  </thead>\n",
       "  <tbody>\n",
       "    <tr>\n",
       "      <th>0</th>\n",
       "      <td>892420643555336193</td>\n",
       "      <td>8148</td>\n",
       "      <td>37462</td>\n",
       "      <td>[0, 85]</td>\n",
       "    </tr>\n",
       "    <tr>\n",
       "      <th>1</th>\n",
       "      <td>892177421306343426</td>\n",
       "      <td>6034</td>\n",
       "      <td>32190</td>\n",
       "      <td>[0, 138]</td>\n",
       "    </tr>\n",
       "    <tr>\n",
       "      <th>2</th>\n",
       "      <td>891815181378084864</td>\n",
       "      <td>3993</td>\n",
       "      <td>24268</td>\n",
       "      <td>[0, 121]</td>\n",
       "    </tr>\n",
       "    <tr>\n",
       "      <th>3</th>\n",
       "      <td>891689557279858688</td>\n",
       "      <td>8309</td>\n",
       "      <td>40758</td>\n",
       "      <td>[0, 79]</td>\n",
       "    </tr>\n",
       "    <tr>\n",
       "      <th>4</th>\n",
       "      <td>891327558926688256</td>\n",
       "      <td>9001</td>\n",
       "      <td>38993</td>\n",
       "      <td>[0, 138]</td>\n",
       "    </tr>\n",
       "  </tbody>\n",
       "</table>\n",
       "</div>"
      ],
      "text/plain": [
       "             tweet_id  retweet_count  favorite_count display_text_range\n",
       "0  892420643555336193           8148           37462            [0, 85]\n",
       "1  892177421306343426           6034           32190           [0, 138]\n",
       "2  891815181378084864           3993           24268           [0, 121]\n",
       "3  891689557279858688           8309           40758            [0, 79]\n",
       "4  891327558926688256           9001           38993           [0, 138]"
      ]
     },
     "execution_count": 76,
     "metadata": {},
     "output_type": "execute_result"
    }
   ],
   "source": [
    "# Check / confirm this DataFrame loads / is viewable\n",
    "status_df.head(5)"
   ]
  },
  {
   "cell_type": "code",
   "execution_count": 77,
   "metadata": {},
   "outputs": [
    {
     "name": "stdout",
     "output_type": "stream",
     "text": [
      "<class 'pandas.core.frame.DataFrame'>\n",
      "RangeIndex: 881 entries, 0 to 880\n",
      "Data columns (total 4 columns):\n",
      "tweet_id              881 non-null int64\n",
      "retweet_count         881 non-null int64\n",
      "favorite_count        881 non-null int64\n",
      "display_text_range    881 non-null object\n",
      "dtypes: int64(3), object(1)\n",
      "memory usage: 27.6+ KB\n"
     ]
    }
   ],
   "source": [
    "# Check / confirm this DataFrame loads / is viewable\n",
    "status_df.info()"
   ]
  },
  {
   "cell_type": "code",
   "execution_count": 78,
   "metadata": {},
   "outputs": [
    {
     "data": {
      "text/plain": [
       "(881, 4)"
      ]
     },
     "execution_count": 78,
     "metadata": {},
     "output_type": "execute_result"
    }
   ],
   "source": [
    "# Check / confirm this DataFrame loads / is viewable\n",
    "status_df.shape"
   ]
  },
  {
   "cell_type": "code",
   "execution_count": 79,
   "metadata": {},
   "outputs": [
    {
     "data": {
      "text/plain": [
       "881"
      ]
     },
     "execution_count": 79,
     "metadata": {},
     "output_type": "execute_result"
    }
   ],
   "source": [
    "# Check / confirm this DataFrame loads / is viewable\n",
    "status_df['tweet_id'].nunique()"
   ]
  },
  {
   "cell_type": "markdown",
   "metadata": {},
   "source": [
    "## Clean \n",
    "\n",
    "### Create Master DataFrame "
   ]
  },
  {
   "cell_type": "code",
   "execution_count": 80,
   "metadata": {},
   "outputs": [],
   "source": [
    "# Combine all three into one DataFrame\n",
    "\n",
    "# Twitter archive plus image predictions\n",
    "master_df = pd.merge(twitter_archive_df, image_predictions_df, how = 'left', on = ['tweet_id'])\n",
    "\n",
    "# Master DataFrame plus json \n",
    "master_df = pd.merge(master_df, status_df, how = 'left', on = ['tweet_id'])"
   ]
  },
  {
   "cell_type": "code",
   "execution_count": 81,
   "metadata": {},
   "outputs": [
    {
     "data": {
      "text/html": [
       "<div>\n",
       "<style scoped>\n",
       "    .dataframe tbody tr th:only-of-type {\n",
       "        vertical-align: middle;\n",
       "    }\n",
       "\n",
       "    .dataframe tbody tr th {\n",
       "        vertical-align: top;\n",
       "    }\n",
       "\n",
       "    .dataframe thead th {\n",
       "        text-align: right;\n",
       "    }\n",
       "</style>\n",
       "<table border=\"1\" class=\"dataframe\">\n",
       "  <thead>\n",
       "    <tr style=\"text-align: right;\">\n",
       "      <th></th>\n",
       "      <th>tweet_id</th>\n",
       "      <th>in_reply_to_status_id</th>\n",
       "      <th>in_reply_to_user_id</th>\n",
       "      <th>timestamp</th>\n",
       "      <th>source</th>\n",
       "      <th>text</th>\n",
       "      <th>retweeted_status_id</th>\n",
       "      <th>retweeted_status_user_id</th>\n",
       "      <th>retweeted_status_timestamp</th>\n",
       "      <th>expanded_urls</th>\n",
       "      <th>...</th>\n",
       "      <th>p1_dog</th>\n",
       "      <th>p2</th>\n",
       "      <th>p2_conf</th>\n",
       "      <th>p2_dog</th>\n",
       "      <th>p3</th>\n",
       "      <th>p3_conf</th>\n",
       "      <th>p3_dog</th>\n",
       "      <th>retweet_count</th>\n",
       "      <th>favorite_count</th>\n",
       "      <th>display_text_range</th>\n",
       "    </tr>\n",
       "  </thead>\n",
       "  <tbody>\n",
       "    <tr>\n",
       "      <th>0</th>\n",
       "      <td>892420643555336193</td>\n",
       "      <td>NaN</td>\n",
       "      <td>NaN</td>\n",
       "      <td>2017-08-01 16:23:56 +0000</td>\n",
       "      <td>&lt;a href=\"http://twitter.com/download/iphone\" r...</td>\n",
       "      <td>This is Phineas. He's a mystical boy. Only eve...</td>\n",
       "      <td>NaN</td>\n",
       "      <td>NaN</td>\n",
       "      <td>NaN</td>\n",
       "      <td>https://twitter.com/dog_rates/status/892420643...</td>\n",
       "      <td>...</td>\n",
       "      <td>False</td>\n",
       "      <td>bagel</td>\n",
       "      <td>0.085851</td>\n",
       "      <td>False</td>\n",
       "      <td>banana</td>\n",
       "      <td>0.076110</td>\n",
       "      <td>False</td>\n",
       "      <td>8148.0</td>\n",
       "      <td>37462.0</td>\n",
       "      <td>[0, 85]</td>\n",
       "    </tr>\n",
       "    <tr>\n",
       "      <th>1</th>\n",
       "      <td>892177421306343426</td>\n",
       "      <td>NaN</td>\n",
       "      <td>NaN</td>\n",
       "      <td>2017-08-01 00:17:27 +0000</td>\n",
       "      <td>&lt;a href=\"http://twitter.com/download/iphone\" r...</td>\n",
       "      <td>This is Tilly. She's just checking pup on you....</td>\n",
       "      <td>NaN</td>\n",
       "      <td>NaN</td>\n",
       "      <td>NaN</td>\n",
       "      <td>https://twitter.com/dog_rates/status/892177421...</td>\n",
       "      <td>...</td>\n",
       "      <td>True</td>\n",
       "      <td>Pekinese</td>\n",
       "      <td>0.090647</td>\n",
       "      <td>True</td>\n",
       "      <td>papillon</td>\n",
       "      <td>0.068957</td>\n",
       "      <td>True</td>\n",
       "      <td>6034.0</td>\n",
       "      <td>32190.0</td>\n",
       "      <td>[0, 138]</td>\n",
       "    </tr>\n",
       "    <tr>\n",
       "      <th>2</th>\n",
       "      <td>891815181378084864</td>\n",
       "      <td>NaN</td>\n",
       "      <td>NaN</td>\n",
       "      <td>2017-07-31 00:18:03 +0000</td>\n",
       "      <td>&lt;a href=\"http://twitter.com/download/iphone\" r...</td>\n",
       "      <td>This is Archie. He is a rare Norwegian Pouncin...</td>\n",
       "      <td>NaN</td>\n",
       "      <td>NaN</td>\n",
       "      <td>NaN</td>\n",
       "      <td>https://twitter.com/dog_rates/status/891815181...</td>\n",
       "      <td>...</td>\n",
       "      <td>True</td>\n",
       "      <td>malamute</td>\n",
       "      <td>0.078253</td>\n",
       "      <td>True</td>\n",
       "      <td>kelpie</td>\n",
       "      <td>0.031379</td>\n",
       "      <td>True</td>\n",
       "      <td>3993.0</td>\n",
       "      <td>24268.0</td>\n",
       "      <td>[0, 121]</td>\n",
       "    </tr>\n",
       "    <tr>\n",
       "      <th>3</th>\n",
       "      <td>891689557279858688</td>\n",
       "      <td>NaN</td>\n",
       "      <td>NaN</td>\n",
       "      <td>2017-07-30 15:58:51 +0000</td>\n",
       "      <td>&lt;a href=\"http://twitter.com/download/iphone\" r...</td>\n",
       "      <td>This is Darla. She commenced a snooze mid meal...</td>\n",
       "      <td>NaN</td>\n",
       "      <td>NaN</td>\n",
       "      <td>NaN</td>\n",
       "      <td>https://twitter.com/dog_rates/status/891689557...</td>\n",
       "      <td>...</td>\n",
       "      <td>False</td>\n",
       "      <td>Labrador_retriever</td>\n",
       "      <td>0.168086</td>\n",
       "      <td>True</td>\n",
       "      <td>spatula</td>\n",
       "      <td>0.040836</td>\n",
       "      <td>False</td>\n",
       "      <td>8309.0</td>\n",
       "      <td>40758.0</td>\n",
       "      <td>[0, 79]</td>\n",
       "    </tr>\n",
       "    <tr>\n",
       "      <th>4</th>\n",
       "      <td>891327558926688256</td>\n",
       "      <td>NaN</td>\n",
       "      <td>NaN</td>\n",
       "      <td>2017-07-29 16:00:24 +0000</td>\n",
       "      <td>&lt;a href=\"http://twitter.com/download/iphone\" r...</td>\n",
       "      <td>This is Franklin. He would like you to stop ca...</td>\n",
       "      <td>NaN</td>\n",
       "      <td>NaN</td>\n",
       "      <td>NaN</td>\n",
       "      <td>https://twitter.com/dog_rates/status/891327558...</td>\n",
       "      <td>...</td>\n",
       "      <td>True</td>\n",
       "      <td>English_springer</td>\n",
       "      <td>0.225770</td>\n",
       "      <td>True</td>\n",
       "      <td>German_short-haired_pointer</td>\n",
       "      <td>0.175219</td>\n",
       "      <td>True</td>\n",
       "      <td>9001.0</td>\n",
       "      <td>38993.0</td>\n",
       "      <td>[0, 138]</td>\n",
       "    </tr>\n",
       "  </tbody>\n",
       "</table>\n",
       "<p>5 rows × 31 columns</p>\n",
       "</div>"
      ],
      "text/plain": [
       "             tweet_id  in_reply_to_status_id  in_reply_to_user_id  \\\n",
       "0  892420643555336193                    NaN                  NaN   \n",
       "1  892177421306343426                    NaN                  NaN   \n",
       "2  891815181378084864                    NaN                  NaN   \n",
       "3  891689557279858688                    NaN                  NaN   \n",
       "4  891327558926688256                    NaN                  NaN   \n",
       "\n",
       "                   timestamp  \\\n",
       "0  2017-08-01 16:23:56 +0000   \n",
       "1  2017-08-01 00:17:27 +0000   \n",
       "2  2017-07-31 00:18:03 +0000   \n",
       "3  2017-07-30 15:58:51 +0000   \n",
       "4  2017-07-29 16:00:24 +0000   \n",
       "\n",
       "                                              source  \\\n",
       "0  <a href=\"http://twitter.com/download/iphone\" r...   \n",
       "1  <a href=\"http://twitter.com/download/iphone\" r...   \n",
       "2  <a href=\"http://twitter.com/download/iphone\" r...   \n",
       "3  <a href=\"http://twitter.com/download/iphone\" r...   \n",
       "4  <a href=\"http://twitter.com/download/iphone\" r...   \n",
       "\n",
       "                                                text  retweeted_status_id  \\\n",
       "0  This is Phineas. He's a mystical boy. Only eve...                  NaN   \n",
       "1  This is Tilly. She's just checking pup on you....                  NaN   \n",
       "2  This is Archie. He is a rare Norwegian Pouncin...                  NaN   \n",
       "3  This is Darla. She commenced a snooze mid meal...                  NaN   \n",
       "4  This is Franklin. He would like you to stop ca...                  NaN   \n",
       "\n",
       "   retweeted_status_user_id retweeted_status_timestamp  \\\n",
       "0                       NaN                        NaN   \n",
       "1                       NaN                        NaN   \n",
       "2                       NaN                        NaN   \n",
       "3                       NaN                        NaN   \n",
       "4                       NaN                        NaN   \n",
       "\n",
       "                                       expanded_urls        ...          \\\n",
       "0  https://twitter.com/dog_rates/status/892420643...        ...           \n",
       "1  https://twitter.com/dog_rates/status/892177421...        ...           \n",
       "2  https://twitter.com/dog_rates/status/891815181...        ...           \n",
       "3  https://twitter.com/dog_rates/status/891689557...        ...           \n",
       "4  https://twitter.com/dog_rates/status/891327558...        ...           \n",
       "\n",
       "   p1_dog                  p2   p2_conf p2_dog                           p3  \\\n",
       "0   False               bagel  0.085851  False                       banana   \n",
       "1    True            Pekinese  0.090647   True                     papillon   \n",
       "2    True            malamute  0.078253   True                       kelpie   \n",
       "3   False  Labrador_retriever  0.168086   True                      spatula   \n",
       "4    True    English_springer  0.225770   True  German_short-haired_pointer   \n",
       "\n",
       "    p3_conf p3_dog retweet_count  favorite_count display_text_range  \n",
       "0  0.076110  False        8148.0         37462.0            [0, 85]  \n",
       "1  0.068957   True        6034.0         32190.0           [0, 138]  \n",
       "2  0.031379   True        3993.0         24268.0           [0, 121]  \n",
       "3  0.040836  False        8309.0         40758.0            [0, 79]  \n",
       "4  0.175219   True        9001.0         38993.0           [0, 138]  \n",
       "\n",
       "[5 rows x 31 columns]"
      ]
     },
     "execution_count": 81,
     "metadata": {},
     "output_type": "execute_result"
    }
   ],
   "source": [
    "# Check / confirm this DataFrame loads / is viewable\n",
    "master_df.head(5)"
   ]
  },
  {
   "cell_type": "code",
   "execution_count": 82,
   "metadata": {},
   "outputs": [
    {
     "name": "stdout",
     "output_type": "stream",
     "text": [
      "<class 'pandas.core.frame.DataFrame'>\n",
      "Int64Index: 2356 entries, 0 to 2355\n",
      "Data columns (total 31 columns):\n",
      "tweet_id                      2356 non-null int64\n",
      "in_reply_to_status_id         78 non-null float64\n",
      "in_reply_to_user_id           78 non-null float64\n",
      "timestamp                     2356 non-null object\n",
      "source                        2356 non-null object\n",
      "text                          2356 non-null object\n",
      "retweeted_status_id           181 non-null float64\n",
      "retweeted_status_user_id      181 non-null float64\n",
      "retweeted_status_timestamp    181 non-null object\n",
      "expanded_urls                 2297 non-null object\n",
      "rating_numerator              2356 non-null int64\n",
      "rating_denominator            2356 non-null int64\n",
      "name                          2356 non-null object\n",
      "doggo                         2356 non-null object\n",
      "floofer                       2356 non-null object\n",
      "pupper                        2356 non-null object\n",
      "puppo                         2356 non-null object\n",
      "jpg_url                       2075 non-null object\n",
      "img_num                       2075 non-null float64\n",
      "p1                            2075 non-null object\n",
      "p1_conf                       2075 non-null float64\n",
      "p1_dog                        2075 non-null object\n",
      "p2                            2075 non-null object\n",
      "p2_conf                       2075 non-null float64\n",
      "p2_dog                        2075 non-null object\n",
      "p3                            2075 non-null object\n",
      "p3_conf                       2075 non-null float64\n",
      "p3_dog                        2075 non-null object\n",
      "retweet_count                 881 non-null float64\n",
      "favorite_count                881 non-null float64\n",
      "display_text_range            881 non-null object\n",
      "dtypes: float64(10), int64(3), object(18)\n",
      "memory usage: 589.0+ KB\n"
     ]
    }
   ],
   "source": [
    "# Check / confirm this DataFrame loads / is viewable\n",
    "master_df.info()"
   ]
  },
  {
   "cell_type": "code",
   "execution_count": 83,
   "metadata": {},
   "outputs": [
    {
     "data": {
      "text/plain": [
       "(2356, 31)"
      ]
     },
     "execution_count": 83,
     "metadata": {},
     "output_type": "execute_result"
    }
   ],
   "source": [
    "master_df.shape"
   ]
  },
  {
   "cell_type": "code",
   "execution_count": null,
   "metadata": {},
   "outputs": [],
   "source": []
  },
  {
   "cell_type": "markdown",
   "metadata": {},
   "source": [
    "### Drop duplicates\n",
    "### Drop tweets missing pictures "
   ]
  },
  {
   "cell_type": "code",
   "execution_count": 87,
   "metadata": {},
   "outputs": [
    {
     "data": {
      "text/plain": [
       "['tweet_id',\n",
       " 'in_reply_to_status_id',\n",
       " 'in_reply_to_user_id',\n",
       " 'timestamp',\n",
       " 'source',\n",
       " 'text',\n",
       " 'retweeted_status_id',\n",
       " 'retweeted_status_user_id',\n",
       " 'retweeted_status_timestamp',\n",
       " 'expanded_urls',\n",
       " 'rating_numerator',\n",
       " 'rating_denominator',\n",
       " 'name',\n",
       " 'doggo',\n",
       " 'floofer',\n",
       " 'pupper',\n",
       " 'puppo',\n",
       " 'jpg_url',\n",
       " 'img_num',\n",
       " 'p1',\n",
       " 'p1_conf',\n",
       " 'p1_dog',\n",
       " 'p2',\n",
       " 'p2_conf',\n",
       " 'p2_dog',\n",
       " 'p3',\n",
       " 'p3_conf',\n",
       " 'p3_dog',\n",
       " 'retweet_count',\n",
       " 'favorite_count',\n",
       " 'display_text_range']"
      ]
     },
     "execution_count": 87,
     "metadata": {},
     "output_type": "execute_result"
    }
   ],
   "source": [
    "list(master_df)"
   ]
  },
  {
   "cell_type": "code",
   "execution_count": 88,
   "metadata": {},
   "outputs": [],
   "source": [
    "# Delete tweets missing pictures\n",
    "master_df = master_df.dropna(subset = ['jpg_url'])"
   ]
  },
  {
   "cell_type": "code",
   "execution_count": 91,
   "metadata": {},
   "outputs": [],
   "source": [
    "# Delete timestamp \n",
    "master_df = master_df.drop('timestamp', 1)"
   ]
  },
  {
   "cell_type": "code",
   "execution_count": 92,
   "metadata": {},
   "outputs": [],
   "source": [
    "# Delete additional columns\n",
    "master_df = master_df.drop('retweeted_status_id', 1)\n",
    "master_df = master_df.drop('retweeted_status_user_id', 1)\n",
    "master_df = master_df.drop('retweeted_status_timestamp', 1)"
   ]
  },
  {
   "cell_type": "code",
   "execution_count": 93,
   "metadata": {},
   "outputs": [
    {
     "data": {
      "text/plain": [
       "['tweet_id',\n",
       " 'in_reply_to_status_id',\n",
       " 'in_reply_to_user_id',\n",
       " 'source',\n",
       " 'text',\n",
       " 'expanded_urls',\n",
       " 'rating_numerator',\n",
       " 'rating_denominator',\n",
       " 'name',\n",
       " 'doggo',\n",
       " 'floofer',\n",
       " 'pupper',\n",
       " 'puppo',\n",
       " 'jpg_url',\n",
       " 'img_num',\n",
       " 'p1',\n",
       " 'p1_conf',\n",
       " 'p1_dog',\n",
       " 'p2',\n",
       " 'p2_conf',\n",
       " 'p2_dog',\n",
       " 'p3',\n",
       " 'p3_conf',\n",
       " 'p3_dog',\n",
       " 'retweet_count',\n",
       " 'favorite_count',\n",
       " 'display_text_range']"
      ]
     },
     "execution_count": 93,
     "metadata": {},
     "output_type": "execute_result"
    }
   ],
   "source": [
    "# Check revised DataFrame \n",
    "list(master_df)"
   ]
  },
  {
   "cell_type": "code",
   "execution_count": 94,
   "metadata": {},
   "outputs": [
    {
     "data": {
      "text/plain": [
       "1"
      ]
     },
     "execution_count": 94,
     "metadata": {},
     "output_type": "execute_result"
    }
   ],
   "source": [
    "# Check doggo and floofer columns which are not None\n",
    "len(twitter_archive_df[(twitter_archive_df.doggo != 'None') & (twitter_archive_df.floofer != 'None')])"
   ]
  },
  {
   "cell_type": "code",
   "execution_count": 95,
   "metadata": {},
   "outputs": [
    {
     "data": {
      "text/plain": [
       "0"
      ]
     },
     "execution_count": 95,
     "metadata": {},
     "output_type": "execute_result"
    }
   ],
   "source": [
    "# Check pupper and puppo columns which are not None\n",
    "len(twitter_archive_df[(twitter_archive_df.pupper != 'None') & (twitter_archive_df.puppo != 'None')])"
   ]
  },
  {
   "cell_type": "code",
   "execution_count": 96,
   "metadata": {},
   "outputs": [
    {
     "data": {
      "text/plain": [
       "12"
      ]
     },
     "execution_count": 96,
     "metadata": {},
     "output_type": "execute_result"
    }
   ],
   "source": [
    "# Check doggo and pupper columns which are not None\n",
    "len(twitter_archive_df[(twitter_archive_df.doggo != 'None') & (twitter_archive_df.pupper != 'None')])"
   ]
  },
  {
   "cell_type": "code",
   "execution_count": 97,
   "metadata": {},
   "outputs": [
    {
     "data": {
      "text/plain": [
       "0"
      ]
     },
     "execution_count": 97,
     "metadata": {},
     "output_type": "execute_result"
    }
   ],
   "source": [
    "# Check floofer and puppo columns which are not None\n",
    "len(twitter_archive_df[(twitter_archive_df.floofer != 'None') & (twitter_archive_df.puppo != 'None')])"
   ]
  },
  {
   "cell_type": "code",
   "execution_count": 98,
   "metadata": {},
   "outputs": [
    {
     "data": {
      "text/plain": [
       "1"
      ]
     },
     "execution_count": 98,
     "metadata": {},
     "output_type": "execute_result"
    }
   ],
   "source": [
    "# Check doggo and pupper columns which are not None\n",
    "len(twitter_archive_df[(twitter_archive_df.doggo != 'None') & (twitter_archive_df.puppo != 'None')])"
   ]
  },
  {
   "cell_type": "code",
   "execution_count": 40,
   "metadata": {},
   "outputs": [
    {
     "data": {
      "text/plain": [
       "0"
      ]
     },
     "execution_count": 40,
     "metadata": {},
     "output_type": "execute_result"
    }
   ],
   "source": [
    "# Check floofer and pupper columns which are not None\n",
    "len(twitter_archive_df[(twitter_archive_df.floofer != 'None') & (twitter_archive_df.pupper != 'None')])"
   ]
  },
  {
   "cell_type": "code",
   "execution_count": 99,
   "metadata": {},
   "outputs": [
    {
     "data": {
      "text/html": [
       "<div>\n",
       "<style scoped>\n",
       "    .dataframe tbody tr th:only-of-type {\n",
       "        vertical-align: middle;\n",
       "    }\n",
       "\n",
       "    .dataframe tbody tr th {\n",
       "        vertical-align: top;\n",
       "    }\n",
       "\n",
       "    .dataframe thead th {\n",
       "        text-align: right;\n",
       "    }\n",
       "</style>\n",
       "<table border=\"1\" class=\"dataframe\">\n",
       "  <thead>\n",
       "    <tr style=\"text-align: right;\">\n",
       "      <th></th>\n",
       "      <th>tweet_id</th>\n",
       "      <th>jpg_url</th>\n",
       "      <th>img_num</th>\n",
       "      <th>p1</th>\n",
       "      <th>p1_conf</th>\n",
       "      <th>p1_dog</th>\n",
       "      <th>p2</th>\n",
       "      <th>p2_conf</th>\n",
       "      <th>p2_dog</th>\n",
       "      <th>p3</th>\n",
       "      <th>p3_conf</th>\n",
       "      <th>p3_dog</th>\n",
       "    </tr>\n",
       "  </thead>\n",
       "  <tbody>\n",
       "    <tr>\n",
       "      <th>945</th>\n",
       "      <td>704480331685040129</td>\n",
       "      <td>https://pbs.twimg.com/media/CcbRIAgXIAQaKHQ.jpg</td>\n",
       "      <td>1</td>\n",
       "      <td>Samoyed</td>\n",
       "      <td>0.979206</td>\n",
       "      <td>True</td>\n",
       "      <td>Pomeranian</td>\n",
       "      <td>0.007185</td>\n",
       "      <td>True</td>\n",
       "      <td>Arctic_fox</td>\n",
       "      <td>0.006438</td>\n",
       "      <td>False</td>\n",
       "    </tr>\n",
       "    <tr>\n",
       "      <th>1146</th>\n",
       "      <td>730573383004487680</td>\n",
       "      <td>https://pbs.twimg.com/media/CiOEnI6WgAAmq4E.jpg</td>\n",
       "      <td>2</td>\n",
       "      <td>American_Staffordshire_terrier</td>\n",
       "      <td>0.810158</td>\n",
       "      <td>True</td>\n",
       "      <td>Labrador_retriever</td>\n",
       "      <td>0.058205</td>\n",
       "      <td>True</td>\n",
       "      <td>Weimaraner</td>\n",
       "      <td>0.027930</td>\n",
       "      <td>True</td>\n",
       "    </tr>\n",
       "    <tr>\n",
       "      <th>319</th>\n",
       "      <td>671768281401958400</td>\n",
       "      <td>https://pbs.twimg.com/media/CVKZsHtWwAA6gPj.jpg</td>\n",
       "      <td>2</td>\n",
       "      <td>Chihuahua</td>\n",
       "      <td>0.500373</td>\n",
       "      <td>True</td>\n",
       "      <td>French_bulldog</td>\n",
       "      <td>0.112796</td>\n",
       "      <td>True</td>\n",
       "      <td>Italian_greyhound</td>\n",
       "      <td>0.062893</td>\n",
       "      <td>True</td>\n",
       "    </tr>\n",
       "    <tr>\n",
       "      <th>1497</th>\n",
       "      <td>783466772167098368</td>\n",
       "      <td>https://pbs.twimg.com/media/Ct9u3ljW8AEnVIm.jpg</td>\n",
       "      <td>1</td>\n",
       "      <td>Chihuahua</td>\n",
       "      <td>0.789000</td>\n",
       "      <td>True</td>\n",
       "      <td>miniature_pinscher</td>\n",
       "      <td>0.115916</td>\n",
       "      <td>True</td>\n",
       "      <td>toy_terrier</td>\n",
       "      <td>0.036294</td>\n",
       "      <td>True</td>\n",
       "    </tr>\n",
       "    <tr>\n",
       "      <th>1388</th>\n",
       "      <td>766313316352462849</td>\n",
       "      <td>https://pbs.twimg.com/media/CqJ95SRWgAATPK_.jpg</td>\n",
       "      <td>1</td>\n",
       "      <td>toy_poodle</td>\n",
       "      <td>0.966896</td>\n",
       "      <td>True</td>\n",
       "      <td>miniature_poodle</td>\n",
       "      <td>0.016424</td>\n",
       "      <td>True</td>\n",
       "      <td>cocker_spaniel</td>\n",
       "      <td>0.010227</td>\n",
       "      <td>True</td>\n",
       "    </tr>\n",
       "  </tbody>\n",
       "</table>\n",
       "</div>"
      ],
      "text/plain": [
       "                tweet_id                                          jpg_url  \\\n",
       "945   704480331685040129  https://pbs.twimg.com/media/CcbRIAgXIAQaKHQ.jpg   \n",
       "1146  730573383004487680  https://pbs.twimg.com/media/CiOEnI6WgAAmq4E.jpg   \n",
       "319   671768281401958400  https://pbs.twimg.com/media/CVKZsHtWwAA6gPj.jpg   \n",
       "1497  783466772167098368  https://pbs.twimg.com/media/Ct9u3ljW8AEnVIm.jpg   \n",
       "1388  766313316352462849  https://pbs.twimg.com/media/CqJ95SRWgAATPK_.jpg   \n",
       "\n",
       "      img_num                              p1   p1_conf  p1_dog  \\\n",
       "945         1                         Samoyed  0.979206    True   \n",
       "1146        2  American_Staffordshire_terrier  0.810158    True   \n",
       "319         2                       Chihuahua  0.500373    True   \n",
       "1497        1                       Chihuahua  0.789000    True   \n",
       "1388        1                      toy_poodle  0.966896    True   \n",
       "\n",
       "                      p2   p2_conf  p2_dog                 p3   p3_conf  \\\n",
       "945           Pomeranian  0.007185    True         Arctic_fox  0.006438   \n",
       "1146  Labrador_retriever  0.058205    True         Weimaraner  0.027930   \n",
       "319       French_bulldog  0.112796    True  Italian_greyhound  0.062893   \n",
       "1497  miniature_pinscher  0.115916    True        toy_terrier  0.036294   \n",
       "1388    miniature_poodle  0.016424    True     cocker_spaniel  0.010227   \n",
       "\n",
       "      p3_dog  \n",
       "945    False  \n",
       "1146    True  \n",
       "319     True  \n",
       "1497    True  \n",
       "1388    True  "
      ]
     },
     "execution_count": 99,
     "metadata": {},
     "output_type": "execute_result"
    }
   ],
   "source": [
    "# Check / confirm this DataFrame loads / is viewable\n",
    "image_predictions_df.sample(5)"
   ]
  },
  {
   "cell_type": "markdown",
   "metadata": {},
   "source": [
    "### Column Headers\n",
    "\n",
    "image_predictions_df\n",
    "\n",
    "##### 1) tweet_id: unique tweet ID \n",
    "##### 2) jpg_url: dog-image URL\n",
    "##### 3) img_num: associated confidence prediction number \n",
    "##### 4) p1: number 1 associated algorithm-confidence prediction \n",
    "##### 5) p1_conf: number 1 associated algorithm prediction\n",
    "##### 6) p1_dog: whether or not prediction relates to dog-breed\n",
    "##### 7) p2: number 2 associated algorithm-confidence prediction \n",
    "##### 8) p2_conf: number 2 associated algorithm prediction\n",
    "##### 9) p2_dog: whether or not prediction relates to dog-breed\n",
    "##### 10) p3: number 3 associated algorithm-confidence prediction \n",
    "##### 11) p3_conf: number 3 associated algorithm prediction\n",
    "##### 12) p3_dog: whether or not prediction relates to dog-breed"
   ]
  },
  {
   "cell_type": "code",
   "execution_count": 100,
   "metadata": {},
   "outputs": [
    {
     "name": "stdout",
     "output_type": "stream",
     "text": [
      "<class 'pandas.core.frame.DataFrame'>\n",
      "RangeIndex: 2075 entries, 0 to 2074\n",
      "Data columns (total 12 columns):\n",
      "tweet_id    2075 non-null int64\n",
      "jpg_url     2075 non-null object\n",
      "img_num     2075 non-null int64\n",
      "p1          2075 non-null object\n",
      "p1_conf     2075 non-null float64\n",
      "p1_dog      2075 non-null bool\n",
      "p2          2075 non-null object\n",
      "p2_conf     2075 non-null float64\n",
      "p2_dog      2075 non-null bool\n",
      "p3          2075 non-null object\n",
      "p3_conf     2075 non-null float64\n",
      "p3_dog      2075 non-null bool\n",
      "dtypes: bool(3), float64(3), int64(2), object(4)\n",
      "memory usage: 152.1+ KB\n"
     ]
    }
   ],
   "source": [
    "# Continue checking / confirming this loads correctly\n",
    "image_predictions_df.info()"
   ]
  },
  {
   "cell_type": "code",
   "execution_count": 101,
   "metadata": {},
   "outputs": [
    {
     "data": {
      "text/html": [
       "<div>\n",
       "<style scoped>\n",
       "    .dataframe tbody tr th:only-of-type {\n",
       "        vertical-align: middle;\n",
       "    }\n",
       "\n",
       "    .dataframe tbody tr th {\n",
       "        vertical-align: top;\n",
       "    }\n",
       "\n",
       "    .dataframe thead th {\n",
       "        text-align: right;\n",
       "    }\n",
       "</style>\n",
       "<table border=\"1\" class=\"dataframe\">\n",
       "  <thead>\n",
       "    <tr style=\"text-align: right;\">\n",
       "      <th></th>\n",
       "      <th>tweet_id</th>\n",
       "      <th>retweet_count</th>\n",
       "      <th>favorite_count</th>\n",
       "      <th>display_text_range</th>\n",
       "    </tr>\n",
       "  </thead>\n",
       "  <tbody>\n",
       "    <tr>\n",
       "      <th>551</th>\n",
       "      <td>802185808107208704</td>\n",
       "      <td>284</td>\n",
       "      <td>0</td>\n",
       "      <td>[0, 140]</td>\n",
       "    </tr>\n",
       "    <tr>\n",
       "      <th>572</th>\n",
       "      <td>799308762079035393</td>\n",
       "      <td>5945</td>\n",
       "      <td>0</td>\n",
       "      <td>[0, 140]</td>\n",
       "    </tr>\n",
       "    <tr>\n",
       "      <th>627</th>\n",
       "      <td>793180763617361921</td>\n",
       "      <td>2144</td>\n",
       "      <td>7329</td>\n",
       "      <td>[0, 38]</td>\n",
       "    </tr>\n",
       "    <tr>\n",
       "      <th>317</th>\n",
       "      <td>833124694597443584</td>\n",
       "      <td>5105</td>\n",
       "      <td>20937</td>\n",
       "      <td>[0, 118]</td>\n",
       "    </tr>\n",
       "    <tr>\n",
       "      <th>341</th>\n",
       "      <td>831262627380748289</td>\n",
       "      <td>2163</td>\n",
       "      <td>12364</td>\n",
       "      <td>[0, 116]</td>\n",
       "    </tr>\n",
       "  </tbody>\n",
       "</table>\n",
       "</div>"
      ],
      "text/plain": [
       "               tweet_id  retweet_count  favorite_count display_text_range\n",
       "551  802185808107208704            284               0           [0, 140]\n",
       "572  799308762079035393           5945               0           [0, 140]\n",
       "627  793180763617361921           2144            7329            [0, 38]\n",
       "317  833124694597443584           5105           20937           [0, 118]\n",
       "341  831262627380748289           2163           12364           [0, 116]"
      ]
     },
     "execution_count": 101,
     "metadata": {},
     "output_type": "execute_result"
    }
   ],
   "source": [
    "# Continue checking / confirming this loads correctly\n",
    "status_df.sample(5)"
   ]
  },
  {
   "cell_type": "code",
   "execution_count": 102,
   "metadata": {},
   "outputs": [
    {
     "name": "stdout",
     "output_type": "stream",
     "text": [
      "<class 'pandas.core.frame.DataFrame'>\n",
      "RangeIndex: 881 entries, 0 to 880\n",
      "Data columns (total 4 columns):\n",
      "tweet_id              881 non-null int64\n",
      "retweet_count         881 non-null int64\n",
      "favorite_count        881 non-null int64\n",
      "display_text_range    881 non-null object\n",
      "dtypes: int64(3), object(1)\n",
      "memory usage: 27.6+ KB\n"
     ]
    }
   ],
   "source": [
    "# Continue checking / confirming this loads correctly\n",
    "status_df.info()"
   ]
  },
  {
   "cell_type": "markdown",
   "metadata": {},
   "source": [
    "status_df (tweet status) columns:\n",
    "\n",
    "##### id: unique tweet-identifier\n",
    "##### retweet_count: number of times Tweet is retweeted\n",
    "##### favorite_count: approximate number of times Tweet liked by other users\n",
    "##### display_text_range: two unicode code point indices, ID'ing the start/end of Tweet's displayable content"
   ]
  },
  {
   "cell_type": "markdown",
   "metadata": {},
   "source": [
    "### Quality \n",
    "\n",
    "twitter_archive_df\n",
    "\n",
    "##### retweets means there are duplicates \n",
    "##### misc. tweet_id are without the associated image_prediction\n",
    "##### misc. data-types, e.g., in_reply_to_status or in_reply_to_user_id\n",
    "##### misc. HTML-tags\n",
    "##### untruncated-text \n",
    "##### disparate numerator/denominator numbers\n",
    "##### rating_numerators; low and/or high-ranges (above 10) \n",
    "##### rating_denominators: low-range (below 10)\n",
    "##### dog-names that are not really names but a letter, etc. \n",
    "##### more than one dog-stage \n",
    "\n",
    "### Tidiness \n",
    "\n",
    "##### remove any/all duplicate retweets; drop data-types (not required for analysis), e.g., drop retweeted_status, retweeted_status_timestamp columns; \n",
    "##### missing tweet_ids have to be addressed; \n",
    "##### retweet_count; favorite_count need to be joined together\n",
    "##### merge @WeRateDog's categories into one\n",
    "##### add breed as an additional column for analysis in the DataFrame"
   ]
  },
  {
   "cell_type": "markdown",
   "metadata": {},
   "source": [
    "### Data Cleaning\n",
    "\n",
    "##### Define: Keep original tweet rows / delete retweeted_status"
   ]
  },
  {
   "cell_type": "markdown",
   "metadata": {},
   "source": [
    "### Code"
   ]
  },
  {
   "cell_type": "code",
   "execution_count": 103,
   "metadata": {},
   "outputs": [],
   "source": [
    "# Create a clean twitter_archive_df copy to perform various cleaning tasks\n",
    "twitter_archive_clean = twitter_archive_df.copy()"
   ]
  },
  {
   "cell_type": "code",
   "execution_count": 104,
   "metadata": {},
   "outputs": [],
   "source": [
    "# Remove Retweeted Status ID\n",
    "twitter_archive_clean = twitter_archive_clean[twitter_archive_clean.retweeted_status_id.isnull()]"
   ]
  },
  {
   "cell_type": "markdown",
   "metadata": {},
   "source": [
    "### Test"
   ]
  },
  {
   "cell_type": "code",
   "execution_count": 105,
   "metadata": {},
   "outputs": [
    {
     "data": {
      "text/plain": [
       "0"
      ]
     },
     "execution_count": 105,
     "metadata": {},
     "output_type": "execute_result"
    }
   ],
   "source": [
    "# Continue checking / confirming this loads correctly\n",
    "len(twitter_archive_clean[twitter_archive_clean.retweeted_status_id.isnull() == False])"
   ]
  },
  {
   "cell_type": "markdown",
   "metadata": {},
   "source": [
    "### Define\n",
    "\n",
    "##### Keep matching tweet_id twitter_archive_clean / image_predictions_df info"
   ]
  },
  {
   "cell_type": "markdown",
   "metadata": {},
   "source": [
    "### Code"
   ]
  },
  {
   "cell_type": "code",
   "execution_count": 106,
   "metadata": {},
   "outputs": [],
   "source": [
    "# Keep matching Tweet_ID / Image_Predictions information \n",
    "twitter_archive_clean = twitter_archive_clean[twitter_archive_clean.tweet_id.isin(image_predictions_df.tweet_id)]"
   ]
  },
  {
   "cell_type": "markdown",
   "metadata": {},
   "source": [
    "### Test"
   ]
  },
  {
   "cell_type": "code",
   "execution_count": 107,
   "metadata": {},
   "outputs": [
    {
     "data": {
      "text/plain": [
       "0"
      ]
     },
     "execution_count": 107,
     "metadata": {},
     "output_type": "execute_result"
    }
   ],
   "source": [
    "# Continue checking / confirming this loads correctly\n",
    "len(twitter_archive_clean[~twitter_archive_clean.tweet_id.isin(image_predictions_df.tweet_id)])"
   ]
  },
  {
   "cell_type": "markdown",
   "metadata": {},
   "source": [
    "### Tidiness \n",
    "\n",
    "##### Check for columns to drop; retweeted_status_id; retweeted_status_user_id; retweeted_status_timestamp"
   ]
  },
  {
   "cell_type": "code",
   "execution_count": 108,
   "metadata": {},
   "outputs": [
    {
     "name": "stdout",
     "output_type": "stream",
     "text": [
      "<class 'pandas.core.frame.DataFrame'>\n",
      "Int64Index: 1994 entries, 0 to 2355\n",
      "Data columns (total 17 columns):\n",
      "tweet_id                      1994 non-null int64\n",
      "in_reply_to_status_id         23 non-null float64\n",
      "in_reply_to_user_id           23 non-null float64\n",
      "timestamp                     1994 non-null object\n",
      "source                        1994 non-null object\n",
      "text                          1994 non-null object\n",
      "retweeted_status_id           0 non-null float64\n",
      "retweeted_status_user_id      0 non-null float64\n",
      "retweeted_status_timestamp    0 non-null object\n",
      "expanded_urls                 1994 non-null object\n",
      "rating_numerator              1994 non-null int64\n",
      "rating_denominator            1994 non-null int64\n",
      "name                          1994 non-null object\n",
      "doggo                         1994 non-null object\n",
      "floofer                       1994 non-null object\n",
      "pupper                        1994 non-null object\n",
      "puppo                         1994 non-null object\n",
      "dtypes: float64(4), int64(3), object(10)\n",
      "memory usage: 280.4+ KB\n"
     ]
    }
   ],
   "source": [
    "# Check / confirm this DataFrame loads / is viewable\n",
    "twitter_archive_clean.info()"
   ]
  },
  {
   "cell_type": "markdown",
   "metadata": {},
   "source": [
    "### Define \n",
    "\n",
    "##### Remove retweeted_status_id; retweeted_status_user_id; retweeted_status_timestamp"
   ]
  },
  {
   "cell_type": "markdown",
   "metadata": {},
   "source": [
    "### Code"
   ]
  },
  {
   "cell_type": "code",
   "execution_count": 109,
   "metadata": {},
   "outputs": [],
   "source": [
    "# Drop irrelevant columns / not required for analysis\n",
    "twitter_archive_clean.drop(['retweeted_status_id', 'retweeted_status_user_id', 'retweeted_status_timestamp'], axis=1, inplace=True)"
   ]
  },
  {
   "cell_type": "markdown",
   "metadata": {},
   "source": [
    "### Test "
   ]
  },
  {
   "cell_type": "code",
   "execution_count": 110,
   "metadata": {},
   "outputs": [
    {
     "name": "stdout",
     "output_type": "stream",
     "text": [
      "<class 'pandas.core.frame.DataFrame'>\n",
      "Int64Index: 1994 entries, 0 to 2355\n",
      "Data columns (total 14 columns):\n",
      "tweet_id                 1994 non-null int64\n",
      "in_reply_to_status_id    23 non-null float64\n",
      "in_reply_to_user_id      23 non-null float64\n",
      "timestamp                1994 non-null object\n",
      "source                   1994 non-null object\n",
      "text                     1994 non-null object\n",
      "expanded_urls            1994 non-null object\n",
      "rating_numerator         1994 non-null int64\n",
      "rating_denominator       1994 non-null int64\n",
      "name                     1994 non-null object\n",
      "doggo                    1994 non-null object\n",
      "floofer                  1994 non-null object\n",
      "pupper                   1994 non-null object\n",
      "puppo                    1994 non-null object\n",
      "dtypes: float64(2), int64(3), object(9)\n",
      "memory usage: 233.7+ KB\n"
     ]
    }
   ],
   "source": [
    "# Check / confirm this DataFrame loads / is viewable\n",
    "twitter_archive_clean.info()"
   ]
  },
  {
   "cell_type": "markdown",
   "metadata": {},
   "source": [
    "### Define \n",
    "\n",
    "##### Convert in_reply_status_id; in_reply_to_user_id \n",
    "##### Convert timestamp to datetime "
   ]
  },
  {
   "cell_type": "markdown",
   "metadata": {},
   "source": [
    "### Code"
   ]
  },
  {
   "cell_type": "code",
   "execution_count": 111,
   "metadata": {},
   "outputs": [],
   "source": [
    "# Convert misc. datatypes \n",
    "twitter_archive_clean.in_reply_to_status_id = twitter_archive_clean.in_reply_to_status_id.fillna(0)\n",
    "twitter_archive_clean.in_reply_to_user_id = twitter_archive_clean.in_reply_to_user_id.fillna(0)\n",
    "\n",
    "twitter_archive_clean.in_reply_to_status_id = twitter_archive_clean.in_reply_to_status_id.astype(np.int64)\n",
    "twitter_archive_clean.in_reply_to_user_id = twitter_archive_clean.in_reply_to_user_id.astype(np.int64)\n",
    "\n",
    "twitter_archive_clean.timestamp = pd.to_datetime(twitter_archive_clean.timestamp)"
   ]
  },
  {
   "cell_type": "markdown",
   "metadata": {},
   "source": [
    "### Test"
   ]
  },
  {
   "cell_type": "code",
   "execution_count": 112,
   "metadata": {},
   "outputs": [
    {
     "name": "stdout",
     "output_type": "stream",
     "text": [
      "<class 'pandas.core.frame.DataFrame'>\n",
      "Int64Index: 1994 entries, 0 to 2355\n",
      "Data columns (total 14 columns):\n",
      "tweet_id                 1994 non-null int64\n",
      "in_reply_to_status_id    1994 non-null int64\n",
      "in_reply_to_user_id      1994 non-null int64\n",
      "timestamp                1994 non-null datetime64[ns]\n",
      "source                   1994 non-null object\n",
      "text                     1994 non-null object\n",
      "expanded_urls            1994 non-null object\n",
      "rating_numerator         1994 non-null int64\n",
      "rating_denominator       1994 non-null int64\n",
      "name                     1994 non-null object\n",
      "doggo                    1994 non-null object\n",
      "floofer                  1994 non-null object\n",
      "pupper                   1994 non-null object\n",
      "puppo                    1994 non-null object\n",
      "dtypes: datetime64[ns](1), int64(5), object(8)\n",
      "memory usage: 233.7+ KB\n"
     ]
    }
   ],
   "source": [
    "# Check / confirm this DataFrame loads / is viewable\n",
    "twitter_archive_clean.info()"
   ]
  },
  {
   "cell_type": "markdown",
   "metadata": {},
   "source": [
    "### Define \n",
    "\n",
    "##### Remove HTML anchor tags; retain HTML tweet-text"
   ]
  },
  {
   "cell_type": "markdown",
   "metadata": {},
   "source": [
    "### Code"
   ]
  },
  {
   "cell_type": "code",
   "execution_count": 113,
   "metadata": {},
   "outputs": [],
   "source": [
    "# Continue cleaning-up HTML tags \n",
    "twitter_archive_clean.source = twitter_archive_clean.source.str.replace(r'<(?:a\\b[^>]*>|/a>)', '')"
   ]
  },
  {
   "cell_type": "code",
   "execution_count": 114,
   "metadata": {},
   "outputs": [],
   "source": [
    "twitter_archive_clean.source = twitter_archive_clean.source.astype('category')"
   ]
  },
  {
   "cell_type": "markdown",
   "metadata": {},
   "source": [
    "### Test"
   ]
  },
  {
   "cell_type": "code",
   "execution_count": 115,
   "metadata": {},
   "outputs": [
    {
     "data": {
      "text/plain": [
       "['tweet_id',\n",
       " 'in_reply_to_status_id',\n",
       " 'in_reply_to_user_id',\n",
       " 'source',\n",
       " 'text',\n",
       " 'expanded_urls',\n",
       " 'rating_numerator',\n",
       " 'rating_denominator',\n",
       " 'name',\n",
       " 'doggo',\n",
       " 'floofer',\n",
       " 'pupper',\n",
       " 'puppo',\n",
       " 'jpg_url',\n",
       " 'img_num',\n",
       " 'p1',\n",
       " 'p1_conf',\n",
       " 'p1_dog',\n",
       " 'p2',\n",
       " 'p2_conf',\n",
       " 'p2_dog',\n",
       " 'p3',\n",
       " 'p3_conf',\n",
       " 'p3_dog',\n",
       " 'retweet_count',\n",
       " 'favorite_count',\n",
       " 'display_text_range']"
      ]
     },
     "execution_count": 115,
     "metadata": {},
     "output_type": "execute_result"
    }
   ],
   "source": [
    "list(master_df)"
   ]
  },
  {
   "cell_type": "code",
   "execution_count": 59,
   "metadata": {},
   "outputs": [
    {
     "data": {
      "text/plain": [
       "Twitter for iPhone    1955\n",
       "Twitter Web Client      28\n",
       "TweetDeck               11\n",
       "Name: source, dtype: int64"
      ]
     },
     "execution_count": 59,
     "metadata": {},
     "output_type": "execute_result"
    }
   ],
   "source": [
    "# Continue checking / confirming this loads correctly\n",
    "twitter_archive_clean.source.value_counts()"
   ]
  },
  {
   "cell_type": "markdown",
   "metadata": {},
   "source": [
    "### Define \n",
    "\n",
    "##### use _display_text_range with extract Tweet-text "
   ]
  },
  {
   "cell_type": "markdown",
   "metadata": {},
   "source": [
    "### Code"
   ]
  },
  {
   "cell_type": "code",
   "execution_count": 116,
   "metadata": {},
   "outputs": [
    {
     "name": "stdout",
     "output_type": "stream",
     "text": [
      "This is Phineas. He's a mystical boy. Only ever appears in the hole of a donut. 13/10 https://t.co/MgUWQ76dJU\n",
      "This is Tilly. She's just checking pup on you. Hopes you're doing ok. If not, she's available for pats, snugs, boops, the whole bit. 13/10 https://t.co/0Xxu71qeIV\n",
      "This is Archie. He is a rare Norwegian Pouncing Corgo. Lives in the tall grass. You never know when one may strike. 12/10 https://t.co/wUnZnhtVJB\n"
     ]
    }
   ],
   "source": [
    "# Check for untruncated text \n",
    "# Before extraction - first seconds of untruncated text\n",
    "print(twitter_archive_clean.iloc[0].text)\n",
    "print(twitter_archive_clean.iloc[1].text)\n",
    "print(twitter_archive_clean.iloc[2].text)"
   ]
  },
  {
   "cell_type": "code",
   "execution_count": 117,
   "metadata": {},
   "outputs": [],
   "source": [
    "# Merge status_df's display_text_range column into twitter_archive_clean\n",
    "twitter_archive_clean = pd.merge(twitter_archive_clean, status_df[['tweet_id', 'display_text_range']], on='tweet_id')"
   ]
  },
  {
   "cell_type": "code",
   "execution_count": 118,
   "metadata": {},
   "outputs": [
    {
     "name": "stderr",
     "output_type": "stream",
     "text": [
      "/opt/conda/lib/python3.6/site-packages/ipykernel_launcher.py:5: FutureWarning: set_value is deprecated and will be removed in a future release. Please use .at[] or .iat[] accessors instead\n",
      "  \"\"\"\n"
     ]
    }
   ],
   "source": [
    "# Access displayable text\n",
    "for i, row in twitter_archive_clean.iterrows():\n",
    "    text_range = row.display_text_range\n",
    "    display_text = row.text[text_range[0]:text_range[1]]\n",
    "    twitter_archive_clean.set_value(i, 'text', display_text)"
   ]
  },
  {
   "cell_type": "code",
   "execution_count": 119,
   "metadata": {},
   "outputs": [],
   "source": [
    "# Drop column - display_text_range\n",
    "twitter_archive_clean.drop('display_text_range', axis=1, inplace=True)"
   ]
  },
  {
   "cell_type": "markdown",
   "metadata": {},
   "source": [
    "### Test"
   ]
  },
  {
   "cell_type": "code",
   "execution_count": 120,
   "metadata": {},
   "outputs": [
    {
     "name": "stdout",
     "output_type": "stream",
     "text": [
      "This is Phineas. He's a mystical boy. Only ever appears in the hole of a donut. 13/10\n",
      "This is Tilly. She's just checking pup on you. Hopes you're doing ok. If not, she's available for pats, snugs, boops, the whole bit. 13/10\n",
      "This is Archie. He is a rare Norwegian Pouncing Corgo. Lives in the tall grass. You never know when one may strike. 12/10\n"
     ]
    }
   ],
   "source": [
    "# Continue checking / confirming this loads correctly\n",
    "print(twitter_archive_clean.iloc[0].text)\n",
    "print(twitter_archive_clean.iloc[1].text)\n",
    "print(twitter_archive_clean.iloc[2].text)"
   ]
  },
  {
   "cell_type": "markdown",
   "metadata": {},
   "source": [
    "### Define \n",
    "\n",
    "##### Sort out rating_denominators / rating_numerators taking into account the disparate-range of ratings for these two categories "
   ]
  },
  {
   "cell_type": "markdown",
   "metadata": {},
   "source": [
    "### Code "
   ]
  },
  {
   "cell_type": "code",
   "execution_count": 121,
   "metadata": {},
   "outputs": [],
   "source": [
    "# Sort out denominators \n",
    "pattern = \"\\s*(\\d+([.]\\d+)?([/]\\d+))\"\n",
    "def tokens(x):\n",
    "  return [m.group(1) for m in re.finditer(pattern, x)]"
   ]
  },
  {
   "cell_type": "code",
   "execution_count": 122,
   "metadata": {},
   "outputs": [
    {
     "name": "stderr",
     "output_type": "stream",
     "text": [
      "/opt/conda/lib/python3.6/site-packages/ipykernel_launcher.py:14: FutureWarning: set_value is deprecated and will be removed in a future release. Please use .at[] or .iat[] accessors instead\n",
      "  \n",
      "/opt/conda/lib/python3.6/site-packages/ipykernel_launcher.py:16: FutureWarning: set_value is deprecated and will be removed in a future release. Please use .at[] or .iat[] accessors instead\n",
      "  app.launch_new_instance()\n"
     ]
    }
   ],
   "source": [
    "# Check / confirm / iterate through this process \n",
    "for i, row in twitter_archive_clean[twitter_archive_clean.rating_denominator != 10].iterrows():\n",
    "    d = row.rating_denominator\n",
    "    \n",
    "    # Continue sorting \n",
    "    if d > 10 and d%10 == 0:\n",
    "        # assign divisor as the quotient\n",
    "        divisor = d/10\n",
    "        n = row.rating_numerator\n",
    "        \n",
    "        #  Continue sorting \n",
    "        if n%divisor == 0:\n",
    "            # reassign rating_denominator as 10\n",
    "            twitter_archive_clean.set_value(i, 'rating_denominator', 10)\n",
    "            # reassign rating_numerator as the quotient of rating_numerator by divisor\n",
    "            twitter_archive_clean.set_value(i, 'rating_numerator', int(n/divisor))\n",
    "    \n",
    "    #  Continue sorting \n",
    "    else:\n",
    "        # Continue sorting\n",
    "        ratings = tokens(row.text)\n",
    "        # Continue sorting\n",
    "        for rating in ratings:\n",
    "            # Continue sorting\n",
    "            if rating.split('/')[1] == '10':\n",
    "                # Continue sorting\n",
    "                twitter_archive_clean.set_value(i, 'rating_denominator', 10)\n",
    "                # Continue sorting\n",
    "                twitter_archive_clean.set_value(i, 'rating_numerator', int(round(float(rating.split('/')[0]))))\n",
    "                break"
   ]
  },
  {
   "cell_type": "markdown",
   "metadata": {},
   "source": [
    "### Test"
   ]
  },
  {
   "cell_type": "code",
   "execution_count": 200,
   "metadata": {},
   "outputs": [
    {
     "data": {
      "text/plain": [
       "10    656\n",
       "7       1\n",
       "Name: rating_denominator, dtype: int64"
      ]
     },
     "execution_count": 200,
     "metadata": {},
     "output_type": "execute_result"
    }
   ],
   "source": [
    "# Continue checking / confirming this loads correctly\n",
    "twitter_archive_clean.rating_denominator.value_counts()"
   ]
  },
  {
   "cell_type": "markdown",
   "metadata": {},
   "source": [
    "### Define\n",
    "\n",
    "##### continue the process of sorting out the rating_numerators"
   ]
  },
  {
   "cell_type": "code",
   "execution_count": 124,
   "metadata": {},
   "outputs": [
    {
     "data": {
      "text/plain": [
       "0      1\n",
       "3      1\n",
       "4      1\n",
       "5      2\n",
       "6      1\n",
       "7      2\n",
       "8      2\n",
       "9      1\n",
       "10    38\n",
       "24     1\n",
       "27     1\n",
       "75     1\n",
       "Name: rating_numerator, dtype: int64"
      ]
     },
     "execution_count": 124,
     "metadata": {},
     "output_type": "execute_result"
    }
   ],
   "source": [
    "# Sort out numerators \n",
    "twitter_archive_clean[(twitter_archive_clean.rating_numerator <= 10) | (twitter_archive_clean.rating_numerator > 14)].rating_numerator.value_counts().sort_index()"
   ]
  },
  {
   "cell_type": "markdown",
   "metadata": {},
   "source": [
    "### Code"
   ]
  },
  {
   "cell_type": "code",
   "execution_count": 125,
   "metadata": {},
   "outputs": [
    {
     "name": "stderr",
     "output_type": "stream",
     "text": [
      "/opt/conda/lib/python3.6/site-packages/ipykernel_launcher.py:8: FutureWarning: set_value is deprecated and will be removed in a future release. Please use .at[] or .iat[] accessors instead\n",
      "  \n"
     ]
    }
   ],
   "source": [
    "# Check / confirm / iterate through this process \n",
    "for i, row in twitter_archive_clean[(twitter_archive_clean.rating_numerator <= 10) | (twitter_archive_clean.rating_numerator > 14)].iterrows():\n",
    "    ratings = tokens(row.text)\n",
    "    for rating in ratings:        \n",
    "        if rating.split('/')[1] == '10':\n",
    "            n = int(round(float(rating.split('/')[0])))\n",
    "            if (row.rating_numerator == 10 and n > 10) or (row.rating_numerator != 10 and n >= 10):\n",
    "                twitter_archive_clean.set_value(i, 'rating_numerator', n)\n",
    "                break"
   ]
  },
  {
   "cell_type": "markdown",
   "metadata": {},
   "source": [
    "### Test"
   ]
  },
  {
   "cell_type": "code",
   "execution_count": 126,
   "metadata": {},
   "outputs": [
    {
     "data": {
      "text/plain": [
       "0      1\n",
       "3      1\n",
       "4      1\n",
       "5      1\n",
       "6      1\n",
       "7      2\n",
       "8      2\n",
       "9      1\n",
       "10    39\n",
       "24     1\n",
       "Name: rating_numerator, dtype: int64"
      ]
     },
     "execution_count": 126,
     "metadata": {},
     "output_type": "execute_result"
    }
   ],
   "source": [
    "# Continue checking / confirming this loads correctly\n",
    "twitter_archive_clean[(twitter_archive_clean.rating_numerator <= 10) | (twitter_archive_clean.rating_numerator > 14)].rating_numerator.value_counts().sort_index()"
   ]
  },
  {
   "cell_type": "markdown",
   "metadata": {},
   "source": [
    "### Define\n",
    "\n",
    "##### Replace non-name, dog-names with None"
   ]
  },
  {
   "cell_type": "markdown",
   "metadata": {},
   "source": [
    "### Code"
   ]
  },
  {
   "cell_type": "code",
   "execution_count": 127,
   "metadata": {},
   "outputs": [
    {
     "name": "stderr",
     "output_type": "stream",
     "text": [
      "/opt/conda/lib/python3.6/site-packages/ipykernel_launcher.py:2: SettingWithCopyWarning: \n",
      "A value is trying to be set on a copy of a slice from a DataFrame\n",
      "\n",
      "See the caveats in the documentation: http://pandas.pydata.org/pandas-docs/stable/indexing.html#indexing-view-versus-copy\n",
      "  \n"
     ]
    }
   ],
   "source": [
    "# Check / sort-out dog names \n",
    "twitter_archive_clean['name'][twitter_archive_clean['name'].str.match('[a-z]+')] = 'None'"
   ]
  },
  {
   "cell_type": "markdown",
   "metadata": {},
   "source": [
    "### Test "
   ]
  },
  {
   "cell_type": "code",
   "execution_count": 201,
   "metadata": {},
   "outputs": [
    {
     "data": {
      "text/plain": [
       "None    127\n",
       "Name: name, dtype: int64"
      ]
     },
     "execution_count": 201,
     "metadata": {},
     "output_type": "execute_result"
    }
   ],
   "source": [
    "# Continue checking / confirming this loads correctly\n",
    "twitter_archive_clean.name[twitter_archive_clean.name == 'None'].value_counts()"
   ]
  },
  {
   "cell_type": "code",
   "execution_count": 129,
   "metadata": {},
   "outputs": [
    {
     "data": {
      "text/plain": [
       "Zooey        1\n",
       "Zoey         2\n",
       "Zeke         3\n",
       "Yogi         2\n",
       "Wyatt        2\n",
       "Wishes       1\n",
       "Winston      4\n",
       "Winnie       3\n",
       "Wilson       2\n",
       "Willow       1\n",
       "Willem       1\n",
       "Wiggles      1\n",
       "Wesley       1\n",
       "Walter       2\n",
       "Wallace      2\n",
       "Waffles      3\n",
       "Wafer        1\n",
       "Vixen        1\n",
       "Vincent      1\n",
       "Venti        1\n",
       "Tyr          2\n",
       "Tycho        1\n",
       "Tucker       5\n",
       "Tuck         1\n",
       "Trooper      1\n",
       "Tove         1\n",
       "Tonks        1\n",
       "Tom          1\n",
       "Toby         3\n",
       "Tobi         1\n",
       "            ..\n",
       "Beau         1\n",
       "Bear         3\n",
       "BeBe         1\n",
       "Bauer        1\n",
       "Baron        1\n",
       "Barney       1\n",
       "Bailey       3\n",
       "Ava          1\n",
       "Autumn       1\n",
       "Augie        1\n",
       "Aubie        1\n",
       "Atlas        2\n",
       "Aspen        1\n",
       "Ash          1\n",
       "Arya         1\n",
       "Arlo         1\n",
       "Archie       1\n",
       "Anna         1\n",
       "Angel        1\n",
       "Anakin       1\n",
       "Alice        1\n",
       "Alfy         1\n",
       "Alfie        2\n",
       "Alf          1\n",
       "Alexander    1\n",
       "Albus        2\n",
       "Albert       1\n",
       "Al           1\n",
       "Akumi        1\n",
       "Aja          1\n",
       "Name: name, Length: 409, dtype: int64"
      ]
     },
     "execution_count": 129,
     "metadata": {},
     "output_type": "execute_result"
    }
   ],
   "source": [
    "# Check / sort dog names by ascending order\n",
    "twitter_archive_clean.name.value_counts().sort_index(ascending=False)"
   ]
  },
  {
   "cell_type": "markdown",
   "metadata": {},
   "source": [
    "### Define \n",
    "\n",
    "##### Sort out; eliminate more than one dog-stage entries; including combined dog-stages"
   ]
  },
  {
   "cell_type": "markdown",
   "metadata": {},
   "source": [
    "### Code "
   ]
  },
  {
   "cell_type": "code",
   "execution_count": null,
   "metadata": {},
   "outputs": [],
   "source": [
    "# Check for multiple dog-stages\n",
    "print(len(twitter_archive_clean[(twitter_archive_clean.doggo != 'None') & (twitter_archive_clean.floofer != 'None')]))\n",
    "print(len(twitter_archive_clean[(twitter_archive_clean.doggo != 'None') & (twitter_archive_clean.puppo != 'None')]))\n",
    "print(len(twitter_archive_clean[(twitter_archive_clean.doggo != 'None') & (twitter_archive_clean.pupper != 'None')]))"
   ]
  },
  {
   "cell_type": "code",
   "execution_count": 131,
   "metadata": {},
   "outputs": [
    {
     "name": "stdout",
     "output_type": "stream",
     "text": [
      "855851453814013952 Here's a puppo participating in the #ScienceMarch. Cleverly disguising her own doggo agenda. 13/10 would keep the planet habitable for\n",
      "\n",
      "854010172552949760 At first I thought this was a shy doggo, but it's actually a Rare Canadian Floofer Owl. Amateurs would confuse the two. 11/10 only send dogs\n",
      "\n"
     ]
    }
   ],
   "source": [
    "# Re-check / clean \n",
    "for i, row in twitter_archive_clean[((twitter_archive_clean.doggo != 'None') & (twitter_archive_clean.floofer != 'None'))\n",
    "                   | ((twitter_archive_clean.doggo != 'None') & (twitter_archive_clean.puppo != 'None'))].iterrows():\n",
    "    print('%s %s\\n'%(row.tweet_id, row.text))"
   ]
  },
  {
   "cell_type": "code",
   "execution_count": 132,
   "metadata": {},
   "outputs": [
    {
     "name": "stderr",
     "output_type": "stream",
     "text": [
      "/opt/conda/lib/python3.6/site-packages/ipykernel_launcher.py:2: SettingWithCopyWarning: \n",
      "A value is trying to be set on a copy of a slice from a DataFrame\n",
      "\n",
      "See the caveats in the documentation: http://pandas.pydata.org/pandas-docs/stable/indexing.html#indexing-view-versus-copy\n",
      "  \n"
     ]
    }
   ],
   "source": [
    "# Set to None\n",
    "twitter_archive_clean['doggo'][twitter_archive_clean.tweet_id.isin([855851453814013952, 854010172552949760])] = 'None'"
   ]
  },
  {
   "cell_type": "code",
   "execution_count": 133,
   "metadata": {},
   "outputs": [
    {
     "name": "stderr",
     "output_type": "stream",
     "text": [
      "/opt/conda/lib/python3.6/site-packages/ipykernel_launcher.py:2: SettingWithCopyWarning: \n",
      "A value is trying to be set on a copy of a slice from a DataFrame\n",
      "\n",
      "See the caveats in the documentation: http://pandas.pydata.org/pandas-docs/stable/indexing.html#indexing-view-versus-copy\n",
      "  \n"
     ]
    }
   ],
   "source": [
    "# Continue process of setting to None \n",
    "twitter_archive_clean['pupper'][(twitter_archive_clean.doggo != 'None') & (twitter_archive_clean.pupper != 'None')] = 'None'"
   ]
  },
  {
   "cell_type": "markdown",
   "metadata": {},
   "source": [
    "### Test"
   ]
  },
  {
   "cell_type": "code",
   "execution_count": null,
   "metadata": {},
   "outputs": [],
   "source": [
    "# Continue checking / confirming this loads correctly\n",
    "len(twitter_archive_clean[((twitter_archive_clean.doggo != 'None') & (twitter_archive_clean.pupper != 'None'))\n",
    "                  | ((twitter_archive_clean.doggo != 'None') & (twitter_archive_clean.floofer != 'None')) \n",
    "                  | ((twitter_archive_clean.doggo != 'None') & (twitter_archive_clean.puppo != 'None'))])"
   ]
  },
  {
   "cell_type": "markdown",
   "metadata": {},
   "source": [
    "### Tidiness \n",
    "\n",
    "##### Check @WeRateDogs' dog-stages\n",
    "##### Eliminate @WeRateDogs dog-stage categories; merge into one column"
   ]
  },
  {
   "cell_type": "code",
   "execution_count": null,
   "metadata": {},
   "outputs": [],
   "source": [
    "# Continue checking / confirming this loads correctly\n",
    "twitter_archive_clean.doggo.value_counts()"
   ]
  },
  {
   "cell_type": "code",
   "execution_count": 136,
   "metadata": {},
   "outputs": [
    {
     "data": {
      "text/plain": [
       "None       653\n",
       "floofer      4\n",
       "Name: floofer, dtype: int64"
      ]
     },
     "execution_count": 136,
     "metadata": {},
     "output_type": "execute_result"
    }
   ],
   "source": [
    "# Continue checking / confirming this loads correctly\n",
    "twitter_archive_clean.floofer.value_counts()"
   ]
  },
  {
   "cell_type": "code",
   "execution_count": 137,
   "metadata": {},
   "outputs": [
    {
     "data": {
      "text/plain": [
       "None      620\n",
       "pupper     37\n",
       "Name: pupper, dtype: int64"
      ]
     },
     "execution_count": 137,
     "metadata": {},
     "output_type": "execute_result"
    }
   ],
   "source": [
    "# Continue checking / confirming this loads correctly\n",
    "twitter_archive_clean.pupper.value_counts()"
   ]
  },
  {
   "cell_type": "code",
   "execution_count": 138,
   "metadata": {},
   "outputs": [
    {
     "data": {
      "text/plain": [
       "None     640\n",
       "puppo     17\n",
       "Name: puppo, dtype: int64"
      ]
     },
     "execution_count": 138,
     "metadata": {},
     "output_type": "execute_result"
    }
   ],
   "source": [
    "# Continue checking / confirming this loads correctly\n",
    "twitter_archive_clean.puppo.value_counts()"
   ]
  },
  {
   "cell_type": "code",
   "execution_count": 143,
   "metadata": {},
   "outputs": [
    {
     "data": {
      "text/plain": [
       "['tweet_id',\n",
       " 'in_reply_to_status_id',\n",
       " 'in_reply_to_user_id',\n",
       " 'timestamp',\n",
       " 'source',\n",
       " 'text',\n",
       " 'expanded_urls',\n",
       " 'rating_numerator',\n",
       " 'rating_denominator',\n",
       " 'name',\n",
       " 'doggo',\n",
       " 'floofer',\n",
       " 'pupper',\n",
       " 'puppo']"
      ]
     },
     "execution_count": 143,
     "metadata": {},
     "output_type": "execute_result"
    }
   ],
   "source": [
    "list(twitter_archive_clean)"
   ]
  },
  {
   "cell_type": "markdown",
   "metadata": {},
   "source": [
    "### Code"
   ]
  },
  {
   "cell_type": "code",
   "execution_count": null,
   "metadata": {},
   "outputs": [],
   "source": [
    "# Merge Doggo; Floofer; Puppo and Pupper columns\n",
    "twitter_archive_clean['stage'] = twitter_archive_clean[['doggo', 'floofer', 'pupper', 'puppo']].max(axis=1)"
   ]
  },
  {
   "cell_type": "code",
   "execution_count": 145,
   "metadata": {},
   "outputs": [],
   "source": [
    "# Credit to the Udacity reviewer for their assistance\n",
    "# Resolve multiple dog-stages\n",
    "twitter_archive_clean.loc[twitter_archive_clean.stage == 'doggopupper', 'stage'] = 'doggo,pupper'\n",
    "twitter_archive_clean.loc[twitter_archive_clean.stage == 'doggopuppo', 'stage'] = 'doggo,puppo'\n",
    "twitter_archive_clean.loc[twitter_archive_clean.stage == 'doggofloofer', 'stage'] = 'doggo,floofer'\n",
    "# Sort out missing dog-stages' values\n",
    "twitter_archive_clean.loc[twitter_archive_clean.stage == '', 'stage'] = np.nan"
   ]
  },
  {
   "cell_type": "code",
   "execution_count": 146,
   "metadata": {},
   "outputs": [],
   "source": [
    "# Change string to categorical\n",
    "twitter_archive_clean.stage = twitter_archive_clean.stage.astype('category')"
   ]
  },
  {
   "cell_type": "code",
   "execution_count": 147,
   "metadata": {},
   "outputs": [],
   "source": [
    "# Drop these four columns\n",
    "twitter_archive_clean.drop(['doggo', 'floofer', 'pupper', 'puppo'], axis=1, inplace=True)"
   ]
  },
  {
   "cell_type": "code",
   "execution_count": 148,
   "metadata": {},
   "outputs": [
    {
     "data": {
      "text/plain": [
       "['tweet_id',\n",
       " 'in_reply_to_status_id',\n",
       " 'in_reply_to_user_id',\n",
       " 'timestamp',\n",
       " 'source',\n",
       " 'text',\n",
       " 'expanded_urls',\n",
       " 'rating_numerator',\n",
       " 'rating_denominator',\n",
       " 'name',\n",
       " 'stage']"
      ]
     },
     "execution_count": 148,
     "metadata": {},
     "output_type": "execute_result"
    }
   ],
   "source": [
    "list(twitter_archive_clean)"
   ]
  },
  {
   "cell_type": "markdown",
   "metadata": {},
   "source": [
    "##### Placeholder for code found in Udacity's Knowledge\n",
    "\n",
    "df_temp_clean = pd.merge(df_twitter_archive_enhanced_clean, df_tweet_json_clean, on='tweet_id', how='inner')\n",
    "df_master_clean = pd.merge(df_temp_clean, df_image_predictions_clean, on='tweet_id', how='inner')"
   ]
  },
  {
   "cell_type": "markdown",
   "metadata": {},
   "source": [
    "##### Placeholder for code found in Udacity's Knowledge\n",
    "for stage in stage_list:\n",
    "    twitter_archive_clean[stage].replace('None','',inplace=True)"
   ]
  },
  {
   "cell_type": "markdown",
   "metadata": {},
   "source": [
    "##### Placeholder for code found in Udacity's Knowledge\n",
    "twitter_archive_clean.loc[twitter_archive_clean.dog_stage=='doggopupper','dog_stage']='Doggo,Pupper'"
   ]
  },
  {
   "cell_type": "markdown",
   "metadata": {},
   "source": [
    "##### Placeholder for code found in Udacity's Knowledge\n",
    "`twitter_archive_master = dogs.set_index('tweet_id').join(tweets.set_index('tweet_id'), on='tweet_id', how='left')`"
   ]
  },
  {
   "cell_type": "code",
   "execution_count": 153,
   "metadata": {},
   "outputs": [
    {
     "data": {
      "text/plain": [
       "['tweet_id',\n",
       " 'in_reply_to_status_id',\n",
       " 'in_reply_to_user_id',\n",
       " 'timestamp',\n",
       " 'source',\n",
       " 'text',\n",
       " 'expanded_urls',\n",
       " 'rating_numerator',\n",
       " 'rating_denominator',\n",
       " 'name',\n",
       " 'stage']"
      ]
     },
     "execution_count": 153,
     "metadata": {},
     "output_type": "execute_result"
    }
   ],
   "source": [
    "list(twitter_archive_clean)"
   ]
  },
  {
   "cell_type": "markdown",
   "metadata": {},
   "source": [
    "### Test"
   ]
  },
  {
   "cell_type": "code",
   "execution_count": 156,
   "metadata": {},
   "outputs": [
    {
     "data": {
      "text/html": [
       "<div>\n",
       "<style scoped>\n",
       "    .dataframe tbody tr th:only-of-type {\n",
       "        vertical-align: middle;\n",
       "    }\n",
       "\n",
       "    .dataframe tbody tr th {\n",
       "        vertical-align: top;\n",
       "    }\n",
       "\n",
       "    .dataframe thead th {\n",
       "        text-align: right;\n",
       "    }\n",
       "</style>\n",
       "<table border=\"1\" class=\"dataframe\">\n",
       "  <thead>\n",
       "    <tr style=\"text-align: right;\">\n",
       "      <th></th>\n",
       "      <th>tweet_id</th>\n",
       "      <th>in_reply_to_status_id</th>\n",
       "      <th>in_reply_to_user_id</th>\n",
       "      <th>timestamp</th>\n",
       "      <th>source</th>\n",
       "      <th>text</th>\n",
       "      <th>expanded_urls</th>\n",
       "      <th>rating_numerator</th>\n",
       "      <th>rating_denominator</th>\n",
       "      <th>name</th>\n",
       "      <th>stage</th>\n",
       "    </tr>\n",
       "  </thead>\n",
       "  <tbody>\n",
       "    <tr>\n",
       "      <th>0</th>\n",
       "      <td>892420643555336193</td>\n",
       "      <td>0</td>\n",
       "      <td>0</td>\n",
       "      <td>2017-08-01 16:23:56</td>\n",
       "      <td>Twitter for iPhone</td>\n",
       "      <td>This is Phineas. He's a mystical boy. Only eve...</td>\n",
       "      <td>https://twitter.com/dog_rates/status/892420643...</td>\n",
       "      <td>13</td>\n",
       "      <td>10</td>\n",
       "      <td>Phineas</td>\n",
       "      <td>None</td>\n",
       "    </tr>\n",
       "    <tr>\n",
       "      <th>1</th>\n",
       "      <td>892177421306343426</td>\n",
       "      <td>0</td>\n",
       "      <td>0</td>\n",
       "      <td>2017-08-01 00:17:27</td>\n",
       "      <td>Twitter for iPhone</td>\n",
       "      <td>This is Tilly. She's just checking pup on you....</td>\n",
       "      <td>https://twitter.com/dog_rates/status/892177421...</td>\n",
       "      <td>13</td>\n",
       "      <td>10</td>\n",
       "      <td>Tilly</td>\n",
       "      <td>None</td>\n",
       "    </tr>\n",
       "    <tr>\n",
       "      <th>2</th>\n",
       "      <td>891815181378084864</td>\n",
       "      <td>0</td>\n",
       "      <td>0</td>\n",
       "      <td>2017-07-31 00:18:03</td>\n",
       "      <td>Twitter for iPhone</td>\n",
       "      <td>This is Archie. He is a rare Norwegian Pouncin...</td>\n",
       "      <td>https://twitter.com/dog_rates/status/891815181...</td>\n",
       "      <td>12</td>\n",
       "      <td>10</td>\n",
       "      <td>Archie</td>\n",
       "      <td>None</td>\n",
       "    </tr>\n",
       "    <tr>\n",
       "      <th>3</th>\n",
       "      <td>891689557279858688</td>\n",
       "      <td>0</td>\n",
       "      <td>0</td>\n",
       "      <td>2017-07-30 15:58:51</td>\n",
       "      <td>Twitter for iPhone</td>\n",
       "      <td>This is Darla. She commenced a snooze mid meal...</td>\n",
       "      <td>https://twitter.com/dog_rates/status/891689557...</td>\n",
       "      <td>13</td>\n",
       "      <td>10</td>\n",
       "      <td>Darla</td>\n",
       "      <td>None</td>\n",
       "    </tr>\n",
       "    <tr>\n",
       "      <th>4</th>\n",
       "      <td>891327558926688256</td>\n",
       "      <td>0</td>\n",
       "      <td>0</td>\n",
       "      <td>2017-07-29 16:00:24</td>\n",
       "      <td>Twitter for iPhone</td>\n",
       "      <td>This is Franklin. He would like you to stop ca...</td>\n",
       "      <td>https://twitter.com/dog_rates/status/891327558...</td>\n",
       "      <td>12</td>\n",
       "      <td>10</td>\n",
       "      <td>Franklin</td>\n",
       "      <td>None</td>\n",
       "    </tr>\n",
       "  </tbody>\n",
       "</table>\n",
       "</div>"
      ],
      "text/plain": [
       "             tweet_id  in_reply_to_status_id  in_reply_to_user_id  \\\n",
       "0  892420643555336193                      0                    0   \n",
       "1  892177421306343426                      0                    0   \n",
       "2  891815181378084864                      0                    0   \n",
       "3  891689557279858688                      0                    0   \n",
       "4  891327558926688256                      0                    0   \n",
       "\n",
       "            timestamp              source  \\\n",
       "0 2017-08-01 16:23:56  Twitter for iPhone   \n",
       "1 2017-08-01 00:17:27  Twitter for iPhone   \n",
       "2 2017-07-31 00:18:03  Twitter for iPhone   \n",
       "3 2017-07-30 15:58:51  Twitter for iPhone   \n",
       "4 2017-07-29 16:00:24  Twitter for iPhone   \n",
       "\n",
       "                                                text  \\\n",
       "0  This is Phineas. He's a mystical boy. Only eve...   \n",
       "1  This is Tilly. She's just checking pup on you....   \n",
       "2  This is Archie. He is a rare Norwegian Pouncin...   \n",
       "3  This is Darla. She commenced a snooze mid meal...   \n",
       "4  This is Franklin. He would like you to stop ca...   \n",
       "\n",
       "                                       expanded_urls  rating_numerator  \\\n",
       "0  https://twitter.com/dog_rates/status/892420643...                13   \n",
       "1  https://twitter.com/dog_rates/status/892177421...                13   \n",
       "2  https://twitter.com/dog_rates/status/891815181...                12   \n",
       "3  https://twitter.com/dog_rates/status/891689557...                13   \n",
       "4  https://twitter.com/dog_rates/status/891327558...                12   \n",
       "\n",
       "   rating_denominator      name stage  \n",
       "0                  10   Phineas  None  \n",
       "1                  10     Tilly  None  \n",
       "2                  10    Archie  None  \n",
       "3                  10     Darla  None  \n",
       "4                  10  Franklin  None  "
      ]
     },
     "execution_count": 156,
     "metadata": {},
     "output_type": "execute_result"
    }
   ],
   "source": [
    "# Check / confirm this DataFrame loads / is viewable\n",
    "twitter_archive_clean.head()"
   ]
  },
  {
   "cell_type": "code",
   "execution_count": 155,
   "metadata": {},
   "outputs": [
    {
     "name": "stdout",
     "output_type": "stream",
     "text": [
      "<class 'pandas.core.frame.DataFrame'>\n",
      "Int64Index: 657 entries, 0 to 656\n",
      "Data columns (total 11 columns):\n",
      "tweet_id                 657 non-null int64\n",
      "in_reply_to_status_id    657 non-null int64\n",
      "in_reply_to_user_id      657 non-null int64\n",
      "timestamp                657 non-null datetime64[ns]\n",
      "source                   657 non-null category\n",
      "text                     657 non-null object\n",
      "expanded_urls            657 non-null object\n",
      "rating_numerator         657 non-null int64\n",
      "rating_denominator       657 non-null int64\n",
      "name                     657 non-null object\n",
      "stage                    657 non-null category\n",
      "dtypes: category(2), datetime64[ns](1), int64(5), object(3)\n",
      "memory usage: 72.9+ KB\n"
     ]
    }
   ],
   "source": [
    "# Continue checking / confirming this loads correctly\n",
    "twitter_archive_clean.info()"
   ]
  },
  {
   "cell_type": "markdown",
   "metadata": {},
   "source": [
    "### Define \n",
    "\n",
    "##### Create / add breed; retweet_count; favorite_count columns \n",
    "##### Combine retweet_count: favorite_count and assign values into DataFrame"
   ]
  },
  {
   "cell_type": "markdown",
   "metadata": {},
   "source": [
    "### Code"
   ]
  },
  {
   "cell_type": "code",
   "execution_count": 157,
   "metadata": {},
   "outputs": [],
   "source": [
    "# Add / create breed, retweet_count and favorite_count columns\n",
    "twitter_archive_clean['breed'] = 'None'\n",
    "twitter_archive_clean['retweet_count'] = 0\n",
    "twitter_archive_clean['favorite_count'] = 0"
   ]
  },
  {
   "cell_type": "code",
   "execution_count": 158,
   "metadata": {},
   "outputs": [
    {
     "name": "stderr",
     "output_type": "stream",
     "text": [
      "/opt/conda/lib/python3.6/site-packages/ipykernel_launcher.py:3: FutureWarning: set_value is deprecated and will be removed in a future release. Please use .at[] or .iat[] accessors instead\n",
      "  This is separate from the ipykernel package so we can avoid doing imports until\n",
      "/opt/conda/lib/python3.6/site-packages/ipykernel_launcher.py:4: FutureWarning: set_value is deprecated and will be removed in a future release. Please use .at[] or .iat[] accessors instead\n",
      "  after removing the cwd from sys.path.\n"
     ]
    }
   ],
   "source": [
    "# Check / iterate \n",
    "for i, row in twitter_archive_clean.iterrows():\n",
    "    twitter_archive_clean.set_value(i, 'retweet_count', status_df[status_df.tweet_id == row.tweet_id].retweet_count.iloc[0])\n",
    "    twitter_archive_clean.set_value(i, 'favorite_count', status_df[status_df.tweet_id == row.tweet_id].favorite_count.iloc[0])    \n",
    "    \n",
    "    image_prediction_df = image_predictions_df[image_predictions_df.tweet_id == row.tweet_id]\n",
    "    p1_conf = image_predictions_df.p1_conf.iloc[0]\n",
    "    p1_dog = image_predictions_df.p1_dog.iloc[0]\n",
    "    #  Check for 95% confidence interval / is true for p1_dog\n",
    "    if p1_conf >= 0.95 and p1_dog:\n",
    "        twitter_archive_clean.set_value(i, 'breed', image_predictions_df.p1.iloc[0])"
   ]
  },
  {
   "cell_type": "markdown",
   "metadata": {},
   "source": [
    "### Test"
   ]
  },
  {
   "cell_type": "code",
   "execution_count": 159,
   "metadata": {},
   "outputs": [
    {
     "data": {
      "text/plain": [
       "None    657\n",
       "Name: breed, dtype: int64"
      ]
     },
     "execution_count": 159,
     "metadata": {},
     "output_type": "execute_result"
    }
   ],
   "source": [
    "# Continue checking / confirming this loads correctly\n",
    "twitter_archive_clean.breed.value_counts()"
   ]
  },
  {
   "cell_type": "code",
   "execution_count": 160,
   "metadata": {},
   "outputs": [
    {
     "data": {
      "text/html": [
       "<div>\n",
       "<style scoped>\n",
       "    .dataframe tbody tr th:only-of-type {\n",
       "        vertical-align: middle;\n",
       "    }\n",
       "\n",
       "    .dataframe tbody tr th {\n",
       "        vertical-align: top;\n",
       "    }\n",
       "\n",
       "    .dataframe thead th {\n",
       "        text-align: right;\n",
       "    }\n",
       "</style>\n",
       "<table border=\"1\" class=\"dataframe\">\n",
       "  <thead>\n",
       "    <tr style=\"text-align: right;\">\n",
       "      <th></th>\n",
       "      <th>tweet_id</th>\n",
       "      <th>retweet_count</th>\n",
       "      <th>favorite_count</th>\n",
       "    </tr>\n",
       "  </thead>\n",
       "  <tbody>\n",
       "    <tr>\n",
       "      <th>194</th>\n",
       "      <td>844223788422217728</td>\n",
       "      <td>2292</td>\n",
       "      <td>13983</td>\n",
       "    </tr>\n",
       "    <tr>\n",
       "      <th>116</th>\n",
       "      <td>863553081350529029</td>\n",
       "      <td>4141</td>\n",
       "      <td>15106</td>\n",
       "    </tr>\n",
       "    <tr>\n",
       "      <th>330</th>\n",
       "      <td>819004803107983360</td>\n",
       "      <td>39429</td>\n",
       "      <td>90903</td>\n",
       "    </tr>\n",
       "    <tr>\n",
       "      <th>476</th>\n",
       "      <td>791312159183634433</td>\n",
       "      <td>2734</td>\n",
       "      <td>9273</td>\n",
       "    </tr>\n",
       "    <tr>\n",
       "      <th>39</th>\n",
       "      <td>883482846933004288</td>\n",
       "      <td>9530</td>\n",
       "      <td>44464</td>\n",
       "    </tr>\n",
       "  </tbody>\n",
       "</table>\n",
       "</div>"
      ],
      "text/plain": [
       "               tweet_id  retweet_count  favorite_count\n",
       "194  844223788422217728           2292           13983\n",
       "116  863553081350529029           4141           15106\n",
       "330  819004803107983360          39429           90903\n",
       "476  791312159183634433           2734            9273\n",
       "39   883482846933004288           9530           44464"
      ]
     },
     "execution_count": 160,
     "metadata": {},
     "output_type": "execute_result"
    }
   ],
   "source": [
    "# Check / confirm this DataFrame loads / is viewable\n",
    "twitter_archive_clean[['tweet_id', 'retweet_count', 'favorite_count']].sample(5)"
   ]
  },
  {
   "cell_type": "markdown",
   "metadata": {},
   "source": [
    "### Store DataFrame"
   ]
  },
  {
   "cell_type": "code",
   "execution_count": 161,
   "metadata": {},
   "outputs": [],
   "source": [
    "# Process / store clean Twitter archive\n",
    "twitter_archive_clean.to_csv('twitter_archive_master.csv', encoding='utf-8', index=False)"
   ]
  },
  {
   "cell_type": "markdown",
   "metadata": {},
   "source": [
    "### Analyze DataFrame"
   ]
  },
  {
   "cell_type": "code",
   "execution_count": 162,
   "metadata": {},
   "outputs": [],
   "source": [
    "# For further analysis, create a copy of this cleaned archive\n",
    "twitter_df = twitter_archive_clean.copy()"
   ]
  },
  {
   "cell_type": "code",
   "execution_count": 163,
   "metadata": {},
   "outputs": [
    {
     "data": {
      "text/html": [
       "<div>\n",
       "<style scoped>\n",
       "    .dataframe tbody tr th:only-of-type {\n",
       "        vertical-align: middle;\n",
       "    }\n",
       "\n",
       "    .dataframe tbody tr th {\n",
       "        vertical-align: top;\n",
       "    }\n",
       "\n",
       "    .dataframe thead th {\n",
       "        text-align: right;\n",
       "    }\n",
       "</style>\n",
       "<table border=\"1\" class=\"dataframe\">\n",
       "  <thead>\n",
       "    <tr style=\"text-align: right;\">\n",
       "      <th></th>\n",
       "      <th>tweet_id</th>\n",
       "      <th>in_reply_to_status_id</th>\n",
       "      <th>in_reply_to_user_id</th>\n",
       "      <th>timestamp</th>\n",
       "      <th>source</th>\n",
       "      <th>text</th>\n",
       "      <th>expanded_urls</th>\n",
       "      <th>rating_numerator</th>\n",
       "      <th>rating_denominator</th>\n",
       "      <th>name</th>\n",
       "      <th>stage</th>\n",
       "      <th>breed</th>\n",
       "      <th>retweet_count</th>\n",
       "      <th>favorite_count</th>\n",
       "    </tr>\n",
       "  </thead>\n",
       "  <tbody>\n",
       "    <tr>\n",
       "      <th>0</th>\n",
       "      <td>892420643555336193</td>\n",
       "      <td>0</td>\n",
       "      <td>0</td>\n",
       "      <td>2017-08-01 16:23:56</td>\n",
       "      <td>Twitter for iPhone</td>\n",
       "      <td>This is Phineas. He's a mystical boy. Only eve...</td>\n",
       "      <td>https://twitter.com/dog_rates/status/892420643...</td>\n",
       "      <td>13</td>\n",
       "      <td>10</td>\n",
       "      <td>Phineas</td>\n",
       "      <td>None</td>\n",
       "      <td>None</td>\n",
       "      <td>8148</td>\n",
       "      <td>37462</td>\n",
       "    </tr>\n",
       "    <tr>\n",
       "      <th>1</th>\n",
       "      <td>892177421306343426</td>\n",
       "      <td>0</td>\n",
       "      <td>0</td>\n",
       "      <td>2017-08-01 00:17:27</td>\n",
       "      <td>Twitter for iPhone</td>\n",
       "      <td>This is Tilly. She's just checking pup on you....</td>\n",
       "      <td>https://twitter.com/dog_rates/status/892177421...</td>\n",
       "      <td>13</td>\n",
       "      <td>10</td>\n",
       "      <td>Tilly</td>\n",
       "      <td>None</td>\n",
       "      <td>None</td>\n",
       "      <td>6034</td>\n",
       "      <td>32190</td>\n",
       "    </tr>\n",
       "    <tr>\n",
       "      <th>2</th>\n",
       "      <td>891815181378084864</td>\n",
       "      <td>0</td>\n",
       "      <td>0</td>\n",
       "      <td>2017-07-31 00:18:03</td>\n",
       "      <td>Twitter for iPhone</td>\n",
       "      <td>This is Archie. He is a rare Norwegian Pouncin...</td>\n",
       "      <td>https://twitter.com/dog_rates/status/891815181...</td>\n",
       "      <td>12</td>\n",
       "      <td>10</td>\n",
       "      <td>Archie</td>\n",
       "      <td>None</td>\n",
       "      <td>None</td>\n",
       "      <td>3993</td>\n",
       "      <td>24268</td>\n",
       "    </tr>\n",
       "    <tr>\n",
       "      <th>3</th>\n",
       "      <td>891689557279858688</td>\n",
       "      <td>0</td>\n",
       "      <td>0</td>\n",
       "      <td>2017-07-30 15:58:51</td>\n",
       "      <td>Twitter for iPhone</td>\n",
       "      <td>This is Darla. She commenced a snooze mid meal...</td>\n",
       "      <td>https://twitter.com/dog_rates/status/891689557...</td>\n",
       "      <td>13</td>\n",
       "      <td>10</td>\n",
       "      <td>Darla</td>\n",
       "      <td>None</td>\n",
       "      <td>None</td>\n",
       "      <td>8309</td>\n",
       "      <td>40758</td>\n",
       "    </tr>\n",
       "    <tr>\n",
       "      <th>4</th>\n",
       "      <td>891327558926688256</td>\n",
       "      <td>0</td>\n",
       "      <td>0</td>\n",
       "      <td>2017-07-29 16:00:24</td>\n",
       "      <td>Twitter for iPhone</td>\n",
       "      <td>This is Franklin. He would like you to stop ca...</td>\n",
       "      <td>https://twitter.com/dog_rates/status/891327558...</td>\n",
       "      <td>12</td>\n",
       "      <td>10</td>\n",
       "      <td>Franklin</td>\n",
       "      <td>None</td>\n",
       "      <td>None</td>\n",
       "      <td>9001</td>\n",
       "      <td>38993</td>\n",
       "    </tr>\n",
       "  </tbody>\n",
       "</table>\n",
       "</div>"
      ],
      "text/plain": [
       "             tweet_id  in_reply_to_status_id  in_reply_to_user_id  \\\n",
       "0  892420643555336193                      0                    0   \n",
       "1  892177421306343426                      0                    0   \n",
       "2  891815181378084864                      0                    0   \n",
       "3  891689557279858688                      0                    0   \n",
       "4  891327558926688256                      0                    0   \n",
       "\n",
       "            timestamp              source  \\\n",
       "0 2017-08-01 16:23:56  Twitter for iPhone   \n",
       "1 2017-08-01 00:17:27  Twitter for iPhone   \n",
       "2 2017-07-31 00:18:03  Twitter for iPhone   \n",
       "3 2017-07-30 15:58:51  Twitter for iPhone   \n",
       "4 2017-07-29 16:00:24  Twitter for iPhone   \n",
       "\n",
       "                                                text  \\\n",
       "0  This is Phineas. He's a mystical boy. Only eve...   \n",
       "1  This is Tilly. She's just checking pup on you....   \n",
       "2  This is Archie. He is a rare Norwegian Pouncin...   \n",
       "3  This is Darla. She commenced a snooze mid meal...   \n",
       "4  This is Franklin. He would like you to stop ca...   \n",
       "\n",
       "                                       expanded_urls  rating_numerator  \\\n",
       "0  https://twitter.com/dog_rates/status/892420643...                13   \n",
       "1  https://twitter.com/dog_rates/status/892177421...                13   \n",
       "2  https://twitter.com/dog_rates/status/891815181...                12   \n",
       "3  https://twitter.com/dog_rates/status/891689557...                13   \n",
       "4  https://twitter.com/dog_rates/status/891327558...                12   \n",
       "\n",
       "   rating_denominator      name stage breed  retweet_count  favorite_count  \n",
       "0                  10   Phineas  None  None           8148           37462  \n",
       "1                  10     Tilly  None  None           6034           32190  \n",
       "2                  10    Archie  None  None           3993           24268  \n",
       "3                  10     Darla  None  None           8309           40758  \n",
       "4                  10  Franklin  None  None           9001           38993  "
      ]
     },
     "execution_count": 163,
     "metadata": {},
     "output_type": "execute_result"
    }
   ],
   "source": [
    "# Check / confirm this DataFrame loads / is viewable\n",
    "twitter_df.head()"
   ]
  },
  {
   "cell_type": "code",
   "execution_count": 164,
   "metadata": {},
   "outputs": [
    {
     "name": "stdout",
     "output_type": "stream",
     "text": [
      "<class 'pandas.core.frame.DataFrame'>\n",
      "Int64Index: 657 entries, 0 to 656\n",
      "Data columns (total 14 columns):\n",
      "tweet_id                 657 non-null int64\n",
      "in_reply_to_status_id    657 non-null int64\n",
      "in_reply_to_user_id      657 non-null int64\n",
      "timestamp                657 non-null datetime64[ns]\n",
      "source                   657 non-null category\n",
      "text                     657 non-null object\n",
      "expanded_urls            657 non-null object\n",
      "rating_numerator         657 non-null int64\n",
      "rating_denominator       657 non-null int64\n",
      "name                     657 non-null object\n",
      "stage                    657 non-null category\n",
      "breed                    657 non-null object\n",
      "retweet_count            657 non-null int64\n",
      "favorite_count           657 non-null int64\n",
      "dtypes: category(2), datetime64[ns](1), int64(7), object(4)\n",
      "memory usage: 68.3+ KB\n"
     ]
    }
   ],
   "source": [
    "# Continue checking / confirming this loads correctly\n",
    "twitter_df.info()"
   ]
  },
  {
   "cell_type": "code",
   "execution_count": 165,
   "metadata": {},
   "outputs": [
    {
     "data": {
      "text/plain": [
       "2016-07     9\n",
       "2016-08    59\n",
       "2016-09    63\n",
       "2016-10    65\n",
       "2016-11    53\n",
       "2016-12    54\n",
       "2017-01    66\n",
       "2017-02    63\n",
       "2017-03    47\n",
       "2017-04    41\n",
       "2017-05    43\n",
       "2017-06    43\n",
       "2017-07    49\n",
       "2017-08     2\n",
       "Name: timestamp, dtype: int64"
      ]
     },
     "execution_count": 165,
     "metadata": {},
     "output_type": "execute_result"
    }
   ],
   "source": [
    "# @WeRateDog Tweets - analysis over time \n",
    "twitter_df['timestamp'].apply(lambda x: x.strftime('%Y-%m')).value_counts().sort_index()"
   ]
  },
  {
   "cell_type": "code",
   "execution_count": 166,
   "metadata": {},
   "outputs": [
    {
     "data": {
      "text/plain": [
       "Twitter for iPhone    651\n",
       "Twitter Web Client      6\n",
       "TweetDeck               0\n",
       "Name: source, dtype: int64"
      ]
     },
     "execution_count": 166,
     "metadata": {},
     "output_type": "execute_result"
    }
   ],
   "source": [
    "# Top @WeRateDogs medium most likely to be used \n",
    "twitter_df['source'].value_counts()"
   ]
  },
  {
   "cell_type": "code",
   "execution_count": 167,
   "metadata": {},
   "outputs": [
    {
     "data": {
      "text/plain": [
       "0       1\n",
       "3       1\n",
       "4       1\n",
       "5       1\n",
       "6       1\n",
       "7       2\n",
       "8       2\n",
       "9       1\n",
       "10     39\n",
       "11    124\n",
       "12    245\n",
       "13    205\n",
       "14     33\n",
       "24      1\n",
       "Name: rating_numerator, dtype: int64"
      ]
     },
     "execution_count": 167,
     "metadata": {},
     "output_type": "execute_result"
    }
   ],
   "source": [
    "# Misc. @WeRateDogs' analysis ratings\n",
    "twitter_df['rating_numerator'].value_counts().sort_index()"
   ]
  },
  {
   "cell_type": "code",
   "execution_count": 168,
   "metadata": {},
   "outputs": [
    {
     "data": {
      "text/plain": [
       "608"
      ]
     },
     "execution_count": 168,
     "metadata": {},
     "output_type": "execute_result"
    }
   ],
   "source": [
    "# Continue checking / confirming this loads correctly\n",
    "twitter_df['rating_numerator'][twitter_df['rating_numerator'] > 10].value_counts().sum()"
   ]
  },
  {
   "cell_type": "code",
   "execution_count": 169,
   "metadata": {},
   "outputs": [
    {
     "data": {
      "text/plain": [
       "None    657\n",
       "Name: breed, dtype: int64"
      ]
     },
     "execution_count": 169,
     "metadata": {},
     "output_type": "execute_result"
    }
   ],
   "source": [
    "# Check / confirm dog-breed compared to image prediction\n",
    "twitter_df['breed'][twitter_df['breed'] == 'None'].value_counts()"
   ]
  },
  {
   "cell_type": "code",
   "execution_count": 170,
   "metadata": {},
   "outputs": [
    {
     "name": "stdout",
     "output_type": "stream",
     "text": [
      "Mean Retweet Count\t4859.0\n",
      "Mean Favorite Count\t18091.0\n"
     ]
    }
   ],
   "source": [
    "# Mean: Retweet / Favorite counts analysis \n",
    "print('%s\\t%s' % ('Mean Retweet Count', round(twitter_df.retweet_count.mean())))\n",
    "print('%s\\t%s' % ('Mean Favorite Count', round(twitter_df.favorite_count.mean())))"
   ]
  },
  {
   "cell_type": "code",
   "execution_count": 171,
   "metadata": {},
   "outputs": [
    {
     "name": "stdout",
     "output_type": "stream",
     "text": [
      "Mean Retweet Count\t4994.0\n",
      "Mean Favorite Count\t18695.0\n"
     ]
    }
   ],
   "source": [
    "# Mean: 10-plus Dog Rating Retweets / Favorites analysis\n",
    "print('%s\\t%s' % ('Mean Retweet Count', \n",
    "                  round(twitter_df.retweet_count[twitter_df.rating_numerator > 10].mean())))\n",
    "print('%s\\t%s' % ('Mean Favorite Count', \n",
    "                  round(twitter_df.favorite_count[twitter_df.rating_numerator > 10].mean())))"
   ]
  },
  {
   "cell_type": "code",
   "execution_count": 172,
   "metadata": {},
   "outputs": [
    {
     "name": "stdout",
     "output_type": "stream",
     "text": [
      "Mean Retweet Count\t4528.0\n",
      "Mean Favorite Count\t17269.0\n"
     ]
    }
   ],
   "source": [
    "# Mean: Named-dog Retweets / Favorites analysis\n",
    "print('%s\\t%s' % ('Mean Retweet Count', \n",
    "                  round(twitter_df.retweet_count[twitter_df.name != 'None'].mean())))\n",
    "print('%s\\t%s' % ('Mean Favorite Count', \n",
    "                  round(twitter_df.favorite_count[twitter_df.name != 'None'].mean())))"
   ]
  },
  {
   "cell_type": "code",
   "execution_count": 173,
   "metadata": {},
   "outputs": [
    {
     "name": "stdout",
     "output_type": "stream",
     "text": [
      "Doggo\n",
      "Mean Retweet Count\t5289.0\n",
      "Mean Favorite Count\t17541.0\n",
      "Floofer\n",
      "Mean Retweet Count\t6722.0\n",
      "Mean Favorite Count\t20365.0\n",
      "Pupper\n",
      "Mean Retweet Count\t5625.0\n",
      "Mean Favorite Count\t19944.0\n",
      "Puppo\n",
      "Mean Retweet Count\t8436.0\n",
      "Mean Favorite Count\t28547.0\n"
     ]
    }
   ],
   "source": [
    "# @WeRateDogs Mean: Categorical Retweet / Favorite Counts analysis  \n",
    "\n",
    "print('Doggo')\n",
    "print('%s\\t%s' % ('Mean Retweet Count', \n",
    "                  round(twitter_df.retweet_count[twitter_df.stage == 'doggo'].mean())))\n",
    "print('%s\\t%s' % ('Mean Favorite Count', \n",
    "                  round(twitter_df.favorite_count[twitter_df.stage == 'doggo'].mean())))\n",
    "\n",
    "print('Floofer')\n",
    "print('%s\\t%s' % ('Mean Retweet Count', \n",
    "                  round(twitter_df.retweet_count[twitter_df.stage == 'floofer'].mean())))\n",
    "print('%s\\t%s' % ('Mean Favorite Count', \n",
    "                  round(twitter_df.favorite_count[twitter_df.stage == 'floofer'].mean())))\n",
    "\n",
    "print('Pupper')\n",
    "print('%s\\t%s' % ('Mean Retweet Count', \n",
    "                  round(twitter_df.retweet_count[twitter_df.stage == 'pupper'].mean())))\n",
    "print('%s\\t%s' % ('Mean Favorite Count', \n",
    "                  round(twitter_df.favorite_count[twitter_df.stage == 'pupper'].mean())))\n",
    "\n",
    "print('Puppo')\n",
    "print('%s\\t%s' % ('Mean Retweet Count', \n",
    "                  round(twitter_df.retweet_count[twitter_df.stage == 'puppo'].mean())))\n",
    "print('%s\\t%s' % ('Mean Favorite Count', \n",
    "                  round(twitter_df.favorite_count[twitter_df.stage == 'puppo'].mean())))"
   ]
  },
  {
   "cell_type": "code",
   "execution_count": 174,
   "metadata": {},
   "outputs": [
    {
     "data": {
      "text/plain": [
       "None           127\n",
       "Charlie          6\n",
       "Penny            5\n",
       "Tucker           5\n",
       "Bo               4\n",
       "Daisy            4\n",
       "Winston          4\n",
       "Lucy             4\n",
       "Stanley          4\n",
       "Cooper           4\n",
       "Jeffrey          3\n",
       "Winnie           3\n",
       "Waffles          3\n",
       "Toby             3\n",
       "Bailey           3\n",
       "Koda             3\n",
       "Dave             3\n",
       "Oakley           3\n",
       "Jack             3\n",
       "Loki             3\n",
       "Bear             3\n",
       "Rusty            3\n",
       "Finn             3\n",
       "Leo              3\n",
       "Clark            3\n",
       "Scout            3\n",
       "Oliver           3\n",
       "Boomer           3\n",
       "Zeke             3\n",
       "Atlas            2\n",
       "              ... \n",
       "Binky            1\n",
       "Carbon           1\n",
       "Dixie            1\n",
       "Steven           1\n",
       "Beebop           1\n",
       "Tove             1\n",
       "Meera            1\n",
       "Dutch            1\n",
       "Mattie           1\n",
       "Georgie          1\n",
       "Eugene           1\n",
       "Callie           1\n",
       "Clifford         1\n",
       "Tebow            1\n",
       "Shakespeare      1\n",
       "Alexander        1\n",
       "Eevee            1\n",
       "Brandi           1\n",
       "Kyle             1\n",
       "Willem           1\n",
       "Snoop            1\n",
       "Ken              1\n",
       "Stephan          1\n",
       "Trooper          1\n",
       "Duchess          1\n",
       "Sojourner        1\n",
       "Indie            1\n",
       "Samson           1\n",
       "Thor             1\n",
       "Howie            1\n",
       "Name: name, Length: 409, dtype: int64"
      ]
     },
     "execution_count": 174,
     "metadata": {},
     "output_type": "execute_result"
    }
   ],
   "source": [
    "# Continue checking / confirming this loads correctly\n",
    "twitter_df.name.value_counts()"
   ]
  },
  {
   "cell_type": "markdown",
   "metadata": {},
   "source": [
    "Unexpected non-sequitur: iPhone Bias and/or Smartphone market dominance?\n",
    "\n",
    "This could be an interesting analysis; possible questions might include -  \n",
    "\n",
    "Do more iPhone users own dogs than Android-OS users? \n",
    "\n",
    "How does Twitter track Android-OS handset user-information? \n",
    "\n",
    "Is Twitter biased against Google / towards Apple? \n",
    "\n",
    "Was '@WeRateDogs' more popular with iPhone owners versus Android owners?"
   ]
  },
  {
   "cell_type": "code",
   "execution_count": 175,
   "metadata": {},
   "outputs": [
    {
     "data": {
      "text/plain": [
       "'Twitter for iPhone'"
      ]
     },
     "execution_count": 175,
     "metadata": {},
     "output_type": "execute_result"
    }
   ],
   "source": [
    "# Select random source option \n",
    "twitter_df['source'][2]"
   ]
  },
  {
   "cell_type": "code",
   "execution_count": 176,
   "metadata": {},
   "outputs": [
    {
     "data": {
      "text/plain": [
       "'Twitter for iPhone'"
      ]
     },
     "execution_count": 176,
     "metadata": {},
     "output_type": "execute_result"
    }
   ],
   "source": [
    "# Select remaining options; 1, 3, 4, 5, 6, 7, 8, 9, 10\n",
    "twitter_df['source'][1]"
   ]
  },
  {
   "cell_type": "code",
   "execution_count": 177,
   "metadata": {},
   "outputs": [
    {
     "data": {
      "text/plain": [
       "'Twitter for iPhone'"
      ]
     },
     "execution_count": 177,
     "metadata": {},
     "output_type": "execute_result"
    }
   ],
   "source": [
    "twitter_df['source'][3]"
   ]
  },
  {
   "cell_type": "code",
   "execution_count": 178,
   "metadata": {},
   "outputs": [
    {
     "data": {
      "text/plain": [
       "'Twitter for iPhone'"
      ]
     },
     "execution_count": 178,
     "metadata": {},
     "output_type": "execute_result"
    }
   ],
   "source": [
    "twitter_df['source'][4]"
   ]
  },
  {
   "cell_type": "code",
   "execution_count": 179,
   "metadata": {},
   "outputs": [
    {
     "data": {
      "text/plain": [
       "'Twitter for iPhone'"
      ]
     },
     "execution_count": 179,
     "metadata": {},
     "output_type": "execute_result"
    }
   ],
   "source": [
    "twitter_df['source'][5]"
   ]
  },
  {
   "cell_type": "code",
   "execution_count": 180,
   "metadata": {},
   "outputs": [
    {
     "data": {
      "text/plain": [
       "'Twitter for iPhone'"
      ]
     },
     "execution_count": 180,
     "metadata": {},
     "output_type": "execute_result"
    }
   ],
   "source": [
    "twitter_df['source'][6]"
   ]
  },
  {
   "cell_type": "code",
   "execution_count": 181,
   "metadata": {},
   "outputs": [
    {
     "data": {
      "text/plain": [
       "'Twitter for iPhone'"
      ]
     },
     "execution_count": 181,
     "metadata": {},
     "output_type": "execute_result"
    }
   ],
   "source": [
    "twitter_df['source'][7]"
   ]
  },
  {
   "cell_type": "code",
   "execution_count": 182,
   "metadata": {},
   "outputs": [
    {
     "data": {
      "text/plain": [
       "'Twitter for iPhone'"
      ]
     },
     "execution_count": 182,
     "metadata": {},
     "output_type": "execute_result"
    }
   ],
   "source": [
    "twitter_df['source'][8]"
   ]
  },
  {
   "cell_type": "code",
   "execution_count": 183,
   "metadata": {},
   "outputs": [
    {
     "data": {
      "text/plain": [
       "'Twitter for iPhone'"
      ]
     },
     "execution_count": 183,
     "metadata": {},
     "output_type": "execute_result"
    }
   ],
   "source": [
    "twitter_df['source'][9]"
   ]
  },
  {
   "cell_type": "code",
   "execution_count": 184,
   "metadata": {},
   "outputs": [
    {
     "data": {
      "text/plain": [
       "'Twitter for iPhone'"
      ]
     },
     "execution_count": 184,
     "metadata": {},
     "output_type": "execute_result"
    }
   ],
   "source": [
    "twitter_df['source'][10]"
   ]
  },
  {
   "cell_type": "markdown",
   "metadata": {},
   "source": [
    "# Data Visualizations\n",
    "\n",
    "Display misc. @WeRateDog categories graphically "
   ]
  },
  {
   "cell_type": "code",
   "execution_count": 185,
   "metadata": {},
   "outputs": [],
   "source": [
    "# Load required visualization program\n",
    "import matplotlib.pyplot as plt\n",
    "%matplotlib inline\n",
    "plt.rcParams[\"figure.figsize\"] = [12, 9]"
   ]
  },
  {
   "cell_type": "code",
   "execution_count": 186,
   "metadata": {},
   "outputs": [
    {
     "data": {
      "image/png": "[encoded data removed]",
      "text/plain": [
       "<matplotlib.figure.Figure at 0x7fb95105dda0>"
      ]
     },
     "metadata": {
      "needs_background": "light"
     },
     "output_type": "display_data"
    }
   ],
   "source": [
    "# iPhone in a landslide... See cell #127 for possible questions\n",
    "twitter_df['source'].value_counts().plot('barh', figsize=(11,5), title='Twitter Medium').set_xlabel(\"Total Tweets\")\n",
    "plt.savefig('twitter_source')"
   ]
  },
  {
   "cell_type": "code",
   "execution_count": 187,
   "metadata": {},
   "outputs": [
    {
     "data": {
      "image/png": "[encoded data removed]",
      "text/plain": [
       "<matplotlib.figure.Figure at 0x7fb951070358>"
      ]
     },
     "metadata": {
      "needs_background": "light"
     },
     "output_type": "display_data"
    }
   ],
   "source": [
    "# Most common @WeRateDogs names horizontal bar chart\n",
    "twitter_df.name.value_counts()[1:7].plot('barh', figsize=(11,5), title='@WeRateDogs Most Common Names').set_xlabel(\"Total Dogs\")\n",
    "plt.savefig('dog_names')"
   ]
  },
  {
   "cell_type": "code",
   "execution_count": 188,
   "metadata": {},
   "outputs": [
    {
     "data": {
      "image/png": "[encoded data removed]",
      "text/plain": [
       "<matplotlib.figure.Figure at 0x7fb94edc3518>"
      ]
     },
     "metadata": {
      "needs_background": "light"
     },
     "output_type": "display_data"
    }
   ],
   "source": [
    "# @WeRateDogs Retweets / Favorites graph\n",
    "plt.subplots(1, sharex=True)\n",
    "twitter_df.retweet_count.groupby([twitter_df[\"timestamp\"].dt.year, twitter_df[\"timestamp\"].dt.month]).mean().plot('line')\n",
    "twitter_df.favorite_count.groupby([twitter_df[\"timestamp\"].dt.year, twitter_df[\"timestamp\"].dt.month]).mean().plot('line').set_ylim(0, )\n",
    "plt.title('Retweets / Favorites')\n",
    "plt.ylabel('Total Count')\n",
    "plt.xlabel(\"(Year: 2015 - 2016 - 2017)\")\n",
    "plt.legend(('Retweets', 'Favorites'))\n",
    "plt.savefig('ret_fav')"
   ]
  },
  {
   "cell_type": "code",
   "execution_count": 189,
   "metadata": {},
   "outputs": [
    {
     "data": {
      "image/png": "[encoded data removed]",
      "text/plain": [
       "<matplotlib.figure.Figure at 0x7fb9515c1eb8>"
      ]
     },
     "metadata": {
      "needs_background": "light"
     },
     "output_type": "display_data"
    }
   ],
   "source": [
    "# @WeRateDogs Tweet Trends graph\n",
    "data = twitter_df.tweet_id.groupby([twitter_df[\"timestamp\"].dt.year, twitter_df[\"timestamp\"].dt.month]).count()\n",
    "ax = data.plot('line', title='@WeRateDogs Tweet Trends')\n",
    "ax.set_xlabel(\"(Year: 2015 - 2016 - 2017)\")\n",
    "ax.set_ylabel(\"Tweet Volume\")\n",
    "ax.set_ylim(0, )\n",
    "plt.savefig('tweet_trend')"
   ]
  },
  {
   "cell_type": "code",
   "execution_count": 190,
   "metadata": {},
   "outputs": [
    {
     "data": {
      "image/png": "[encoded data removed]",
      "text/plain": [
       "<matplotlib.figure.Figure at 0x7fb94ed89198>"
      ]
     },
     "metadata": {
      "needs_background": "light"
     },
     "output_type": "display_data"
    }
   ],
   "source": [
    "# @WeRateDogs Distribution Rating vertical bar chart \n",
    "ax = twitter_df.rating_numerator.value_counts().sort_index().plot('bar', title = 'Dog Distribution Rating')\n",
    "ax.set_xlabel(\"Rated out of 10 (or Higher)\")\n",
    "ax.set_ylabel(\"Total Dogs\")\n",
    "ax.set_yticks([0, 50, 100, 150, 200, 250, 300, 350, 400, 450])\n",
    "plt.savefig('rating_dist')"
   ]
  },
  {
   "cell_type": "code",
   "execution_count": 191,
   "metadata": {},
   "outputs": [
    {
     "data": {
      "image/png": "[encoded data removed]",
      "text/plain": [
       "<matplotlib.figure.Figure at 0x7fb94ec48240>"
      ]
     },
     "metadata": {
      "needs_background": "light"
     },
     "output_type": "display_data"
    }
   ],
   "source": [
    "# @WeRateDogs Scatterplot\n",
    "twitter_df.plot.scatter('retweet_count', 'favorite_count')\n",
    "plt.title(\"Retweets Favorites\")\n",
    "plt.savefig('retfavscatter.png')"
   ]
  },
  {
   "cell_type": "code",
   "execution_count": 152,
   "metadata": {},
   "outputs": [
    {
     "data": {
      "image/png": "[encoded data removed]",
      "text/plain": [
       "<matplotlib.figure.Figure at 0x7f1ef87119b0>"
      ]
     },
     "metadata": {
      "needs_background": "light"
     },
     "output_type": "display_data"
    }
   ],
   "source": [
    "# @WeRateDogs Favorite_count Plot \n",
    "twitter_df['favorite_count'].plot()\n",
    "plt.style.use('seaborn-darkgrid')\n",
    "plt.xlabel('Time')\n",
    "plt.ylabel('Ratio')\n",
    "plt.title('Rating Ratio over Time')\n",
    "plt.savefig('ratio.png')\n",
    "plt.show()"
   ]
  },
  {
   "cell_type": "code",
   "execution_count": 192,
   "metadata": {},
   "outputs": [
    {
     "data": {
      "image/png": "[encoded data removed]",
      "text/plain": [
       "<matplotlib.figure.Figure at 0x7fb94ec486d8>"
      ]
     },
     "metadata": {
      "needs_background": "light"
     },
     "output_type": "display_data"
    }
   ],
   "source": [
    "# @WeRateDogs Retweet_count Plot \n",
    "twitter_df['retweet_count'].plot()\n",
    "plt.style.use('seaborn-darkgrid')\n",
    "plt.xlabel('Time')\n",
    "plt.ylabel('Ratio')\n",
    "plt.title('Rating Ratio over Time')\n",
    "plt.savefig('ratio.png')\n",
    "plt.show()"
   ]
  },
  {
   "cell_type": "markdown",
   "metadata": {},
   "source": [
    "### References \n",
    "\n",
    "https://acadgild.com/blog/6-steps-in-data-wrangling\n",
    "\n",
    "https://docs.scipy.org/doc/numpy/reference/generated/numpy.histogram.html\n",
    "\n",
    "https://knowledge.udacity.com/?nanodegree=5d1a8326-496f-11e8-b51d-0b52a2c1b841&page=1&query=twitter%20api&sort=RELEVANCE\n",
    "\n",
    "https://www.markdownguide.org/assets/book/markdown-guide.pdf\n",
    "\n",
    "https://pandas.pydata.org/pandas-docs/stable/reference/api/pandas.DataFrame.html\n",
    "\n",
    "https://pandas.pydata.org/pandas-docs/stable/reference/api/pandas.melt.html\n",
    "\n",
    "https://pandas.pydata.org/Pandas_Cheat_Sheet.pdf\n",
    "\n",
    "https://pandas.pydata.org/pandas-docs/stable/reference/api/pandas.Timestamp.html\n",
    "\n",
    "https://stackoverflow.com/\n",
    "\n",
    "https://stackoverflow.com/questions/28384588/twitter-api-get-tweets-with-specific-id\n",
    "\n",
    "http://uc-r.github.io/why_wrangle\n",
    "\n",
    "###### Udacity Mentor / Reviewer (Twitter API / json-section)"
   ]
  }
 ],
 "metadata": {
  "kernelspec": {
   "display_name": "Python 3",
   "language": "python",
   "name": "python3"
  },
  "language_info": {
   "codemirror_mode": {
    "name": "ipython",
    "version": 3
   },
   "file_extension": ".py",
   "mimetype": "text/x-python",
   "name": "python",
   "nbconvert_exporter": "python",
   "pygments_lexer": "ipython3",
   "version": "3.6.3"
  }
 },
 "nbformat": 4,
 "nbformat_minor": 2
}
